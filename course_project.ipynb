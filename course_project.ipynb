{
  "cells": [
    {
      "cell_type": "markdown",
      "metadata": {
        "id": "7CI8VY4H-qVN"
      },
      "source": [
        "# Course project\n"
      ]
    },
    {
      "cell_type": "markdown",
      "metadata": {
        "id": "hmT1HTih-qVS"
      },
      "source": [
        "## **Основное**\n",
        "- Дедлайн - 31 мая 23:59\n",
        "- Целевая метрика precision@5 > 0.235\n",
        "- Бейзлайн решения - [MainRecommender](https://github.com/geangohn/recsys-tutorial/blob/master/src/recommenders.py)\n",
        "- Сдаем ссылку на github с решением. В решении должны быть отчетливо видна метрика на новом тестовом сете из файла retail_test1.csv, то есть вам нужно для всех юзеров из этого файла выдать выши рекомендации, и посчитать на actual покупках precision@5. \n",
        "\n",
        "**!! Мы не рассматриваем холодный старт для пользователя, все наши пользователя одинаковы во всех сетах, поэтому нужно позаботиться об их исключении из теста.**\n",
        "\n",
        "\n",
        "**Hints:** \n",
        "\n",
        "Сначала просто попробуйте разные параметры MainRecommender:  \n",
        "- N в топ-N товарах при формировании user-item матирцы (сейчас топ-5000)  \n",
        "- Различные веса в user-item матрице (0/1, кол-во покупок, log(кол-во покупок + 1), сумма покупки, ...)  \n",
        "- Разные взвешивания матрицы (TF-IDF, BM25 - у него есть параметры)  \n",
        "- Разные смешивания рекомендаций (обратите внимание на бейзлайн - прошлые покупки юзера)  \n",
        "\n",
        "Сделайте MVP - минимально рабочий продукт - (пусть даже top-popular), а потом его улучшайте\n",
        "\n",
        "Если вы делаете двухуровневую модель - следите за валидацией "
      ]
    },
    {
      "cell_type": "code",
      "execution_count": 1,
      "metadata": {
        "id": "U_USxh0l-qVU"
      },
      "outputs": [],
      "source": [
        "# !pip install implicit==0.4.4"
      ]
    },
    {
      "cell_type": "code",
      "source": [
        "from google.colab import drive\n",
        "drive.mount('/content/drive', force_remount=True)"
      ],
      "metadata": {
        "colab": {
          "base_uri": "https://localhost:8080/"
        },
        "id": "quIbHaVM_qDb",
        "outputId": "8be8d3e3-c8d7-4137-83c4-ab0454f4d465"
      },
      "execution_count": 2,
      "outputs": [
        {
          "output_type": "stream",
          "name": "stdout",
          "text": [
            "Mounted at /content/drive\n"
          ]
        }
      ]
    },
    {
      "cell_type": "code",
      "source": [
        "import sys\n",
        "sys.path.append('/content/drive/MyDrive')\n",
        "!ls /content/drive/MyDrive/*.py"
      ],
      "metadata": {
        "colab": {
          "base_uri": "https://localhost:8080/"
        },
        "id": "tCrGGFHt_lMD",
        "outputId": "cc918b69-28a9-4644-f364-83bbcd899f9d"
      },
      "execution_count": 3,
      "outputs": [
        {
          "output_type": "stream",
          "name": "stdout",
          "text": [
            "/content/drive/MyDrive/metrics.py\t/content/drive/MyDrive/utils.py\n",
            "/content/drive/MyDrive/recommenders.py\n"
          ]
        }
      ]
    },
    {
      "cell_type": "markdown",
      "metadata": {
        "id": "gYojNiHY-qVV"
      },
      "source": [
        "# Import libs"
      ]
    },
    {
      "cell_type": "code",
      "execution_count": 4,
      "metadata": {
        "id": "D1jfIF1p-qVW"
      },
      "outputs": [],
      "source": [
        "import pandas as pd\n",
        "import numpy as np\n",
        "import seaborn as sns\n",
        "import matplotlib.pyplot as plt\n",
        "%matplotlib inline\n",
        "\n",
        "# Для работы с матрицами\n",
        "from scipy.sparse import csr_matrix\n",
        "\n",
        "# Матричная факторизация\n",
        "from implicit import als\n",
        "\n",
        "from sklearn.model_selection import train_test_split, ShuffleSplit, cross_val_score, learning_curve\n",
        "from sklearn.metrics import classification_report, f1_score, precision_score, recall_score\n",
        "from sklearn.model_selection import KFold, GridSearchCV, RandomizedSearchCV\n",
        "\n",
        "# Модель второго уровня\n",
        "from lightgbm import LGBMClassifier\n",
        "\n",
        "import os, sys\n",
        "module_path = os.path.abspath(os.path.join(os.pardir))\n",
        "if module_path not in sys.path:\n",
        "    sys.path.append(module_path)\n",
        "\n",
        "# Написанные нами функции\n",
        "from metrics import precision_at_k, recall_at_k\n",
        "from utils import prefilter_items\n",
        "from recommenders import MainRecommender"
      ]
    },
    {
      "cell_type": "code",
      "source": [
        "def show_feature_importances(feature_names, feature_importances, get_top=None):\n",
        "    feature_importances = pd.DataFrame({'feature': feature_names, 'importance': feature_importances})\n",
        "    feature_importances = feature_importances.sort_values('importance', ascending=False)\n",
        "       \n",
        "    plt.figure(figsize = (20, len(feature_importances) * 0.355))\n",
        "    \n",
        "    sns.barplot(feature_importances['importance'], feature_importances['feature'])\n",
        "    \n",
        "    plt.xlabel('Importance')\n",
        "    plt.title('Importance of features')\n",
        "    plt.show()\n",
        "    \n",
        "    if get_top is not None:\n",
        "        return feature_importances['feature'][:get_top].tolist()"
      ],
      "metadata": {
        "id": "__TmiTeOpMcc"
      },
      "execution_count": 5,
      "outputs": []
    },
    {
      "cell_type": "markdown",
      "metadata": {
        "id": "Jo3SI8-m-qVX"
      },
      "source": [
        "## Read data"
      ]
    },
    {
      "cell_type": "code",
      "execution_count": 6,
      "metadata": {
        "id": "cgEwFZPh-qVX"
      },
      "outputs": [],
      "source": [
        "PATH_DATA = \"drive/MyDrive/\""
      ]
    },
    {
      "cell_type": "code",
      "execution_count": 7,
      "metadata": {
        "id": "2EIcREdD-qVY"
      },
      "outputs": [],
      "source": [
        "data = pd.read_csv(os.path.join(PATH_DATA,'retail_train.csv'))\n",
        "item_features = pd.read_csv(os.path.join(PATH_DATA,'product.csv'))\n",
        "user_features = pd.read_csv(os.path.join(PATH_DATA,'hh_demographic.csv'))"
      ]
    },
    {
      "cell_type": "markdown",
      "metadata": {
        "id": "WuWt_YDZ-qVZ"
      },
      "source": [
        "# Set global const"
      ]
    },
    {
      "cell_type": "code",
      "execution_count": 8,
      "metadata": {
        "id": "JEBjDOs0-qVZ"
      },
      "outputs": [],
      "source": [
        "ITEM_COL = 'item_id'\n",
        "USER_COL = 'user_id'\n",
        "ACTUAL_COL = 'actual'\n",
        "\n",
        "# N = Neighbors\n",
        "N_PREDICT = 70"
      ]
    },
    {
      "cell_type": "markdown",
      "metadata": {
        "id": "y5hyUgt6-qVa"
      },
      "source": [
        "# Process features dataset"
      ]
    },
    {
      "cell_type": "code",
      "execution_count": 9,
      "metadata": {
        "id": "hJFiFII7-qVa"
      },
      "outputs": [],
      "source": [
        "# column processing\n",
        "item_features.columns = [col.lower() for col in item_features.columns]\n",
        "user_features.columns = [col.lower() for col in user_features.columns]\n",
        "\n",
        "item_features.rename(columns={'product_id': ITEM_COL}, inplace=True)\n",
        "user_features.rename(columns={'household_key': USER_COL }, inplace=True)"
      ]
    },
    {
      "cell_type": "markdown",
      "metadata": {
        "id": "2BYwTPFw-qVa"
      },
      "source": [
        "# Split dataset for train, eval, test"
      ]
    },
    {
      "cell_type": "code",
      "execution_count": 10,
      "metadata": {
        "id": "Om5g-MWl-qVb"
      },
      "outputs": [],
      "source": [
        "# Важна схема обучения и валидации!\n",
        "# -- давние покупки -- | -- 6 недель -- | -- 3 недель -- \n",
        "# подобрать размер 2-ого датасета (6 недель) --> learning curve (зависимость метрики recall@k от размера датасета)\n",
        "\n",
        "\n",
        "VAL_MATCHER_WEEKS = 6\n",
        "VAL_RANKER_WEEKS = 3"
      ]
    },
    {
      "cell_type": "code",
      "execution_count": 11,
      "metadata": {
        "scrolled": true,
        "id": "WJPeVgBw-qVc"
      },
      "outputs": [],
      "source": [
        "# берем данные для тренировки matching модели\n",
        "data_train_matcher = data[data['week_no'] < data['week_no'].max() - (VAL_MATCHER_WEEKS + VAL_RANKER_WEEKS)]\n",
        "\n",
        "# берем данные для валидации matching модели\n",
        "data_val_matcher = data[(data['week_no'] >= data['week_no'].max() - (VAL_MATCHER_WEEKS + VAL_RANKER_WEEKS)) &\n",
        "                      (data['week_no'] < data['week_no'].max() - (VAL_RANKER_WEEKS))]\n",
        "\n",
        "# берем данные для тренировки ranking модели\n",
        "data_train_ranker = data_val_matcher.copy()  # Для наглядности. Далее мы добавим изменения, и они будут отличаться\n",
        "\n",
        "# берем данные для теста ranking, matching модели\n",
        "data_val_ranker = data[data['week_no'] >= data['week_no'].max() - VAL_RANKER_WEEKS]"
      ]
    },
    {
      "cell_type": "code",
      "execution_count": 12,
      "metadata": {
        "id": "YfP5Kpr2-qVc"
      },
      "outputs": [],
      "source": [
        "# сделаем объединенный сет данных для первого уровня (матчинга)\n",
        "df_join_train_matcher = pd.concat([data_train_matcher, data_val_matcher])"
      ]
    },
    {
      "cell_type": "code",
      "execution_count": 13,
      "metadata": {
        "id": "s3XOgTIw-qVe"
      },
      "outputs": [],
      "source": [
        "def print_stats_data(df_data, name_df):\n",
        "    print(name_df)\n",
        "    print(f\"Shape: {df_data.shape} Users: {df_data[USER_COL].nunique()} Items: {df_data[ITEM_COL].nunique()}\")"
      ]
    },
    {
      "cell_type": "code",
      "execution_count": 14,
      "metadata": {
        "scrolled": true,
        "colab": {
          "base_uri": "https://localhost:8080/"
        },
        "id": "M-4j0QZs-qVf",
        "outputId": "1d3ff83d-fc07-4476-e587-9adc4a921334"
      },
      "outputs": [
        {
          "output_type": "stream",
          "name": "stdout",
          "text": [
            "train_matcher\n",
            "Shape: (2108779, 12) Users: 2498 Items: 83685\n",
            "val_matcher\n",
            "Shape: (169711, 12) Users: 2154 Items: 27649\n",
            "train_ranker\n",
            "Shape: (169711, 12) Users: 2154 Items: 27649\n",
            "val_ranker\n",
            "Shape: (118314, 12) Users: 2042 Items: 24329\n"
          ]
        }
      ],
      "source": [
        "print_stats_data(data_train_matcher,'train_matcher')\n",
        "print_stats_data(data_val_matcher,'val_matcher')\n",
        "print_stats_data(data_train_ranker,'train_ranker')\n",
        "print_stats_data(data_val_ranker,'val_ranker')"
      ]
    },
    {
      "cell_type": "code",
      "execution_count": 15,
      "metadata": {
        "id": "urmas3BC-qVg"
      },
      "outputs": [],
      "source": [
        "# выше видим разброс по пользователям и товарам и дальше мы перейдем к warm-start (только известные пользователи)"
      ]
    },
    {
      "cell_type": "code",
      "execution_count": 16,
      "metadata": {
        "colab": {
          "base_uri": "https://localhost:8080/",
          "height": 112
        },
        "id": "Qu04I3iK-qVg",
        "outputId": "fc1ec0d2-5716-407e-b144-2bc9c131452f"
      },
      "outputs": [
        {
          "output_type": "execute_result",
          "data": {
            "text/plain": [
              "         user_id    basket_id  day  item_id  quantity  sales_value  store_id  \\\n",
              "2104867     2070  40618492260  594  1019940         1         1.00       311   \n",
              "2107468     2021  40618753059  594   840361         1         0.99       443   \n",
              "\n",
              "         retail_disc  trans_time  week_no  coupon_disc  coupon_match_disc  \n",
              "2104867        -0.29          40       86          0.0                0.0  \n",
              "2107468         0.00         101       86          0.0                0.0  "
            ],
            "text/html": [
              "\n",
              "  <div id=\"df-86058784-2dca-40cd-8372-12e1ca5f96fd\">\n",
              "    <div class=\"colab-df-container\">\n",
              "      <div>\n",
              "<style scoped>\n",
              "    .dataframe tbody tr th:only-of-type {\n",
              "        vertical-align: middle;\n",
              "    }\n",
              "\n",
              "    .dataframe tbody tr th {\n",
              "        vertical-align: top;\n",
              "    }\n",
              "\n",
              "    .dataframe thead th {\n",
              "        text-align: right;\n",
              "    }\n",
              "</style>\n",
              "<table border=\"1\" class=\"dataframe\">\n",
              "  <thead>\n",
              "    <tr style=\"text-align: right;\">\n",
              "      <th></th>\n",
              "      <th>user_id</th>\n",
              "      <th>basket_id</th>\n",
              "      <th>day</th>\n",
              "      <th>item_id</th>\n",
              "      <th>quantity</th>\n",
              "      <th>sales_value</th>\n",
              "      <th>store_id</th>\n",
              "      <th>retail_disc</th>\n",
              "      <th>trans_time</th>\n",
              "      <th>week_no</th>\n",
              "      <th>coupon_disc</th>\n",
              "      <th>coupon_match_disc</th>\n",
              "    </tr>\n",
              "  </thead>\n",
              "  <tbody>\n",
              "    <tr>\n",
              "      <th>2104867</th>\n",
              "      <td>2070</td>\n",
              "      <td>40618492260</td>\n",
              "      <td>594</td>\n",
              "      <td>1019940</td>\n",
              "      <td>1</td>\n",
              "      <td>1.00</td>\n",
              "      <td>311</td>\n",
              "      <td>-0.29</td>\n",
              "      <td>40</td>\n",
              "      <td>86</td>\n",
              "      <td>0.0</td>\n",
              "      <td>0.0</td>\n",
              "    </tr>\n",
              "    <tr>\n",
              "      <th>2107468</th>\n",
              "      <td>2021</td>\n",
              "      <td>40618753059</td>\n",
              "      <td>594</td>\n",
              "      <td>840361</td>\n",
              "      <td>1</td>\n",
              "      <td>0.99</td>\n",
              "      <td>443</td>\n",
              "      <td>0.00</td>\n",
              "      <td>101</td>\n",
              "      <td>86</td>\n",
              "      <td>0.0</td>\n",
              "      <td>0.0</td>\n",
              "    </tr>\n",
              "  </tbody>\n",
              "</table>\n",
              "</div>\n",
              "      <button class=\"colab-df-convert\" onclick=\"convertToInteractive('df-86058784-2dca-40cd-8372-12e1ca5f96fd')\"\n",
              "              title=\"Convert this dataframe to an interactive table.\"\n",
              "              style=\"display:none;\">\n",
              "        \n",
              "  <svg xmlns=\"http://www.w3.org/2000/svg\" height=\"24px\"viewBox=\"0 0 24 24\"\n",
              "       width=\"24px\">\n",
              "    <path d=\"M0 0h24v24H0V0z\" fill=\"none\"/>\n",
              "    <path d=\"M18.56 5.44l.94 2.06.94-2.06 2.06-.94-2.06-.94-.94-2.06-.94 2.06-2.06.94zm-11 1L8.5 8.5l.94-2.06 2.06-.94-2.06-.94L8.5 2.5l-.94 2.06-2.06.94zm10 10l.94 2.06.94-2.06 2.06-.94-2.06-.94-.94-2.06-.94 2.06-2.06.94z\"/><path d=\"M17.41 7.96l-1.37-1.37c-.4-.4-.92-.59-1.43-.59-.52 0-1.04.2-1.43.59L10.3 9.45l-7.72 7.72c-.78.78-.78 2.05 0 2.83L4 21.41c.39.39.9.59 1.41.59.51 0 1.02-.2 1.41-.59l7.78-7.78 2.81-2.81c.8-.78.8-2.07 0-2.86zM5.41 20L4 18.59l7.72-7.72 1.47 1.35L5.41 20z\"/>\n",
              "  </svg>\n",
              "      </button>\n",
              "      \n",
              "  <style>\n",
              "    .colab-df-container {\n",
              "      display:flex;\n",
              "      flex-wrap:wrap;\n",
              "      gap: 12px;\n",
              "    }\n",
              "\n",
              "    .colab-df-convert {\n",
              "      background-color: #E8F0FE;\n",
              "      border: none;\n",
              "      border-radius: 50%;\n",
              "      cursor: pointer;\n",
              "      display: none;\n",
              "      fill: #1967D2;\n",
              "      height: 32px;\n",
              "      padding: 0 0 0 0;\n",
              "      width: 32px;\n",
              "    }\n",
              "\n",
              "    .colab-df-convert:hover {\n",
              "      background-color: #E2EBFA;\n",
              "      box-shadow: 0px 1px 2px rgba(60, 64, 67, 0.3), 0px 1px 3px 1px rgba(60, 64, 67, 0.15);\n",
              "      fill: #174EA6;\n",
              "    }\n",
              "\n",
              "    [theme=dark] .colab-df-convert {\n",
              "      background-color: #3B4455;\n",
              "      fill: #D2E3FC;\n",
              "    }\n",
              "\n",
              "    [theme=dark] .colab-df-convert:hover {\n",
              "      background-color: #434B5C;\n",
              "      box-shadow: 0px 1px 3px 1px rgba(0, 0, 0, 0.15);\n",
              "      filter: drop-shadow(0px 1px 2px rgba(0, 0, 0, 0.3));\n",
              "      fill: #FFFFFF;\n",
              "    }\n",
              "  </style>\n",
              "\n",
              "      <script>\n",
              "        const buttonEl =\n",
              "          document.querySelector('#df-86058784-2dca-40cd-8372-12e1ca5f96fd button.colab-df-convert');\n",
              "        buttonEl.style.display =\n",
              "          google.colab.kernel.accessAllowed ? 'block' : 'none';\n",
              "\n",
              "        async function convertToInteractive(key) {\n",
              "          const element = document.querySelector('#df-86058784-2dca-40cd-8372-12e1ca5f96fd');\n",
              "          const dataTable =\n",
              "            await google.colab.kernel.invokeFunction('convertToInteractive',\n",
              "                                                     [key], {});\n",
              "          if (!dataTable) return;\n",
              "\n",
              "          const docLinkHtml = 'Like what you see? Visit the ' +\n",
              "            '<a target=\"_blank\" href=https://colab.research.google.com/notebooks/data_table.ipynb>data table notebook</a>'\n",
              "            + ' to learn more about interactive tables.';\n",
              "          element.innerHTML = '';\n",
              "          dataTable['output_type'] = 'display_data';\n",
              "          await google.colab.output.renderOutput(dataTable, element);\n",
              "          const docLink = document.createElement('div');\n",
              "          docLink.innerHTML = docLinkHtml;\n",
              "          element.appendChild(docLink);\n",
              "        }\n",
              "      </script>\n",
              "    </div>\n",
              "  </div>\n",
              "  "
            ]
          },
          "metadata": {},
          "execution_count": 16
        }
      ],
      "source": [
        "data_val_matcher.head(2)"
      ]
    },
    {
      "cell_type": "markdown",
      "metadata": {
        "id": "fDtaZx-b-qVh"
      },
      "source": [
        "# Prefilter items"
      ]
    },
    {
      "cell_type": "code",
      "execution_count": 17,
      "metadata": {
        "colab": {
          "base_uri": "https://localhost:8080/"
        },
        "id": "PqSJNTop-qVh",
        "outputId": "9ea1f09a-8128-4593-8f05-57a270fa3841"
      },
      "outputs": [
        {
          "output_type": "stream",
          "name": "stderr",
          "text": [
            "/content/drive/MyDrive/utils.py:20: SettingWithCopyWarning: \n",
            "A value is trying to be set on a copy of a slice from a DataFrame.\n",
            "Try using .loc[row_indexer,col_indexer] = value instead\n",
            "\n",
            "See the caveats in the documentation: https://pandas.pydata.org/pandas-docs/stable/user_guide/indexing.html#returning-a-view-versus-a-copy\n",
            "  data['price'] = data['sales_value'] / (np.maximum(data['quantity'], 1))\n"
          ]
        },
        {
          "output_type": "stream",
          "name": "stdout",
          "text": [
            "Decreased # items from 83685 to 3001\n"
          ]
        }
      ],
      "source": [
        "n_items_before = data_train_matcher['item_id'].nunique()\n",
        "\n",
        "data_train_matcher = prefilter_items(data_train_matcher, item_features=item_features, take_n_popular=3000)\n",
        "\n",
        "n_items_after = data_train_matcher['item_id'].nunique()\n",
        "print('Decreased # items from {} to {}'.format(n_items_before, n_items_after))"
      ]
    },
    {
      "cell_type": "markdown",
      "metadata": {
        "id": "tSRtotAK-qVi"
      },
      "source": [
        "# Make cold-start to warm-start"
      ]
    },
    {
      "cell_type": "code",
      "execution_count": 18,
      "metadata": {
        "colab": {
          "base_uri": "https://localhost:8080/"
        },
        "id": "_hO2ZtSB-qVi",
        "outputId": "3566fd98-eb48-47d6-9cd8-637c2e379667"
      },
      "outputs": [
        {
          "output_type": "stream",
          "name": "stdout",
          "text": [
            "train_matcher\n",
            "Shape: (861404, 13) Users: 2495 Items: 3001\n",
            "val_matcher\n",
            "Shape: (169615, 12) Users: 2151 Items: 27644\n",
            "train_ranker\n",
            "Shape: (169615, 12) Users: 2151 Items: 27644\n",
            "val_ranker\n",
            "Shape: (118282, 12) Users: 2040 Items: 24325\n"
          ]
        }
      ],
      "source": [
        "# ищем общих пользователей\n",
        "common_users = data_train_matcher.user_id.values\n",
        "\n",
        "data_val_matcher = data_val_matcher[data_val_matcher.user_id.isin(common_users)]\n",
        "data_train_ranker = data_train_ranker[data_train_ranker.user_id.isin(common_users)]\n",
        "data_val_ranker = data_val_ranker[data_val_ranker.user_id.isin(common_users)]\n",
        "\n",
        "print_stats_data(data_train_matcher,'train_matcher')\n",
        "print_stats_data(data_val_matcher,'val_matcher')\n",
        "print_stats_data(data_train_ranker,'train_ranker')\n",
        "print_stats_data(data_val_ranker,'val_ranker')"
      ]
    },
    {
      "cell_type": "markdown",
      "metadata": {
        "id": "nO8_Tqih-qVj"
      },
      "source": [
        "# Init/train recommender"
      ]
    },
    {
      "cell_type": "code",
      "execution_count": 19,
      "metadata": {
        "colab": {
          "base_uri": "https://localhost:8080/",
          "height": 98,
          "referenced_widgets": [
            "6266bdb2d83c448f99cc6fb8f9f2a963",
            "53ff3db0d3b642f7a72cf6f525be4cb3",
            "55d1d87b3a5a44cba572751d0142ba52",
            "4ba266c9175842b9bb9ea2c3a2214e3f",
            "5092f95a7e684ba383ac5519668eab28",
            "318923cd2ac44d7ea023dc35f495a34a",
            "402c3321c4a84ddd875bfe45a6a019a9",
            "3d4092730c2145ffb09b00e32a1120e4",
            "5cbd70c8f3d846e3815b691f05d01d5f",
            "7f6e3011dd2f465fa080ab7b3019b836",
            "caf91ac9196a4b78a990d1a075886143",
            "277c13b753c04591b4b64d78bf2af776",
            "e46d3aca90134eff9486179ee9bd3dbc",
            "1b54686cf45c44d29778c90ca29f11b4",
            "9ec80b03ce1846fe9e5902ca210b235a",
            "bfc4d6bb237d46c58dd3a3e1213ef391",
            "e98eeb5b7ab649c682bd6432fa9d9002",
            "c27ee94776df4dcdbabf64d9682dfa4e",
            "0eec139cb5744b018389ee20487d682b",
            "5fa11d2fa29446778a94ae22cb455bfc",
            "4d165ffbd8af4ca2a82efb6b13ed1093",
            "2b3dc2dc8f5845cfbb71b532304ed4ae"
          ]
        },
        "id": "1RhwtGyx-qVj",
        "outputId": "dd294bda-982d-4488-d369-f0cd9098d964"
      },
      "outputs": [
        {
          "output_type": "stream",
          "name": "stderr",
          "text": [
            "WARNING:root:OpenBLAS detected. Its highly recommend to set the environment variable 'export OPENBLAS_NUM_THREADS=1' to disable its internal multithreading\n"
          ]
        },
        {
          "output_type": "display_data",
          "data": {
            "text/plain": [
              "  0%|          | 0/35 [00:00<?, ?it/s]"
            ],
            "application/vnd.jupyter.widget-view+json": {
              "version_major": 2,
              "version_minor": 0,
              "model_id": "6266bdb2d83c448f99cc6fb8f9f2a963"
            }
          },
          "metadata": {}
        },
        {
          "output_type": "display_data",
          "data": {
            "text/plain": [
              "  0%|          | 0/3001 [00:00<?, ?it/s]"
            ],
            "application/vnd.jupyter.widget-view+json": {
              "version_major": 2,
              "version_minor": 0,
              "model_id": "277c13b753c04591b4b64d78bf2af776"
            }
          },
          "metadata": {}
        }
      ],
      "source": [
        "recommender = MainRecommender(data_train_matcher)"
      ]
    },
    {
      "cell_type": "markdown",
      "metadata": {
        "id": "tpbbQDsp-qVj"
      },
      "source": [
        "### Варианты, как получить кандидатов\n",
        "\n",
        "Можно потом все эти варианты соединить в один\n",
        "\n",
        "(!) Если модель рекомендует < N товаров, то рекомендации дополняются топ-популярными товарами до N"
      ]
    },
    {
      "cell_type": "code",
      "execution_count": 20,
      "metadata": {
        "id": "MlcoNj3m-qVj"
      },
      "outputs": [],
      "source": [
        "# Берем тестового юзера 2375"
      ]
    },
    {
      "cell_type": "code",
      "execution_count": 21,
      "metadata": {
        "id": "KwCiZ4vr-qVk",
        "outputId": "ee465283-c306-4c2f-b3b5-f79938aea630",
        "colab": {
          "base_uri": "https://localhost:8080/"
        }
      },
      "outputs": [
        {
          "output_type": "execute_result",
          "data": {
            "text/plain": [
              "[947858, 1138467, 1132771, 899624, 823990]"
            ]
          },
          "metadata": {},
          "execution_count": 21
        }
      ],
      "source": [
        "recommender.get_als_recommendations(2375, N=5)"
      ]
    },
    {
      "cell_type": "code",
      "execution_count": 22,
      "metadata": {
        "id": "qcxKJvHD-qVk",
        "outputId": "6e99ea57-fb3d-4e4f-eacc-6c1c2ce0a21e",
        "colab": {
          "base_uri": "https://localhost:8080/"
        }
      },
      "outputs": [
        {
          "output_type": "execute_result",
          "data": {
            "text/plain": [
              "[918046, 907099, 1027642, 847962, 884694]"
            ]
          },
          "metadata": {},
          "execution_count": 22
        }
      ],
      "source": [
        "recommender.get_own_recommendations(2375, N=5)"
      ]
    },
    {
      "cell_type": "code",
      "execution_count": 23,
      "metadata": {
        "id": "xZUcaVVP-qVk",
        "outputId": "770fe154-e356-43e3-9ab4-4f9562dc1182",
        "colab": {
          "base_uri": "https://localhost:8080/"
        }
      },
      "outputs": [
        {
          "output_type": "execute_result",
          "data": {
            "text/plain": [
              "[1046545, 999999, 962185, 1079913, 823775]"
            ]
          },
          "metadata": {},
          "execution_count": 23
        }
      ],
      "source": [
        "recommender.get_similar_items_recommendation(2375, N=5)"
      ]
    },
    {
      "cell_type": "code",
      "execution_count": 24,
      "metadata": {
        "scrolled": true,
        "id": "c-kCHepz-qVl"
      },
      "outputs": [],
      "source": [
        "# recommender.get_similar_users_recommendation(2375, N=5)"
      ]
    },
    {
      "cell_type": "markdown",
      "metadata": {
        "id": "VG0k9TxX-qVl"
      },
      "source": [
        "# Eval recall of matching"
      ]
    },
    {
      "cell_type": "markdown",
      "metadata": {
        "id": "3jILbWHL-qVl"
      },
      "source": [
        "### Измеряем recall@k\n",
        "\n",
        "Это будет в ДЗ: \n",
        "\n",
        "A) Попробуйте различные варианты генерации кандидатов. Какие из них дают наибольший recall@k ?\n",
        "- Пока пробуем отобрать 50 кандидатов (k=50)\n",
        "- Качество измеряем на data_val_lvl_1: следующие 6 недель после трейна\n",
        "\n",
        "Дают ли own recommendtions + top-popular лучший recall?  \n",
        "\n",
        "B)* Как зависит recall@k от k? Постройте для одной схемы генерации кандидатов эту зависимость для k = {20, 50, 100, 200, 500}  \n",
        "C)* Исходя из прошлого вопроса, как вы думаете, какое значение k является наиболее разумным?\n"
      ]
    },
    {
      "cell_type": "code",
      "execution_count": 25,
      "metadata": {
        "scrolled": true,
        "id": "0Ur1B5Ne-qVl",
        "outputId": "fb43668b-880e-4088-e125-4c7c5739b558",
        "colab": {
          "base_uri": "https://localhost:8080/",
          "height": 112
        }
      },
      "outputs": [
        {
          "output_type": "execute_result",
          "data": {
            "text/plain": [
              "   user_id                                             actual\n",
              "0        1  [853529, 865456, 867607, 872137, 874905, 87524...\n",
              "1        2  [15830248, 838136, 839656, 861272, 866211, 870..."
            ],
            "text/html": [
              "\n",
              "  <div id=\"df-71a0a957-a975-4767-adbf-8f9e88936e10\">\n",
              "    <div class=\"colab-df-container\">\n",
              "      <div>\n",
              "<style scoped>\n",
              "    .dataframe tbody tr th:only-of-type {\n",
              "        vertical-align: middle;\n",
              "    }\n",
              "\n",
              "    .dataframe tbody tr th {\n",
              "        vertical-align: top;\n",
              "    }\n",
              "\n",
              "    .dataframe thead th {\n",
              "        text-align: right;\n",
              "    }\n",
              "</style>\n",
              "<table border=\"1\" class=\"dataframe\">\n",
              "  <thead>\n",
              "    <tr style=\"text-align: right;\">\n",
              "      <th></th>\n",
              "      <th>user_id</th>\n",
              "      <th>actual</th>\n",
              "    </tr>\n",
              "  </thead>\n",
              "  <tbody>\n",
              "    <tr>\n",
              "      <th>0</th>\n",
              "      <td>1</td>\n",
              "      <td>[853529, 865456, 867607, 872137, 874905, 87524...</td>\n",
              "    </tr>\n",
              "    <tr>\n",
              "      <th>1</th>\n",
              "      <td>2</td>\n",
              "      <td>[15830248, 838136, 839656, 861272, 866211, 870...</td>\n",
              "    </tr>\n",
              "  </tbody>\n",
              "</table>\n",
              "</div>\n",
              "      <button class=\"colab-df-convert\" onclick=\"convertToInteractive('df-71a0a957-a975-4767-adbf-8f9e88936e10')\"\n",
              "              title=\"Convert this dataframe to an interactive table.\"\n",
              "              style=\"display:none;\">\n",
              "        \n",
              "  <svg xmlns=\"http://www.w3.org/2000/svg\" height=\"24px\"viewBox=\"0 0 24 24\"\n",
              "       width=\"24px\">\n",
              "    <path d=\"M0 0h24v24H0V0z\" fill=\"none\"/>\n",
              "    <path d=\"M18.56 5.44l.94 2.06.94-2.06 2.06-.94-2.06-.94-.94-2.06-.94 2.06-2.06.94zm-11 1L8.5 8.5l.94-2.06 2.06-.94-2.06-.94L8.5 2.5l-.94 2.06-2.06.94zm10 10l.94 2.06.94-2.06 2.06-.94-2.06-.94-.94-2.06-.94 2.06-2.06.94z\"/><path d=\"M17.41 7.96l-1.37-1.37c-.4-.4-.92-.59-1.43-.59-.52 0-1.04.2-1.43.59L10.3 9.45l-7.72 7.72c-.78.78-.78 2.05 0 2.83L4 21.41c.39.39.9.59 1.41.59.51 0 1.02-.2 1.41-.59l7.78-7.78 2.81-2.81c.8-.78.8-2.07 0-2.86zM5.41 20L4 18.59l7.72-7.72 1.47 1.35L5.41 20z\"/>\n",
              "  </svg>\n",
              "      </button>\n",
              "      \n",
              "  <style>\n",
              "    .colab-df-container {\n",
              "      display:flex;\n",
              "      flex-wrap:wrap;\n",
              "      gap: 12px;\n",
              "    }\n",
              "\n",
              "    .colab-df-convert {\n",
              "      background-color: #E8F0FE;\n",
              "      border: none;\n",
              "      border-radius: 50%;\n",
              "      cursor: pointer;\n",
              "      display: none;\n",
              "      fill: #1967D2;\n",
              "      height: 32px;\n",
              "      padding: 0 0 0 0;\n",
              "      width: 32px;\n",
              "    }\n",
              "\n",
              "    .colab-df-convert:hover {\n",
              "      background-color: #E2EBFA;\n",
              "      box-shadow: 0px 1px 2px rgba(60, 64, 67, 0.3), 0px 1px 3px 1px rgba(60, 64, 67, 0.15);\n",
              "      fill: #174EA6;\n",
              "    }\n",
              "\n",
              "    [theme=dark] .colab-df-convert {\n",
              "      background-color: #3B4455;\n",
              "      fill: #D2E3FC;\n",
              "    }\n",
              "\n",
              "    [theme=dark] .colab-df-convert:hover {\n",
              "      background-color: #434B5C;\n",
              "      box-shadow: 0px 1px 3px 1px rgba(0, 0, 0, 0.15);\n",
              "      filter: drop-shadow(0px 1px 2px rgba(0, 0, 0, 0.3));\n",
              "      fill: #FFFFFF;\n",
              "    }\n",
              "  </style>\n",
              "\n",
              "      <script>\n",
              "        const buttonEl =\n",
              "          document.querySelector('#df-71a0a957-a975-4767-adbf-8f9e88936e10 button.colab-df-convert');\n",
              "        buttonEl.style.display =\n",
              "          google.colab.kernel.accessAllowed ? 'block' : 'none';\n",
              "\n",
              "        async function convertToInteractive(key) {\n",
              "          const element = document.querySelector('#df-71a0a957-a975-4767-adbf-8f9e88936e10');\n",
              "          const dataTable =\n",
              "            await google.colab.kernel.invokeFunction('convertToInteractive',\n",
              "                                                     [key], {});\n",
              "          if (!dataTable) return;\n",
              "\n",
              "          const docLinkHtml = 'Like what you see? Visit the ' +\n",
              "            '<a target=\"_blank\" href=https://colab.research.google.com/notebooks/data_table.ipynb>data table notebook</a>'\n",
              "            + ' to learn more about interactive tables.';\n",
              "          element.innerHTML = '';\n",
              "          dataTable['output_type'] = 'display_data';\n",
              "          await google.colab.output.renderOutput(dataTable, element);\n",
              "          const docLink = document.createElement('div');\n",
              "          docLink.innerHTML = docLinkHtml;\n",
              "          element.appendChild(docLink);\n",
              "        }\n",
              "      </script>\n",
              "    </div>\n",
              "  </div>\n",
              "  "
            ]
          },
          "metadata": {},
          "execution_count": 25
        }
      ],
      "source": [
        "result_eval_matcher = data_val_matcher.groupby(USER_COL)[ITEM_COL].unique().reset_index()\n",
        "result_eval_matcher.columns=[USER_COL, ACTUAL_COL]\n",
        "result_eval_matcher.head(2)"
      ]
    },
    {
      "cell_type": "code",
      "execution_count": 26,
      "metadata": {
        "id": "Vdkf2h8k-qVm",
        "outputId": "13c6e8fd-91af-4e56-e0bb-3dc8e0c59358",
        "colab": {
          "base_uri": "https://localhost:8080/"
        }
      },
      "outputs": [
        {
          "output_type": "stream",
          "name": "stdout",
          "text": [
            "CPU times: user 1min 13s, sys: 43 s, total: 1min 56s\n",
            "Wall time: 1min 2s\n"
          ]
        }
      ],
      "source": [
        "%%time\n",
        "# для понятности расписано все в строчку, без функций, ваша задача уметь оборачивать все это в функции\n",
        "result_eval_matcher['own_rec'] = result_eval_matcher[USER_COL].apply(lambda x: recommender.get_own_recommendations(x, N=N_PREDICT))\n",
        "result_eval_matcher['sim_item_rec'] = result_eval_matcher[USER_COL].apply(lambda x: recommender.get_similar_items_recommendation(x, N=N_PREDICT))\n",
        "result_eval_matcher['als_rec'] = result_eval_matcher[USER_COL].apply(lambda x: recommender.get_als_recommendations(x, N=N_PREDICT))"
      ]
    },
    {
      "cell_type": "code",
      "execution_count": 27,
      "metadata": {
        "scrolled": true,
        "id": "X3WfitqH-qVm",
        "outputId": "2ff2430a-2d34-4e9c-d940-b35036625c1b",
        "colab": {
          "base_uri": "https://localhost:8080/"
        }
      },
      "outputs": [
        {
          "output_type": "stream",
          "name": "stdout",
          "text": [
            "CPU times: user 5 µs, sys: 3 µs, total: 8 µs\n",
            "Wall time: 8.11 µs\n"
          ]
        }
      ],
      "source": [
        "%%time\n",
        "# result_eval_matcher['sim_user_rec'] = result_eval_matcher[USER_COL].apply(lambda x: recommender.get_similar_users_recommendation(x, N=50))"
      ]
    },
    {
      "cell_type": "markdown",
      "metadata": {
        "id": "2dvurkg5-qVm"
      },
      "source": [
        "### Пример оборачивания"
      ]
    },
    {
      "cell_type": "code",
      "execution_count": 28,
      "metadata": {
        "id": "QFxcSa8v-qVm"
      },
      "outputs": [],
      "source": [
        "# # сырой и простой пример как можно обернуть в функцию\n",
        "def evalRecall(df_result, target_col_name, recommend_model):\n",
        "    result_col_name = 'result'\n",
        "    df_result[result_col_name] = df_result[target_col_name].apply(lambda x: recommend_model(x, N=25))\n",
        "    return df_result.apply(lambda row: recall_at_k(row[result_col_name], row[ACTUAL_COL], k=N_PREDICT), axis=1).mean()"
      ]
    },
    {
      "cell_type": "code",
      "execution_count": 29,
      "metadata": {
        "id": "ZgaW7rYi-qVn"
      },
      "outputs": [],
      "source": [
        "# evalRecall(result_eval_matcher, USER_COL, recommender.get_own_recommendations)"
      ]
    },
    {
      "cell_type": "code",
      "execution_count": 30,
      "metadata": {
        "id": "6xbxNyHn-qVn"
      },
      "outputs": [],
      "source": [
        "def calc_recall(df_data, top_k):\n",
        "    for col_name in df_data.columns[2:]:\n",
        "        yield col_name, df_data.apply(lambda row: recall_at_k(row[col_name], row[ACTUAL_COL], k=top_k), axis=1).mean()"
      ]
    },
    {
      "cell_type": "code",
      "execution_count": 31,
      "metadata": {
        "id": "Kngf5_OR-qVn"
      },
      "outputs": [],
      "source": [
        "def calc_precision(df_data, top_k):\n",
        "    for col_name in df_data.columns[2:]:\n",
        "        yield col_name, df_data.apply(lambda row: precision_at_k(row[col_name], row[ACTUAL_COL], k=top_k), axis=1).mean()"
      ]
    },
    {
      "cell_type": "markdown",
      "metadata": {
        "id": "9hRSKIZ9-qVn"
      },
      "source": [
        "### Recall@50 of matching"
      ]
    },
    {
      "cell_type": "code",
      "execution_count": 32,
      "metadata": {
        "id": "Vct-C2Vb-qVo"
      },
      "outputs": [],
      "source": [
        "TOPK_RECALL = 100"
      ]
    },
    {
      "cell_type": "code",
      "execution_count": 33,
      "metadata": {
        "id": "SR4kYIG7-qVo",
        "outputId": "d55d8eca-ec9d-4d14-f4f0-e7cede7dc035",
        "colab": {
          "base_uri": "https://localhost:8080/"
        }
      },
      "outputs": [
        {
          "output_type": "execute_result",
          "data": {
            "text/plain": [
              "[('own_rec', 0.08529390656625159),\n",
              " ('als_rec', 0.08280696060503241),\n",
              " ('sim_item_rec', 0.049801795243109556)]"
            ]
          },
          "metadata": {},
          "execution_count": 33
        }
      ],
      "source": [
        "sorted(calc_recall(result_eval_matcher, TOPK_RECALL), key=lambda x: x[1],reverse=True)"
      ]
    },
    {
      "cell_type": "markdown",
      "metadata": {
        "id": "z8oxuuGV-qVo"
      },
      "source": [
        "### Precision@5 of matching"
      ]
    },
    {
      "cell_type": "code",
      "execution_count": 34,
      "metadata": {
        "id": "m19tLbLv-qVo"
      },
      "outputs": [],
      "source": [
        "TOPK_PRECISION = 5"
      ]
    },
    {
      "cell_type": "code",
      "execution_count": 35,
      "metadata": {
        "id": "WB3GibSi-qVo",
        "outputId": "27ebccb1-f36f-4437-8286-7f1c16896f9f",
        "colab": {
          "base_uri": "https://localhost:8080/"
        }
      },
      "outputs": [
        {
          "output_type": "execute_result",
          "data": {
            "text/plain": [
              "[('own_rec', 0.1926545792654558),\n",
              " ('als_rec', 0.13714551371454992),\n",
              " ('sim_item_rec', 0.06276150627615097)]"
            ]
          },
          "metadata": {},
          "execution_count": 35
        }
      ],
      "source": [
        "sorted(calc_precision(result_eval_matcher, TOPK_PRECISION), key=lambda x: x[1],reverse=True)"
      ]
    },
    {
      "cell_type": "markdown",
      "metadata": {
        "id": "B_GvHdRh-qVo"
      },
      "source": [
        "# Ranking part"
      ]
    },
    {
      "cell_type": "markdown",
      "metadata": {
        "id": "GvcvXYlJ-qVo"
      },
      "source": [
        "### Обучаем модель 2-ого уровня на выбранных кандидатах\n",
        "\n",
        "- Обучаем на data_train_ranking\n",
        "- Обучаем *только* на выбранных кандидатах\n",
        "- Я *для примера* сгенерирую топ-50 кадидиатов через get_own_recommendations\n",
        "- (!) Если юзер купил < 50 товаров, то get_own_recommendations дополнит рекоммендации топ-популярными"
      ]
    },
    {
      "cell_type": "code",
      "execution_count": 36,
      "metadata": {
        "id": "Ad62aGTn-qVp"
      },
      "outputs": [],
      "source": [
        "# -- давние покупки -- | -- 6 недель -- | -- 3 недель -- "
      ]
    },
    {
      "cell_type": "markdown",
      "metadata": {
        "id": "fwf3tAlv-qVp"
      },
      "source": [
        "## Подготовка данных для трейна"
      ]
    },
    {
      "cell_type": "code",
      "execution_count": 37,
      "metadata": {
        "id": "yHPnsdjE-qVp"
      },
      "outputs": [],
      "source": [
        "# взяли пользователей из трейна для ранжирования\n",
        "df_match_candidates = pd.DataFrame(data_train_ranker[USER_COL].unique())\n",
        "df_match_candidates.columns = [USER_COL]"
      ]
    },
    {
      "cell_type": "code",
      "execution_count": 38,
      "metadata": {
        "id": "8z-x06DO-qVp"
      },
      "outputs": [],
      "source": [
        "# собираем кандитатов с первого этапа (matcher)\n",
        "df_match_candidates['candidates'] = df_match_candidates[USER_COL].apply(lambda x: recommender.get_own_recommendations(x, N=N_PREDICT))"
      ]
    },
    {
      "cell_type": "code",
      "execution_count": 39,
      "metadata": {
        "id": "cddJ6OcG-qVp",
        "outputId": "8123244e-479f-4de0-a3fd-44f8e9698c09",
        "colab": {
          "base_uri": "https://localhost:8080/",
          "height": 112
        }
      },
      "outputs": [
        {
          "output_type": "execute_result",
          "data": {
            "text/plain": [
              "   user_id                                         candidates\n",
              "0     2070  [1105426, 1092937, 944588, 917033, 10198378, 1...\n",
              "1     2021  [950935, 1119454, 835578, 863762, 1019142, 102..."
            ],
            "text/html": [
              "\n",
              "  <div id=\"df-e18d4d48-a906-411f-9d76-65891f2f3a84\">\n",
              "    <div class=\"colab-df-container\">\n",
              "      <div>\n",
              "<style scoped>\n",
              "    .dataframe tbody tr th:only-of-type {\n",
              "        vertical-align: middle;\n",
              "    }\n",
              "\n",
              "    .dataframe tbody tr th {\n",
              "        vertical-align: top;\n",
              "    }\n",
              "\n",
              "    .dataframe thead th {\n",
              "        text-align: right;\n",
              "    }\n",
              "</style>\n",
              "<table border=\"1\" class=\"dataframe\">\n",
              "  <thead>\n",
              "    <tr style=\"text-align: right;\">\n",
              "      <th></th>\n",
              "      <th>user_id</th>\n",
              "      <th>candidates</th>\n",
              "    </tr>\n",
              "  </thead>\n",
              "  <tbody>\n",
              "    <tr>\n",
              "      <th>0</th>\n",
              "      <td>2070</td>\n",
              "      <td>[1105426, 1092937, 944588, 917033, 10198378, 1...</td>\n",
              "    </tr>\n",
              "    <tr>\n",
              "      <th>1</th>\n",
              "      <td>2021</td>\n",
              "      <td>[950935, 1119454, 835578, 863762, 1019142, 102...</td>\n",
              "    </tr>\n",
              "  </tbody>\n",
              "</table>\n",
              "</div>\n",
              "      <button class=\"colab-df-convert\" onclick=\"convertToInteractive('df-e18d4d48-a906-411f-9d76-65891f2f3a84')\"\n",
              "              title=\"Convert this dataframe to an interactive table.\"\n",
              "              style=\"display:none;\">\n",
              "        \n",
              "  <svg xmlns=\"http://www.w3.org/2000/svg\" height=\"24px\"viewBox=\"0 0 24 24\"\n",
              "       width=\"24px\">\n",
              "    <path d=\"M0 0h24v24H0V0z\" fill=\"none\"/>\n",
              "    <path d=\"M18.56 5.44l.94 2.06.94-2.06 2.06-.94-2.06-.94-.94-2.06-.94 2.06-2.06.94zm-11 1L8.5 8.5l.94-2.06 2.06-.94-2.06-.94L8.5 2.5l-.94 2.06-2.06.94zm10 10l.94 2.06.94-2.06 2.06-.94-2.06-.94-.94-2.06-.94 2.06-2.06.94z\"/><path d=\"M17.41 7.96l-1.37-1.37c-.4-.4-.92-.59-1.43-.59-.52 0-1.04.2-1.43.59L10.3 9.45l-7.72 7.72c-.78.78-.78 2.05 0 2.83L4 21.41c.39.39.9.59 1.41.59.51 0 1.02-.2 1.41-.59l7.78-7.78 2.81-2.81c.8-.78.8-2.07 0-2.86zM5.41 20L4 18.59l7.72-7.72 1.47 1.35L5.41 20z\"/>\n",
              "  </svg>\n",
              "      </button>\n",
              "      \n",
              "  <style>\n",
              "    .colab-df-container {\n",
              "      display:flex;\n",
              "      flex-wrap:wrap;\n",
              "      gap: 12px;\n",
              "    }\n",
              "\n",
              "    .colab-df-convert {\n",
              "      background-color: #E8F0FE;\n",
              "      border: none;\n",
              "      border-radius: 50%;\n",
              "      cursor: pointer;\n",
              "      display: none;\n",
              "      fill: #1967D2;\n",
              "      height: 32px;\n",
              "      padding: 0 0 0 0;\n",
              "      width: 32px;\n",
              "    }\n",
              "\n",
              "    .colab-df-convert:hover {\n",
              "      background-color: #E2EBFA;\n",
              "      box-shadow: 0px 1px 2px rgba(60, 64, 67, 0.3), 0px 1px 3px 1px rgba(60, 64, 67, 0.15);\n",
              "      fill: #174EA6;\n",
              "    }\n",
              "\n",
              "    [theme=dark] .colab-df-convert {\n",
              "      background-color: #3B4455;\n",
              "      fill: #D2E3FC;\n",
              "    }\n",
              "\n",
              "    [theme=dark] .colab-df-convert:hover {\n",
              "      background-color: #434B5C;\n",
              "      box-shadow: 0px 1px 3px 1px rgba(0, 0, 0, 0.15);\n",
              "      filter: drop-shadow(0px 1px 2px rgba(0, 0, 0, 0.3));\n",
              "      fill: #FFFFFF;\n",
              "    }\n",
              "  </style>\n",
              "\n",
              "      <script>\n",
              "        const buttonEl =\n",
              "          document.querySelector('#df-e18d4d48-a906-411f-9d76-65891f2f3a84 button.colab-df-convert');\n",
              "        buttonEl.style.display =\n",
              "          google.colab.kernel.accessAllowed ? 'block' : 'none';\n",
              "\n",
              "        async function convertToInteractive(key) {\n",
              "          const element = document.querySelector('#df-e18d4d48-a906-411f-9d76-65891f2f3a84');\n",
              "          const dataTable =\n",
              "            await google.colab.kernel.invokeFunction('convertToInteractive',\n",
              "                                                     [key], {});\n",
              "          if (!dataTable) return;\n",
              "\n",
              "          const docLinkHtml = 'Like what you see? Visit the ' +\n",
              "            '<a target=\"_blank\" href=https://colab.research.google.com/notebooks/data_table.ipynb>data table notebook</a>'\n",
              "            + ' to learn more about interactive tables.';\n",
              "          element.innerHTML = '';\n",
              "          dataTable['output_type'] = 'display_data';\n",
              "          await google.colab.output.renderOutput(dataTable, element);\n",
              "          const docLink = document.createElement('div');\n",
              "          docLink.innerHTML = docLinkHtml;\n",
              "          element.appendChild(docLink);\n",
              "        }\n",
              "      </script>\n",
              "    </div>\n",
              "  </div>\n",
              "  "
            ]
          },
          "metadata": {},
          "execution_count": 39
        }
      ],
      "source": [
        "df_match_candidates.head(2)"
      ]
    },
    {
      "cell_type": "code",
      "execution_count": 40,
      "metadata": {
        "id": "WpbIrK4C-qVp"
      },
      "outputs": [],
      "source": [
        "# разворачиваем товары\n",
        "df_items = df_match_candidates.apply(lambda x: pd.Series(x['candidates']), axis=1).stack().reset_index(level=1, drop=True)\n",
        "df_items.name = 'item_id'"
      ]
    },
    {
      "cell_type": "code",
      "execution_count": 41,
      "metadata": {
        "id": "JquOZ7aO-qVq"
      },
      "outputs": [],
      "source": [
        "df_match_candidates = df_match_candidates.drop('candidates', axis=1).join(df_items)"
      ]
    },
    {
      "cell_type": "code",
      "execution_count": 42,
      "metadata": {
        "id": "73J5rRAf-qVq",
        "outputId": "492a9a76-2334-4ca6-ff50-2d0e2e843094",
        "colab": {
          "base_uri": "https://localhost:8080/",
          "height": 175
        }
      },
      "outputs": [
        {
          "output_type": "execute_result",
          "data": {
            "text/plain": [
              "   user_id  item_id\n",
              "0     2070  1105426\n",
              "0     2070  1092937\n",
              "0     2070   944588\n",
              "0     2070   917033"
            ],
            "text/html": [
              "\n",
              "  <div id=\"df-9efd6641-a4aa-4de9-83bb-339557258980\">\n",
              "    <div class=\"colab-df-container\">\n",
              "      <div>\n",
              "<style scoped>\n",
              "    .dataframe tbody tr th:only-of-type {\n",
              "        vertical-align: middle;\n",
              "    }\n",
              "\n",
              "    .dataframe tbody tr th {\n",
              "        vertical-align: top;\n",
              "    }\n",
              "\n",
              "    .dataframe thead th {\n",
              "        text-align: right;\n",
              "    }\n",
              "</style>\n",
              "<table border=\"1\" class=\"dataframe\">\n",
              "  <thead>\n",
              "    <tr style=\"text-align: right;\">\n",
              "      <th></th>\n",
              "      <th>user_id</th>\n",
              "      <th>item_id</th>\n",
              "    </tr>\n",
              "  </thead>\n",
              "  <tbody>\n",
              "    <tr>\n",
              "      <th>0</th>\n",
              "      <td>2070</td>\n",
              "      <td>1105426</td>\n",
              "    </tr>\n",
              "    <tr>\n",
              "      <th>0</th>\n",
              "      <td>2070</td>\n",
              "      <td>1092937</td>\n",
              "    </tr>\n",
              "    <tr>\n",
              "      <th>0</th>\n",
              "      <td>2070</td>\n",
              "      <td>944588</td>\n",
              "    </tr>\n",
              "    <tr>\n",
              "      <th>0</th>\n",
              "      <td>2070</td>\n",
              "      <td>917033</td>\n",
              "    </tr>\n",
              "  </tbody>\n",
              "</table>\n",
              "</div>\n",
              "      <button class=\"colab-df-convert\" onclick=\"convertToInteractive('df-9efd6641-a4aa-4de9-83bb-339557258980')\"\n",
              "              title=\"Convert this dataframe to an interactive table.\"\n",
              "              style=\"display:none;\">\n",
              "        \n",
              "  <svg xmlns=\"http://www.w3.org/2000/svg\" height=\"24px\"viewBox=\"0 0 24 24\"\n",
              "       width=\"24px\">\n",
              "    <path d=\"M0 0h24v24H0V0z\" fill=\"none\"/>\n",
              "    <path d=\"M18.56 5.44l.94 2.06.94-2.06 2.06-.94-2.06-.94-.94-2.06-.94 2.06-2.06.94zm-11 1L8.5 8.5l.94-2.06 2.06-.94-2.06-.94L8.5 2.5l-.94 2.06-2.06.94zm10 10l.94 2.06.94-2.06 2.06-.94-2.06-.94-.94-2.06-.94 2.06-2.06.94z\"/><path d=\"M17.41 7.96l-1.37-1.37c-.4-.4-.92-.59-1.43-.59-.52 0-1.04.2-1.43.59L10.3 9.45l-7.72 7.72c-.78.78-.78 2.05 0 2.83L4 21.41c.39.39.9.59 1.41.59.51 0 1.02-.2 1.41-.59l7.78-7.78 2.81-2.81c.8-.78.8-2.07 0-2.86zM5.41 20L4 18.59l7.72-7.72 1.47 1.35L5.41 20z\"/>\n",
              "  </svg>\n",
              "      </button>\n",
              "      \n",
              "  <style>\n",
              "    .colab-df-container {\n",
              "      display:flex;\n",
              "      flex-wrap:wrap;\n",
              "      gap: 12px;\n",
              "    }\n",
              "\n",
              "    .colab-df-convert {\n",
              "      background-color: #E8F0FE;\n",
              "      border: none;\n",
              "      border-radius: 50%;\n",
              "      cursor: pointer;\n",
              "      display: none;\n",
              "      fill: #1967D2;\n",
              "      height: 32px;\n",
              "      padding: 0 0 0 0;\n",
              "      width: 32px;\n",
              "    }\n",
              "\n",
              "    .colab-df-convert:hover {\n",
              "      background-color: #E2EBFA;\n",
              "      box-shadow: 0px 1px 2px rgba(60, 64, 67, 0.3), 0px 1px 3px 1px rgba(60, 64, 67, 0.15);\n",
              "      fill: #174EA6;\n",
              "    }\n",
              "\n",
              "    [theme=dark] .colab-df-convert {\n",
              "      background-color: #3B4455;\n",
              "      fill: #D2E3FC;\n",
              "    }\n",
              "\n",
              "    [theme=dark] .colab-df-convert:hover {\n",
              "      background-color: #434B5C;\n",
              "      box-shadow: 0px 1px 3px 1px rgba(0, 0, 0, 0.15);\n",
              "      filter: drop-shadow(0px 1px 2px rgba(0, 0, 0, 0.3));\n",
              "      fill: #FFFFFF;\n",
              "    }\n",
              "  </style>\n",
              "\n",
              "      <script>\n",
              "        const buttonEl =\n",
              "          document.querySelector('#df-9efd6641-a4aa-4de9-83bb-339557258980 button.colab-df-convert');\n",
              "        buttonEl.style.display =\n",
              "          google.colab.kernel.accessAllowed ? 'block' : 'none';\n",
              "\n",
              "        async function convertToInteractive(key) {\n",
              "          const element = document.querySelector('#df-9efd6641-a4aa-4de9-83bb-339557258980');\n",
              "          const dataTable =\n",
              "            await google.colab.kernel.invokeFunction('convertToInteractive',\n",
              "                                                     [key], {});\n",
              "          if (!dataTable) return;\n",
              "\n",
              "          const docLinkHtml = 'Like what you see? Visit the ' +\n",
              "            '<a target=\"_blank\" href=https://colab.research.google.com/notebooks/data_table.ipynb>data table notebook</a>'\n",
              "            + ' to learn more about interactive tables.';\n",
              "          element.innerHTML = '';\n",
              "          dataTable['output_type'] = 'display_data';\n",
              "          await google.colab.output.renderOutput(dataTable, element);\n",
              "          const docLink = document.createElement('div');\n",
              "          docLink.innerHTML = docLinkHtml;\n",
              "          element.appendChild(docLink);\n",
              "        }\n",
              "      </script>\n",
              "    </div>\n",
              "  </div>\n",
              "  "
            ]
          },
          "metadata": {},
          "execution_count": 42
        }
      ],
      "source": [
        "df_match_candidates.head(4)"
      ]
    },
    {
      "cell_type": "markdown",
      "metadata": {
        "id": "elbsqYk4-qVq"
      },
      "source": [
        "### Check warm start"
      ]
    },
    {
      "cell_type": "code",
      "execution_count": 43,
      "metadata": {
        "scrolled": true,
        "id": "8u3VheWF-qVq",
        "outputId": "e2a6ce49-785e-4083-f1d3-cd3467707383",
        "colab": {
          "base_uri": "https://localhost:8080/"
        }
      },
      "outputs": [
        {
          "output_type": "stream",
          "name": "stdout",
          "text": [
            "match_candidates\n",
            "Shape: (150570, 2) Users: 2151 Items: 2942\n"
          ]
        }
      ],
      "source": [
        "print_stats_data(df_match_candidates, 'match_candidates')"
      ]
    },
    {
      "cell_type": "markdown",
      "metadata": {
        "id": "jJOk2daG-qVq"
      },
      "source": [
        "### Создаем трейн сет для ранжирования с учетом кандидатов с этапа 1 "
      ]
    },
    {
      "cell_type": "code",
      "execution_count": 44,
      "metadata": {
        "id": "wag1ArZv-qVq",
        "outputId": "6917c577-e142-4454-ae0e-e50044968c5e",
        "colab": {
          "base_uri": "https://localhost:8080/",
          "height": 206
        }
      },
      "outputs": [
        {
          "output_type": "execute_result",
          "data": {
            "text/plain": [
              "         user_id  item_id  target\n",
              "2104867     2070  1019940       1\n",
              "2107468     2021   840361       1\n",
              "2107469     2021   856060       1\n",
              "2107470     2021   869344       1\n",
              "2107471     2021   896862       1"
            ],
            "text/html": [
              "\n",
              "  <div id=\"df-694c716e-c18e-47f8-b831-60332f501229\">\n",
              "    <div class=\"colab-df-container\">\n",
              "      <div>\n",
              "<style scoped>\n",
              "    .dataframe tbody tr th:only-of-type {\n",
              "        vertical-align: middle;\n",
              "    }\n",
              "\n",
              "    .dataframe tbody tr th {\n",
              "        vertical-align: top;\n",
              "    }\n",
              "\n",
              "    .dataframe thead th {\n",
              "        text-align: right;\n",
              "    }\n",
              "</style>\n",
              "<table border=\"1\" class=\"dataframe\">\n",
              "  <thead>\n",
              "    <tr style=\"text-align: right;\">\n",
              "      <th></th>\n",
              "      <th>user_id</th>\n",
              "      <th>item_id</th>\n",
              "      <th>target</th>\n",
              "    </tr>\n",
              "  </thead>\n",
              "  <tbody>\n",
              "    <tr>\n",
              "      <th>2104867</th>\n",
              "      <td>2070</td>\n",
              "      <td>1019940</td>\n",
              "      <td>1</td>\n",
              "    </tr>\n",
              "    <tr>\n",
              "      <th>2107468</th>\n",
              "      <td>2021</td>\n",
              "      <td>840361</td>\n",
              "      <td>1</td>\n",
              "    </tr>\n",
              "    <tr>\n",
              "      <th>2107469</th>\n",
              "      <td>2021</td>\n",
              "      <td>856060</td>\n",
              "      <td>1</td>\n",
              "    </tr>\n",
              "    <tr>\n",
              "      <th>2107470</th>\n",
              "      <td>2021</td>\n",
              "      <td>869344</td>\n",
              "      <td>1</td>\n",
              "    </tr>\n",
              "    <tr>\n",
              "      <th>2107471</th>\n",
              "      <td>2021</td>\n",
              "      <td>896862</td>\n",
              "      <td>1</td>\n",
              "    </tr>\n",
              "  </tbody>\n",
              "</table>\n",
              "</div>\n",
              "      <button class=\"colab-df-convert\" onclick=\"convertToInteractive('df-694c716e-c18e-47f8-b831-60332f501229')\"\n",
              "              title=\"Convert this dataframe to an interactive table.\"\n",
              "              style=\"display:none;\">\n",
              "        \n",
              "  <svg xmlns=\"http://www.w3.org/2000/svg\" height=\"24px\"viewBox=\"0 0 24 24\"\n",
              "       width=\"24px\">\n",
              "    <path d=\"M0 0h24v24H0V0z\" fill=\"none\"/>\n",
              "    <path d=\"M18.56 5.44l.94 2.06.94-2.06 2.06-.94-2.06-.94-.94-2.06-.94 2.06-2.06.94zm-11 1L8.5 8.5l.94-2.06 2.06-.94-2.06-.94L8.5 2.5l-.94 2.06-2.06.94zm10 10l.94 2.06.94-2.06 2.06-.94-2.06-.94-.94-2.06-.94 2.06-2.06.94z\"/><path d=\"M17.41 7.96l-1.37-1.37c-.4-.4-.92-.59-1.43-.59-.52 0-1.04.2-1.43.59L10.3 9.45l-7.72 7.72c-.78.78-.78 2.05 0 2.83L4 21.41c.39.39.9.59 1.41.59.51 0 1.02-.2 1.41-.59l7.78-7.78 2.81-2.81c.8-.78.8-2.07 0-2.86zM5.41 20L4 18.59l7.72-7.72 1.47 1.35L5.41 20z\"/>\n",
              "  </svg>\n",
              "      </button>\n",
              "      \n",
              "  <style>\n",
              "    .colab-df-container {\n",
              "      display:flex;\n",
              "      flex-wrap:wrap;\n",
              "      gap: 12px;\n",
              "    }\n",
              "\n",
              "    .colab-df-convert {\n",
              "      background-color: #E8F0FE;\n",
              "      border: none;\n",
              "      border-radius: 50%;\n",
              "      cursor: pointer;\n",
              "      display: none;\n",
              "      fill: #1967D2;\n",
              "      height: 32px;\n",
              "      padding: 0 0 0 0;\n",
              "      width: 32px;\n",
              "    }\n",
              "\n",
              "    .colab-df-convert:hover {\n",
              "      background-color: #E2EBFA;\n",
              "      box-shadow: 0px 1px 2px rgba(60, 64, 67, 0.3), 0px 1px 3px 1px rgba(60, 64, 67, 0.15);\n",
              "      fill: #174EA6;\n",
              "    }\n",
              "\n",
              "    [theme=dark] .colab-df-convert {\n",
              "      background-color: #3B4455;\n",
              "      fill: #D2E3FC;\n",
              "    }\n",
              "\n",
              "    [theme=dark] .colab-df-convert:hover {\n",
              "      background-color: #434B5C;\n",
              "      box-shadow: 0px 1px 3px 1px rgba(0, 0, 0, 0.15);\n",
              "      filter: drop-shadow(0px 1px 2px rgba(0, 0, 0, 0.3));\n",
              "      fill: #FFFFFF;\n",
              "    }\n",
              "  </style>\n",
              "\n",
              "      <script>\n",
              "        const buttonEl =\n",
              "          document.querySelector('#df-694c716e-c18e-47f8-b831-60332f501229 button.colab-df-convert');\n",
              "        buttonEl.style.display =\n",
              "          google.colab.kernel.accessAllowed ? 'block' : 'none';\n",
              "\n",
              "        async function convertToInteractive(key) {\n",
              "          const element = document.querySelector('#df-694c716e-c18e-47f8-b831-60332f501229');\n",
              "          const dataTable =\n",
              "            await google.colab.kernel.invokeFunction('convertToInteractive',\n",
              "                                                     [key], {});\n",
              "          if (!dataTable) return;\n",
              "\n",
              "          const docLinkHtml = 'Like what you see? Visit the ' +\n",
              "            '<a target=\"_blank\" href=https://colab.research.google.com/notebooks/data_table.ipynb>data table notebook</a>'\n",
              "            + ' to learn more about interactive tables.';\n",
              "          element.innerHTML = '';\n",
              "          dataTable['output_type'] = 'display_data';\n",
              "          await google.colab.output.renderOutput(dataTable, element);\n",
              "          const docLink = document.createElement('div');\n",
              "          docLink.innerHTML = docLinkHtml;\n",
              "          element.appendChild(docLink);\n",
              "        }\n",
              "      </script>\n",
              "    </div>\n",
              "  </div>\n",
              "  "
            ]
          },
          "metadata": {},
          "execution_count": 44
        }
      ],
      "source": [
        "df_ranker_train = data_train_ranker[[USER_COL, ITEM_COL]].copy()\n",
        "df_ranker_train['target'] = 1  # тут только покупки \n",
        "\n",
        "df_ranker_train.head()"
      ]
    },
    {
      "cell_type": "code",
      "execution_count": 45,
      "metadata": {
        "id": "W5xCq24T-qVq"
      },
      "outputs": [],
      "source": [
        "df_ranker_train = df_match_candidates.merge(df_ranker_train, on=[USER_COL, ITEM_COL], how='left')\n",
        "\n",
        "# чистим дубликаты\n",
        "df_ranker_train = df_ranker_train.drop_duplicates(subset=[USER_COL, ITEM_COL])\n",
        "\n",
        "df_ranker_train['target'].fillna(0, inplace= True)"
      ]
    },
    {
      "cell_type": "code",
      "execution_count": 46,
      "metadata": {
        "id": "OpgvFrVD-qVr",
        "outputId": "847f93dc-4816-4e3a-f7d5-f5181ed96cb7",
        "colab": {
          "base_uri": "https://localhost:8080/"
        }
      },
      "outputs": [
        {
          "output_type": "execute_result",
          "data": {
            "text/plain": [
              "0.0    137555\n",
              "1.0     10536\n",
              "Name: target, dtype: int64"
            ]
          },
          "metadata": {},
          "execution_count": 46
        }
      ],
      "source": [
        "df_ranker_train.target.value_counts()"
      ]
    },
    {
      "cell_type": "code",
      "execution_count": 47,
      "metadata": {
        "id": "6RSqUyLc-qVr",
        "outputId": "1cfaae6f-a5db-4822-e770-b394beb25d51",
        "colab": {
          "base_uri": "https://localhost:8080/",
          "height": 112
        }
      },
      "outputs": [
        {
          "output_type": "execute_result",
          "data": {
            "text/plain": [
              "   user_id  item_id  target\n",
              "0     2070  1105426     0.0\n",
              "1     2070  1092937     1.0"
            ],
            "text/html": [
              "\n",
              "  <div id=\"df-d9b7b1ef-ae1b-4180-be6c-84b57c38be7e\">\n",
              "    <div class=\"colab-df-container\">\n",
              "      <div>\n",
              "<style scoped>\n",
              "    .dataframe tbody tr th:only-of-type {\n",
              "        vertical-align: middle;\n",
              "    }\n",
              "\n",
              "    .dataframe tbody tr th {\n",
              "        vertical-align: top;\n",
              "    }\n",
              "\n",
              "    .dataframe thead th {\n",
              "        text-align: right;\n",
              "    }\n",
              "</style>\n",
              "<table border=\"1\" class=\"dataframe\">\n",
              "  <thead>\n",
              "    <tr style=\"text-align: right;\">\n",
              "      <th></th>\n",
              "      <th>user_id</th>\n",
              "      <th>item_id</th>\n",
              "      <th>target</th>\n",
              "    </tr>\n",
              "  </thead>\n",
              "  <tbody>\n",
              "    <tr>\n",
              "      <th>0</th>\n",
              "      <td>2070</td>\n",
              "      <td>1105426</td>\n",
              "      <td>0.0</td>\n",
              "    </tr>\n",
              "    <tr>\n",
              "      <th>1</th>\n",
              "      <td>2070</td>\n",
              "      <td>1092937</td>\n",
              "      <td>1.0</td>\n",
              "    </tr>\n",
              "  </tbody>\n",
              "</table>\n",
              "</div>\n",
              "      <button class=\"colab-df-convert\" onclick=\"convertToInteractive('df-d9b7b1ef-ae1b-4180-be6c-84b57c38be7e')\"\n",
              "              title=\"Convert this dataframe to an interactive table.\"\n",
              "              style=\"display:none;\">\n",
              "        \n",
              "  <svg xmlns=\"http://www.w3.org/2000/svg\" height=\"24px\"viewBox=\"0 0 24 24\"\n",
              "       width=\"24px\">\n",
              "    <path d=\"M0 0h24v24H0V0z\" fill=\"none\"/>\n",
              "    <path d=\"M18.56 5.44l.94 2.06.94-2.06 2.06-.94-2.06-.94-.94-2.06-.94 2.06-2.06.94zm-11 1L8.5 8.5l.94-2.06 2.06-.94-2.06-.94L8.5 2.5l-.94 2.06-2.06.94zm10 10l.94 2.06.94-2.06 2.06-.94-2.06-.94-.94-2.06-.94 2.06-2.06.94z\"/><path d=\"M17.41 7.96l-1.37-1.37c-.4-.4-.92-.59-1.43-.59-.52 0-1.04.2-1.43.59L10.3 9.45l-7.72 7.72c-.78.78-.78 2.05 0 2.83L4 21.41c.39.39.9.59 1.41.59.51 0 1.02-.2 1.41-.59l7.78-7.78 2.81-2.81c.8-.78.8-2.07 0-2.86zM5.41 20L4 18.59l7.72-7.72 1.47 1.35L5.41 20z\"/>\n",
              "  </svg>\n",
              "      </button>\n",
              "      \n",
              "  <style>\n",
              "    .colab-df-container {\n",
              "      display:flex;\n",
              "      flex-wrap:wrap;\n",
              "      gap: 12px;\n",
              "    }\n",
              "\n",
              "    .colab-df-convert {\n",
              "      background-color: #E8F0FE;\n",
              "      border: none;\n",
              "      border-radius: 50%;\n",
              "      cursor: pointer;\n",
              "      display: none;\n",
              "      fill: #1967D2;\n",
              "      height: 32px;\n",
              "      padding: 0 0 0 0;\n",
              "      width: 32px;\n",
              "    }\n",
              "\n",
              "    .colab-df-convert:hover {\n",
              "      background-color: #E2EBFA;\n",
              "      box-shadow: 0px 1px 2px rgba(60, 64, 67, 0.3), 0px 1px 3px 1px rgba(60, 64, 67, 0.15);\n",
              "      fill: #174EA6;\n",
              "    }\n",
              "\n",
              "    [theme=dark] .colab-df-convert {\n",
              "      background-color: #3B4455;\n",
              "      fill: #D2E3FC;\n",
              "    }\n",
              "\n",
              "    [theme=dark] .colab-df-convert:hover {\n",
              "      background-color: #434B5C;\n",
              "      box-shadow: 0px 1px 3px 1px rgba(0, 0, 0, 0.15);\n",
              "      filter: drop-shadow(0px 1px 2px rgba(0, 0, 0, 0.3));\n",
              "      fill: #FFFFFF;\n",
              "    }\n",
              "  </style>\n",
              "\n",
              "      <script>\n",
              "        const buttonEl =\n",
              "          document.querySelector('#df-d9b7b1ef-ae1b-4180-be6c-84b57c38be7e button.colab-df-convert');\n",
              "        buttonEl.style.display =\n",
              "          google.colab.kernel.accessAllowed ? 'block' : 'none';\n",
              "\n",
              "        async function convertToInteractive(key) {\n",
              "          const element = document.querySelector('#df-d9b7b1ef-ae1b-4180-be6c-84b57c38be7e');\n",
              "          const dataTable =\n",
              "            await google.colab.kernel.invokeFunction('convertToInteractive',\n",
              "                                                     [key], {});\n",
              "          if (!dataTable) return;\n",
              "\n",
              "          const docLinkHtml = 'Like what you see? Visit the ' +\n",
              "            '<a target=\"_blank\" href=https://colab.research.google.com/notebooks/data_table.ipynb>data table notebook</a>'\n",
              "            + ' to learn more about interactive tables.';\n",
              "          element.innerHTML = '';\n",
              "          dataTable['output_type'] = 'display_data';\n",
              "          await google.colab.output.renderOutput(dataTable, element);\n",
              "          const docLink = document.createElement('div');\n",
              "          docLink.innerHTML = docLinkHtml;\n",
              "          element.appendChild(docLink);\n",
              "        }\n",
              "      </script>\n",
              "    </div>\n",
              "  </div>\n",
              "  "
            ]
          },
          "metadata": {},
          "execution_count": 47
        }
      ],
      "source": [
        "df_ranker_train.head(2)"
      ]
    },
    {
      "cell_type": "markdown",
      "metadata": {
        "id": "EE_BYrhm-qVr"
      },
      "source": [
        "(!) На каждого юзера 50 item_id-кандидатов"
      ]
    },
    {
      "cell_type": "code",
      "execution_count": 48,
      "metadata": {
        "id": "osFVLFe5-qVr",
        "outputId": "7c550721-a1e4-4ba8-ce09-5b8d344a2915",
        "colab": {
          "base_uri": "https://localhost:8080/"
        }
      },
      "outputs": [
        {
          "output_type": "execute_result",
          "data": {
            "text/plain": [
              "0.07114544435516"
            ]
          },
          "metadata": {},
          "execution_count": 48
        }
      ],
      "source": [
        "df_ranker_train['target'].mean()"
      ]
    },
    {
      "cell_type": "markdown",
      "metadata": {
        "id": "jwkkof76-qVr"
      },
      "source": [
        "1) Pointwise\n",
        "2) Pairwise\n",
        "3) ListWise"
      ]
    },
    {
      "cell_type": "markdown",
      "metadata": {
        "id": "2YSZbcSl-qVs"
      },
      "source": [
        "- Пока для простоты обучения выберем LightGBM c loss = binary. Это классическая бинарная классификация\n",
        "- Это пример *без* генерации фич"
      ]
    },
    {
      "cell_type": "markdown",
      "metadata": {
        "id": "nmCADc5e-qVs"
      },
      "source": [
        "## Подготавливаем фичи для обучения модели"
      ]
    },
    {
      "cell_type": "markdown",
      "metadata": {
        "id": "MPUwEQOj-qVs"
      },
      "source": [
        "### Описательные фичи"
      ]
    },
    {
      "cell_type": "code",
      "execution_count": 49,
      "metadata": {
        "id": "68MnmfHs-qVt",
        "outputId": "30faf3d1-7208-4940-9fb3-7e161aeff942",
        "colab": {
          "base_uri": "https://localhost:8080/",
          "height": 112
        }
      },
      "outputs": [
        {
          "output_type": "execute_result",
          "data": {
            "text/plain": [
              "   item_id  manufacturer    department     brand            commodity_desc  \\\n",
              "0    25671             2       GROCERY  National                  FRZN ICE   \n",
              "1    26081             2  MISC. TRANS.  National  NO COMMODITY DESCRIPTION   \n",
              "\n",
              "            sub_commodity_desc curr_size_of_product  \n",
              "0          ICE - CRUSHED/CUBED                22 LB  \n",
              "1  NO SUBCOMMODITY DESCRIPTION                       "
            ],
            "text/html": [
              "\n",
              "  <div id=\"df-ec6d0b16-9261-475f-9bdd-a6024566bf17\">\n",
              "    <div class=\"colab-df-container\">\n",
              "      <div>\n",
              "<style scoped>\n",
              "    .dataframe tbody tr th:only-of-type {\n",
              "        vertical-align: middle;\n",
              "    }\n",
              "\n",
              "    .dataframe tbody tr th {\n",
              "        vertical-align: top;\n",
              "    }\n",
              "\n",
              "    .dataframe thead th {\n",
              "        text-align: right;\n",
              "    }\n",
              "</style>\n",
              "<table border=\"1\" class=\"dataframe\">\n",
              "  <thead>\n",
              "    <tr style=\"text-align: right;\">\n",
              "      <th></th>\n",
              "      <th>item_id</th>\n",
              "      <th>manufacturer</th>\n",
              "      <th>department</th>\n",
              "      <th>brand</th>\n",
              "      <th>commodity_desc</th>\n",
              "      <th>sub_commodity_desc</th>\n",
              "      <th>curr_size_of_product</th>\n",
              "    </tr>\n",
              "  </thead>\n",
              "  <tbody>\n",
              "    <tr>\n",
              "      <th>0</th>\n",
              "      <td>25671</td>\n",
              "      <td>2</td>\n",
              "      <td>GROCERY</td>\n",
              "      <td>National</td>\n",
              "      <td>FRZN ICE</td>\n",
              "      <td>ICE - CRUSHED/CUBED</td>\n",
              "      <td>22 LB</td>\n",
              "    </tr>\n",
              "    <tr>\n",
              "      <th>1</th>\n",
              "      <td>26081</td>\n",
              "      <td>2</td>\n",
              "      <td>MISC. TRANS.</td>\n",
              "      <td>National</td>\n",
              "      <td>NO COMMODITY DESCRIPTION</td>\n",
              "      <td>NO SUBCOMMODITY DESCRIPTION</td>\n",
              "      <td></td>\n",
              "    </tr>\n",
              "  </tbody>\n",
              "</table>\n",
              "</div>\n",
              "      <button class=\"colab-df-convert\" onclick=\"convertToInteractive('df-ec6d0b16-9261-475f-9bdd-a6024566bf17')\"\n",
              "              title=\"Convert this dataframe to an interactive table.\"\n",
              "              style=\"display:none;\">\n",
              "        \n",
              "  <svg xmlns=\"http://www.w3.org/2000/svg\" height=\"24px\"viewBox=\"0 0 24 24\"\n",
              "       width=\"24px\">\n",
              "    <path d=\"M0 0h24v24H0V0z\" fill=\"none\"/>\n",
              "    <path d=\"M18.56 5.44l.94 2.06.94-2.06 2.06-.94-2.06-.94-.94-2.06-.94 2.06-2.06.94zm-11 1L8.5 8.5l.94-2.06 2.06-.94-2.06-.94L8.5 2.5l-.94 2.06-2.06.94zm10 10l.94 2.06.94-2.06 2.06-.94-2.06-.94-.94-2.06-.94 2.06-2.06.94z\"/><path d=\"M17.41 7.96l-1.37-1.37c-.4-.4-.92-.59-1.43-.59-.52 0-1.04.2-1.43.59L10.3 9.45l-7.72 7.72c-.78.78-.78 2.05 0 2.83L4 21.41c.39.39.9.59 1.41.59.51 0 1.02-.2 1.41-.59l7.78-7.78 2.81-2.81c.8-.78.8-2.07 0-2.86zM5.41 20L4 18.59l7.72-7.72 1.47 1.35L5.41 20z\"/>\n",
              "  </svg>\n",
              "      </button>\n",
              "      \n",
              "  <style>\n",
              "    .colab-df-container {\n",
              "      display:flex;\n",
              "      flex-wrap:wrap;\n",
              "      gap: 12px;\n",
              "    }\n",
              "\n",
              "    .colab-df-convert {\n",
              "      background-color: #E8F0FE;\n",
              "      border: none;\n",
              "      border-radius: 50%;\n",
              "      cursor: pointer;\n",
              "      display: none;\n",
              "      fill: #1967D2;\n",
              "      height: 32px;\n",
              "      padding: 0 0 0 0;\n",
              "      width: 32px;\n",
              "    }\n",
              "\n",
              "    .colab-df-convert:hover {\n",
              "      background-color: #E2EBFA;\n",
              "      box-shadow: 0px 1px 2px rgba(60, 64, 67, 0.3), 0px 1px 3px 1px rgba(60, 64, 67, 0.15);\n",
              "      fill: #174EA6;\n",
              "    }\n",
              "\n",
              "    [theme=dark] .colab-df-convert {\n",
              "      background-color: #3B4455;\n",
              "      fill: #D2E3FC;\n",
              "    }\n",
              "\n",
              "    [theme=dark] .colab-df-convert:hover {\n",
              "      background-color: #434B5C;\n",
              "      box-shadow: 0px 1px 3px 1px rgba(0, 0, 0, 0.15);\n",
              "      filter: drop-shadow(0px 1px 2px rgba(0, 0, 0, 0.3));\n",
              "      fill: #FFFFFF;\n",
              "    }\n",
              "  </style>\n",
              "\n",
              "      <script>\n",
              "        const buttonEl =\n",
              "          document.querySelector('#df-ec6d0b16-9261-475f-9bdd-a6024566bf17 button.colab-df-convert');\n",
              "        buttonEl.style.display =\n",
              "          google.colab.kernel.accessAllowed ? 'block' : 'none';\n",
              "\n",
              "        async function convertToInteractive(key) {\n",
              "          const element = document.querySelector('#df-ec6d0b16-9261-475f-9bdd-a6024566bf17');\n",
              "          const dataTable =\n",
              "            await google.colab.kernel.invokeFunction('convertToInteractive',\n",
              "                                                     [key], {});\n",
              "          if (!dataTable) return;\n",
              "\n",
              "          const docLinkHtml = 'Like what you see? Visit the ' +\n",
              "            '<a target=\"_blank\" href=https://colab.research.google.com/notebooks/data_table.ipynb>data table notebook</a>'\n",
              "            + ' to learn more about interactive tables.';\n",
              "          element.innerHTML = '';\n",
              "          dataTable['output_type'] = 'display_data';\n",
              "          await google.colab.output.renderOutput(dataTable, element);\n",
              "          const docLink = document.createElement('div');\n",
              "          docLink.innerHTML = docLinkHtml;\n",
              "          element.appendChild(docLink);\n",
              "        }\n",
              "      </script>\n",
              "    </div>\n",
              "  </div>\n",
              "  "
            ]
          },
          "metadata": {},
          "execution_count": 49
        }
      ],
      "source": [
        "item_features.head(2)"
      ]
    },
    {
      "cell_type": "code",
      "execution_count": 50,
      "metadata": {
        "id": "16We5Hir-qVt",
        "outputId": "94fc3d90-6383-4c9b-cde5-09265d87d9ce",
        "colab": {
          "base_uri": "https://localhost:8080/",
          "height": 112
        }
      },
      "outputs": [
        {
          "output_type": "execute_result",
          "data": {
            "text/plain": [
              "  age_desc marital_status_code income_desc homeowner_desc      hh_comp_desc  \\\n",
              "0      65+                   A      35-49K      Homeowner  2 Adults No Kids   \n",
              "1    45-54                   A      50-74K      Homeowner  2 Adults No Kids   \n",
              "\n",
              "  household_size_desc kid_category_desc  user_id  \n",
              "0                   2      None/Unknown        1  \n",
              "1                   2      None/Unknown        7  "
            ],
            "text/html": [
              "\n",
              "  <div id=\"df-6e95d956-9cfc-4c0f-b99b-6054a0994c3c\">\n",
              "    <div class=\"colab-df-container\">\n",
              "      <div>\n",
              "<style scoped>\n",
              "    .dataframe tbody tr th:only-of-type {\n",
              "        vertical-align: middle;\n",
              "    }\n",
              "\n",
              "    .dataframe tbody tr th {\n",
              "        vertical-align: top;\n",
              "    }\n",
              "\n",
              "    .dataframe thead th {\n",
              "        text-align: right;\n",
              "    }\n",
              "</style>\n",
              "<table border=\"1\" class=\"dataframe\">\n",
              "  <thead>\n",
              "    <tr style=\"text-align: right;\">\n",
              "      <th></th>\n",
              "      <th>age_desc</th>\n",
              "      <th>marital_status_code</th>\n",
              "      <th>income_desc</th>\n",
              "      <th>homeowner_desc</th>\n",
              "      <th>hh_comp_desc</th>\n",
              "      <th>household_size_desc</th>\n",
              "      <th>kid_category_desc</th>\n",
              "      <th>user_id</th>\n",
              "    </tr>\n",
              "  </thead>\n",
              "  <tbody>\n",
              "    <tr>\n",
              "      <th>0</th>\n",
              "      <td>65+</td>\n",
              "      <td>A</td>\n",
              "      <td>35-49K</td>\n",
              "      <td>Homeowner</td>\n",
              "      <td>2 Adults No Kids</td>\n",
              "      <td>2</td>\n",
              "      <td>None/Unknown</td>\n",
              "      <td>1</td>\n",
              "    </tr>\n",
              "    <tr>\n",
              "      <th>1</th>\n",
              "      <td>45-54</td>\n",
              "      <td>A</td>\n",
              "      <td>50-74K</td>\n",
              "      <td>Homeowner</td>\n",
              "      <td>2 Adults No Kids</td>\n",
              "      <td>2</td>\n",
              "      <td>None/Unknown</td>\n",
              "      <td>7</td>\n",
              "    </tr>\n",
              "  </tbody>\n",
              "</table>\n",
              "</div>\n",
              "      <button class=\"colab-df-convert\" onclick=\"convertToInteractive('df-6e95d956-9cfc-4c0f-b99b-6054a0994c3c')\"\n",
              "              title=\"Convert this dataframe to an interactive table.\"\n",
              "              style=\"display:none;\">\n",
              "        \n",
              "  <svg xmlns=\"http://www.w3.org/2000/svg\" height=\"24px\"viewBox=\"0 0 24 24\"\n",
              "       width=\"24px\">\n",
              "    <path d=\"M0 0h24v24H0V0z\" fill=\"none\"/>\n",
              "    <path d=\"M18.56 5.44l.94 2.06.94-2.06 2.06-.94-2.06-.94-.94-2.06-.94 2.06-2.06.94zm-11 1L8.5 8.5l.94-2.06 2.06-.94-2.06-.94L8.5 2.5l-.94 2.06-2.06.94zm10 10l.94 2.06.94-2.06 2.06-.94-2.06-.94-.94-2.06-.94 2.06-2.06.94z\"/><path d=\"M17.41 7.96l-1.37-1.37c-.4-.4-.92-.59-1.43-.59-.52 0-1.04.2-1.43.59L10.3 9.45l-7.72 7.72c-.78.78-.78 2.05 0 2.83L4 21.41c.39.39.9.59 1.41.59.51 0 1.02-.2 1.41-.59l7.78-7.78 2.81-2.81c.8-.78.8-2.07 0-2.86zM5.41 20L4 18.59l7.72-7.72 1.47 1.35L5.41 20z\"/>\n",
              "  </svg>\n",
              "      </button>\n",
              "      \n",
              "  <style>\n",
              "    .colab-df-container {\n",
              "      display:flex;\n",
              "      flex-wrap:wrap;\n",
              "      gap: 12px;\n",
              "    }\n",
              "\n",
              "    .colab-df-convert {\n",
              "      background-color: #E8F0FE;\n",
              "      border: none;\n",
              "      border-radius: 50%;\n",
              "      cursor: pointer;\n",
              "      display: none;\n",
              "      fill: #1967D2;\n",
              "      height: 32px;\n",
              "      padding: 0 0 0 0;\n",
              "      width: 32px;\n",
              "    }\n",
              "\n",
              "    .colab-df-convert:hover {\n",
              "      background-color: #E2EBFA;\n",
              "      box-shadow: 0px 1px 2px rgba(60, 64, 67, 0.3), 0px 1px 3px 1px rgba(60, 64, 67, 0.15);\n",
              "      fill: #174EA6;\n",
              "    }\n",
              "\n",
              "    [theme=dark] .colab-df-convert {\n",
              "      background-color: #3B4455;\n",
              "      fill: #D2E3FC;\n",
              "    }\n",
              "\n",
              "    [theme=dark] .colab-df-convert:hover {\n",
              "      background-color: #434B5C;\n",
              "      box-shadow: 0px 1px 3px 1px rgba(0, 0, 0, 0.15);\n",
              "      filter: drop-shadow(0px 1px 2px rgba(0, 0, 0, 0.3));\n",
              "      fill: #FFFFFF;\n",
              "    }\n",
              "  </style>\n",
              "\n",
              "      <script>\n",
              "        const buttonEl =\n",
              "          document.querySelector('#df-6e95d956-9cfc-4c0f-b99b-6054a0994c3c button.colab-df-convert');\n",
              "        buttonEl.style.display =\n",
              "          google.colab.kernel.accessAllowed ? 'block' : 'none';\n",
              "\n",
              "        async function convertToInteractive(key) {\n",
              "          const element = document.querySelector('#df-6e95d956-9cfc-4c0f-b99b-6054a0994c3c');\n",
              "          const dataTable =\n",
              "            await google.colab.kernel.invokeFunction('convertToInteractive',\n",
              "                                                     [key], {});\n",
              "          if (!dataTable) return;\n",
              "\n",
              "          const docLinkHtml = 'Like what you see? Visit the ' +\n",
              "            '<a target=\"_blank\" href=https://colab.research.google.com/notebooks/data_table.ipynb>data table notebook</a>'\n",
              "            + ' to learn more about interactive tables.';\n",
              "          element.innerHTML = '';\n",
              "          dataTable['output_type'] = 'display_data';\n",
              "          await google.colab.output.renderOutput(dataTable, element);\n",
              "          const docLink = document.createElement('div');\n",
              "          docLink.innerHTML = docLinkHtml;\n",
              "          element.appendChild(docLink);\n",
              "        }\n",
              "      </script>\n",
              "    </div>\n",
              "  </div>\n",
              "  "
            ]
          },
          "metadata": {},
          "execution_count": 50
        }
      ],
      "source": [
        "user_features.head(2)"
      ]
    },
    {
      "cell_type": "code",
      "execution_count": 51,
      "metadata": {
        "id": "UwGXXjbj-qVu",
        "outputId": "9bcaed9a-d1b6-426c-914d-e8bf3eefacc0",
        "colab": {
          "base_uri": "https://localhost:8080/",
          "height": 191
        }
      },
      "outputs": [
        {
          "output_type": "execute_result",
          "data": {
            "text/plain": [
              "   user_id  item_id  target  manufacturer  department     brand  \\\n",
              "0     2070  1105426     0.0            69        DELI   Private   \n",
              "1     2070  1092937     1.0          1089  MEAT-PCKGD  National   \n",
              "\n",
              "  commodity_desc   sub_commodity_desc curr_size_of_product age_desc  \\\n",
              "0     SANDWICHES  SANDWICHES - (COLD)                         45-54   \n",
              "1      LUNCHMEAT              BOLOGNA                 16OZ    45-54   \n",
              "\n",
              "  marital_status_code income_desc homeowner_desc hh_comp_desc  \\\n",
              "0                   U      50-74K        Unknown      Unknown   \n",
              "1                   U      50-74K        Unknown      Unknown   \n",
              "\n",
              "  household_size_desc kid_category_desc  \n",
              "0                   1      None/Unknown  \n",
              "1                   1      None/Unknown  "
            ],
            "text/html": [
              "\n",
              "  <div id=\"df-603f37f9-bdac-4ab4-bd25-60a73f07a338\">\n",
              "    <div class=\"colab-df-container\">\n",
              "      <div>\n",
              "<style scoped>\n",
              "    .dataframe tbody tr th:only-of-type {\n",
              "        vertical-align: middle;\n",
              "    }\n",
              "\n",
              "    .dataframe tbody tr th {\n",
              "        vertical-align: top;\n",
              "    }\n",
              "\n",
              "    .dataframe thead th {\n",
              "        text-align: right;\n",
              "    }\n",
              "</style>\n",
              "<table border=\"1\" class=\"dataframe\">\n",
              "  <thead>\n",
              "    <tr style=\"text-align: right;\">\n",
              "      <th></th>\n",
              "      <th>user_id</th>\n",
              "      <th>item_id</th>\n",
              "      <th>target</th>\n",
              "      <th>manufacturer</th>\n",
              "      <th>department</th>\n",
              "      <th>brand</th>\n",
              "      <th>commodity_desc</th>\n",
              "      <th>sub_commodity_desc</th>\n",
              "      <th>curr_size_of_product</th>\n",
              "      <th>age_desc</th>\n",
              "      <th>marital_status_code</th>\n",
              "      <th>income_desc</th>\n",
              "      <th>homeowner_desc</th>\n",
              "      <th>hh_comp_desc</th>\n",
              "      <th>household_size_desc</th>\n",
              "      <th>kid_category_desc</th>\n",
              "    </tr>\n",
              "  </thead>\n",
              "  <tbody>\n",
              "    <tr>\n",
              "      <th>0</th>\n",
              "      <td>2070</td>\n",
              "      <td>1105426</td>\n",
              "      <td>0.0</td>\n",
              "      <td>69</td>\n",
              "      <td>DELI</td>\n",
              "      <td>Private</td>\n",
              "      <td>SANDWICHES</td>\n",
              "      <td>SANDWICHES - (COLD)</td>\n",
              "      <td></td>\n",
              "      <td>45-54</td>\n",
              "      <td>U</td>\n",
              "      <td>50-74K</td>\n",
              "      <td>Unknown</td>\n",
              "      <td>Unknown</td>\n",
              "      <td>1</td>\n",
              "      <td>None/Unknown</td>\n",
              "    </tr>\n",
              "    <tr>\n",
              "      <th>1</th>\n",
              "      <td>2070</td>\n",
              "      <td>1092937</td>\n",
              "      <td>1.0</td>\n",
              "      <td>1089</td>\n",
              "      <td>MEAT-PCKGD</td>\n",
              "      <td>National</td>\n",
              "      <td>LUNCHMEAT</td>\n",
              "      <td>BOLOGNA</td>\n",
              "      <td>16OZ</td>\n",
              "      <td>45-54</td>\n",
              "      <td>U</td>\n",
              "      <td>50-74K</td>\n",
              "      <td>Unknown</td>\n",
              "      <td>Unknown</td>\n",
              "      <td>1</td>\n",
              "      <td>None/Unknown</td>\n",
              "    </tr>\n",
              "  </tbody>\n",
              "</table>\n",
              "</div>\n",
              "      <button class=\"colab-df-convert\" onclick=\"convertToInteractive('df-603f37f9-bdac-4ab4-bd25-60a73f07a338')\"\n",
              "              title=\"Convert this dataframe to an interactive table.\"\n",
              "              style=\"display:none;\">\n",
              "        \n",
              "  <svg xmlns=\"http://www.w3.org/2000/svg\" height=\"24px\"viewBox=\"0 0 24 24\"\n",
              "       width=\"24px\">\n",
              "    <path d=\"M0 0h24v24H0V0z\" fill=\"none\"/>\n",
              "    <path d=\"M18.56 5.44l.94 2.06.94-2.06 2.06-.94-2.06-.94-.94-2.06-.94 2.06-2.06.94zm-11 1L8.5 8.5l.94-2.06 2.06-.94-2.06-.94L8.5 2.5l-.94 2.06-2.06.94zm10 10l.94 2.06.94-2.06 2.06-.94-2.06-.94-.94-2.06-.94 2.06-2.06.94z\"/><path d=\"M17.41 7.96l-1.37-1.37c-.4-.4-.92-.59-1.43-.59-.52 0-1.04.2-1.43.59L10.3 9.45l-7.72 7.72c-.78.78-.78 2.05 0 2.83L4 21.41c.39.39.9.59 1.41.59.51 0 1.02-.2 1.41-.59l7.78-7.78 2.81-2.81c.8-.78.8-2.07 0-2.86zM5.41 20L4 18.59l7.72-7.72 1.47 1.35L5.41 20z\"/>\n",
              "  </svg>\n",
              "      </button>\n",
              "      \n",
              "  <style>\n",
              "    .colab-df-container {\n",
              "      display:flex;\n",
              "      flex-wrap:wrap;\n",
              "      gap: 12px;\n",
              "    }\n",
              "\n",
              "    .colab-df-convert {\n",
              "      background-color: #E8F0FE;\n",
              "      border: none;\n",
              "      border-radius: 50%;\n",
              "      cursor: pointer;\n",
              "      display: none;\n",
              "      fill: #1967D2;\n",
              "      height: 32px;\n",
              "      padding: 0 0 0 0;\n",
              "      width: 32px;\n",
              "    }\n",
              "\n",
              "    .colab-df-convert:hover {\n",
              "      background-color: #E2EBFA;\n",
              "      box-shadow: 0px 1px 2px rgba(60, 64, 67, 0.3), 0px 1px 3px 1px rgba(60, 64, 67, 0.15);\n",
              "      fill: #174EA6;\n",
              "    }\n",
              "\n",
              "    [theme=dark] .colab-df-convert {\n",
              "      background-color: #3B4455;\n",
              "      fill: #D2E3FC;\n",
              "    }\n",
              "\n",
              "    [theme=dark] .colab-df-convert:hover {\n",
              "      background-color: #434B5C;\n",
              "      box-shadow: 0px 1px 3px 1px rgba(0, 0, 0, 0.15);\n",
              "      filter: drop-shadow(0px 1px 2px rgba(0, 0, 0, 0.3));\n",
              "      fill: #FFFFFF;\n",
              "    }\n",
              "  </style>\n",
              "\n",
              "      <script>\n",
              "        const buttonEl =\n",
              "          document.querySelector('#df-603f37f9-bdac-4ab4-bd25-60a73f07a338 button.colab-df-convert');\n",
              "        buttonEl.style.display =\n",
              "          google.colab.kernel.accessAllowed ? 'block' : 'none';\n",
              "\n",
              "        async function convertToInteractive(key) {\n",
              "          const element = document.querySelector('#df-603f37f9-bdac-4ab4-bd25-60a73f07a338');\n",
              "          const dataTable =\n",
              "            await google.colab.kernel.invokeFunction('convertToInteractive',\n",
              "                                                     [key], {});\n",
              "          if (!dataTable) return;\n",
              "\n",
              "          const docLinkHtml = 'Like what you see? Visit the ' +\n",
              "            '<a target=\"_blank\" href=https://colab.research.google.com/notebooks/data_table.ipynb>data table notebook</a>'\n",
              "            + ' to learn more about interactive tables.';\n",
              "          element.innerHTML = '';\n",
              "          dataTable['output_type'] = 'display_data';\n",
              "          await google.colab.output.renderOutput(dataTable, element);\n",
              "          const docLink = document.createElement('div');\n",
              "          docLink.innerHTML = docLinkHtml;\n",
              "          element.appendChild(docLink);\n",
              "        }\n",
              "      </script>\n",
              "    </div>\n",
              "  </div>\n",
              "  "
            ]
          },
          "metadata": {},
          "execution_count": 51
        }
      ],
      "source": [
        "df_ranker_train = df_ranker_train.merge(item_features, on='item_id', how='left')\n",
        "df_ranker_train = df_ranker_train.merge(user_features, on='user_id', how='left')\n",
        "\n",
        "df_ranker_train.head(2)"
      ]
    },
    {
      "cell_type": "markdown",
      "metadata": {
        "id": "DCsxh8cz-qVv"
      },
      "source": [
        "**Фичи user_id:**\n",
        "    - Средний чек\n",
        "    - Средняя сумма покупки 1 товара в каждой категории\n",
        "    - Кол-во покупок в каждой категории\n",
        "    - Частотность покупок раз/месяц\n",
        "    - Долю покупок в выходные\n",
        "    - Долю покупок утром/днем/вечером\n",
        "\n",
        "**Фичи item_id**:\n",
        "    - Кол-во покупок в неделю\n",
        "    - Среднее ол-во покупок 1 товара в категории в неделю\n",
        "    - (Кол-во покупок в неделю) / (Среднее ол-во покупок 1 товара в категории в неделю)\n",
        "    - Цена (Можно посчитать из retil_train.csv)\n",
        "    - Цена / Средняя цена товара в категории\n",
        "    \n",
        "**Фичи пары user_id - item_id**\n",
        "    - (Средняя сумма покупки 1 товара в каждой категории (берем категорию item_id)) - (Цена item_id)\n",
        "    - (Кол-во покупок юзером конкретной категории в неделю) - (Среднее кол-во покупок всеми юзерами конкретной категории в неделю)\n",
        "    - (Кол-во покупок юзером конкретной категории в неделю) / (Среднее кол-во покупок всеми юзерами конкретной категории в неделю)"
      ]
    },
    {
      "cell_type": "markdown",
      "metadata": {
        "id": "3_tfcMs3-qVv"
      },
      "source": [
        "### Поведенческие фичи\n",
        "\n",
        "##### Чтобы считать поведенческие фичи, нужно учесть все данные что были до data_val_ranker"
      ]
    },
    {
      "cell_type": "code",
      "execution_count": 52,
      "metadata": {
        "id": "6y5U_O0S-qVw",
        "outputId": "668c0dd0-07b0-4837-a7d8-0365ec2b3f60",
        "colab": {
          "base_uri": "https://localhost:8080/",
          "height": 206
        }
      },
      "outputs": [
        {
          "output_type": "execute_result",
          "data": {
            "text/plain": [
              "   user_id    basket_id  day  item_id  quantity  sales_value  store_id  \\\n",
              "0     2375  26984851472    1  1004906         1         1.39       364   \n",
              "1     2375  26984851472    1  1033142         1         0.82       364   \n",
              "2     2375  26984851472    1  1036325         1         0.99       364   \n",
              "3     2375  26984851472    1  1082185         1         1.21       364   \n",
              "4     2375  26984851472    1  8160430         1         1.50       364   \n",
              "\n",
              "   retail_disc  trans_time  week_no  coupon_disc  coupon_match_disc  \n",
              "0        -0.60        1631        1          0.0                0.0  \n",
              "1         0.00        1631        1          0.0                0.0  \n",
              "2        -0.30        1631        1          0.0                0.0  \n",
              "3         0.00        1631        1          0.0                0.0  \n",
              "4        -0.39        1631        1          0.0                0.0  "
            ],
            "text/html": [
              "\n",
              "  <div id=\"df-4b7fac7c-9984-453a-832b-d7a60b339346\">\n",
              "    <div class=\"colab-df-container\">\n",
              "      <div>\n",
              "<style scoped>\n",
              "    .dataframe tbody tr th:only-of-type {\n",
              "        vertical-align: middle;\n",
              "    }\n",
              "\n",
              "    .dataframe tbody tr th {\n",
              "        vertical-align: top;\n",
              "    }\n",
              "\n",
              "    .dataframe thead th {\n",
              "        text-align: right;\n",
              "    }\n",
              "</style>\n",
              "<table border=\"1\" class=\"dataframe\">\n",
              "  <thead>\n",
              "    <tr style=\"text-align: right;\">\n",
              "      <th></th>\n",
              "      <th>user_id</th>\n",
              "      <th>basket_id</th>\n",
              "      <th>day</th>\n",
              "      <th>item_id</th>\n",
              "      <th>quantity</th>\n",
              "      <th>sales_value</th>\n",
              "      <th>store_id</th>\n",
              "      <th>retail_disc</th>\n",
              "      <th>trans_time</th>\n",
              "      <th>week_no</th>\n",
              "      <th>coupon_disc</th>\n",
              "      <th>coupon_match_disc</th>\n",
              "    </tr>\n",
              "  </thead>\n",
              "  <tbody>\n",
              "    <tr>\n",
              "      <th>0</th>\n",
              "      <td>2375</td>\n",
              "      <td>26984851472</td>\n",
              "      <td>1</td>\n",
              "      <td>1004906</td>\n",
              "      <td>1</td>\n",
              "      <td>1.39</td>\n",
              "      <td>364</td>\n",
              "      <td>-0.60</td>\n",
              "      <td>1631</td>\n",
              "      <td>1</td>\n",
              "      <td>0.0</td>\n",
              "      <td>0.0</td>\n",
              "    </tr>\n",
              "    <tr>\n",
              "      <th>1</th>\n",
              "      <td>2375</td>\n",
              "      <td>26984851472</td>\n",
              "      <td>1</td>\n",
              "      <td>1033142</td>\n",
              "      <td>1</td>\n",
              "      <td>0.82</td>\n",
              "      <td>364</td>\n",
              "      <td>0.00</td>\n",
              "      <td>1631</td>\n",
              "      <td>1</td>\n",
              "      <td>0.0</td>\n",
              "      <td>0.0</td>\n",
              "    </tr>\n",
              "    <tr>\n",
              "      <th>2</th>\n",
              "      <td>2375</td>\n",
              "      <td>26984851472</td>\n",
              "      <td>1</td>\n",
              "      <td>1036325</td>\n",
              "      <td>1</td>\n",
              "      <td>0.99</td>\n",
              "      <td>364</td>\n",
              "      <td>-0.30</td>\n",
              "      <td>1631</td>\n",
              "      <td>1</td>\n",
              "      <td>0.0</td>\n",
              "      <td>0.0</td>\n",
              "    </tr>\n",
              "    <tr>\n",
              "      <th>3</th>\n",
              "      <td>2375</td>\n",
              "      <td>26984851472</td>\n",
              "      <td>1</td>\n",
              "      <td>1082185</td>\n",
              "      <td>1</td>\n",
              "      <td>1.21</td>\n",
              "      <td>364</td>\n",
              "      <td>0.00</td>\n",
              "      <td>1631</td>\n",
              "      <td>1</td>\n",
              "      <td>0.0</td>\n",
              "      <td>0.0</td>\n",
              "    </tr>\n",
              "    <tr>\n",
              "      <th>4</th>\n",
              "      <td>2375</td>\n",
              "      <td>26984851472</td>\n",
              "      <td>1</td>\n",
              "      <td>8160430</td>\n",
              "      <td>1</td>\n",
              "      <td>1.50</td>\n",
              "      <td>364</td>\n",
              "      <td>-0.39</td>\n",
              "      <td>1631</td>\n",
              "      <td>1</td>\n",
              "      <td>0.0</td>\n",
              "      <td>0.0</td>\n",
              "    </tr>\n",
              "  </tbody>\n",
              "</table>\n",
              "</div>\n",
              "      <button class=\"colab-df-convert\" onclick=\"convertToInteractive('df-4b7fac7c-9984-453a-832b-d7a60b339346')\"\n",
              "              title=\"Convert this dataframe to an interactive table.\"\n",
              "              style=\"display:none;\">\n",
              "        \n",
              "  <svg xmlns=\"http://www.w3.org/2000/svg\" height=\"24px\"viewBox=\"0 0 24 24\"\n",
              "       width=\"24px\">\n",
              "    <path d=\"M0 0h24v24H0V0z\" fill=\"none\"/>\n",
              "    <path d=\"M18.56 5.44l.94 2.06.94-2.06 2.06-.94-2.06-.94-.94-2.06-.94 2.06-2.06.94zm-11 1L8.5 8.5l.94-2.06 2.06-.94-2.06-.94L8.5 2.5l-.94 2.06-2.06.94zm10 10l.94 2.06.94-2.06 2.06-.94-2.06-.94-.94-2.06-.94 2.06-2.06.94z\"/><path d=\"M17.41 7.96l-1.37-1.37c-.4-.4-.92-.59-1.43-.59-.52 0-1.04.2-1.43.59L10.3 9.45l-7.72 7.72c-.78.78-.78 2.05 0 2.83L4 21.41c.39.39.9.59 1.41.59.51 0 1.02-.2 1.41-.59l7.78-7.78 2.81-2.81c.8-.78.8-2.07 0-2.86zM5.41 20L4 18.59l7.72-7.72 1.47 1.35L5.41 20z\"/>\n",
              "  </svg>\n",
              "      </button>\n",
              "      \n",
              "  <style>\n",
              "    .colab-df-container {\n",
              "      display:flex;\n",
              "      flex-wrap:wrap;\n",
              "      gap: 12px;\n",
              "    }\n",
              "\n",
              "    .colab-df-convert {\n",
              "      background-color: #E8F0FE;\n",
              "      border: none;\n",
              "      border-radius: 50%;\n",
              "      cursor: pointer;\n",
              "      display: none;\n",
              "      fill: #1967D2;\n",
              "      height: 32px;\n",
              "      padding: 0 0 0 0;\n",
              "      width: 32px;\n",
              "    }\n",
              "\n",
              "    .colab-df-convert:hover {\n",
              "      background-color: #E2EBFA;\n",
              "      box-shadow: 0px 1px 2px rgba(60, 64, 67, 0.3), 0px 1px 3px 1px rgba(60, 64, 67, 0.15);\n",
              "      fill: #174EA6;\n",
              "    }\n",
              "\n",
              "    [theme=dark] .colab-df-convert {\n",
              "      background-color: #3B4455;\n",
              "      fill: #D2E3FC;\n",
              "    }\n",
              "\n",
              "    [theme=dark] .colab-df-convert:hover {\n",
              "      background-color: #434B5C;\n",
              "      box-shadow: 0px 1px 3px 1px rgba(0, 0, 0, 0.15);\n",
              "      filter: drop-shadow(0px 1px 2px rgba(0, 0, 0, 0.3));\n",
              "      fill: #FFFFFF;\n",
              "    }\n",
              "  </style>\n",
              "\n",
              "      <script>\n",
              "        const buttonEl =\n",
              "          document.querySelector('#df-4b7fac7c-9984-453a-832b-d7a60b339346 button.colab-df-convert');\n",
              "        buttonEl.style.display =\n",
              "          google.colab.kernel.accessAllowed ? 'block' : 'none';\n",
              "\n",
              "        async function convertToInteractive(key) {\n",
              "          const element = document.querySelector('#df-4b7fac7c-9984-453a-832b-d7a60b339346');\n",
              "          const dataTable =\n",
              "            await google.colab.kernel.invokeFunction('convertToInteractive',\n",
              "                                                     [key], {});\n",
              "          if (!dataTable) return;\n",
              "\n",
              "          const docLinkHtml = 'Like what you see? Visit the ' +\n",
              "            '<a target=\"_blank\" href=https://colab.research.google.com/notebooks/data_table.ipynb>data table notebook</a>'\n",
              "            + ' to learn more about interactive tables.';\n",
              "          element.innerHTML = '';\n",
              "          dataTable['output_type'] = 'display_data';\n",
              "          await google.colab.output.renderOutput(dataTable, element);\n",
              "          const docLink = document.createElement('div');\n",
              "          docLink.innerHTML = docLinkHtml;\n",
              "          element.appendChild(docLink);\n",
              "        }\n",
              "      </script>\n",
              "    </div>\n",
              "  </div>\n",
              "  "
            ]
          },
          "metadata": {},
          "execution_count": 52
        }
      ],
      "source": [
        "df_join_train_matcher.head()"
      ]
    },
    {
      "cell_type": "code",
      "source": [
        "df_join_train_matcher.info()"
      ],
      "metadata": {
        "colab": {
          "base_uri": "https://localhost:8080/"
        },
        "id": "LfertwQUUxLt",
        "outputId": "aecadd80-8e8a-4996-c7e3-5019fd2e7b3f"
      },
      "execution_count": 53,
      "outputs": [
        {
          "output_type": "stream",
          "name": "stdout",
          "text": [
            "<class 'pandas.core.frame.DataFrame'>\n",
            "Int64Index: 2278490 entries, 0 to 2282324\n",
            "Data columns (total 12 columns):\n",
            " #   Column             Dtype  \n",
            "---  ------             -----  \n",
            " 0   user_id            int64  \n",
            " 1   basket_id          int64  \n",
            " 2   day                int64  \n",
            " 3   item_id            int64  \n",
            " 4   quantity           int64  \n",
            " 5   sales_value        float64\n",
            " 6   store_id           int64  \n",
            " 7   retail_disc        float64\n",
            " 8   trans_time         int64  \n",
            " 9   week_no            int64  \n",
            " 10  coupon_disc        float64\n",
            " 11  coupon_match_disc  float64\n",
            "dtypes: float64(4), int64(8)\n",
            "memory usage: 226.0 MB\n"
          ]
        }
      ]
    },
    {
      "cell_type": "markdown",
      "metadata": {
        "id": "VCPjKl0U-qVw"
      },
      "source": [
        "## !!! Пока выполните нотбук без этих строк, потом вернитесь и запустите их, обучите ранкер и посмотрите на метрики с ранжированием"
      ]
    },
    {
      "cell_type": "code",
      "execution_count": 54,
      "metadata": {
        "id": "RF4clLfs-qVx"
      },
      "outputs": [],
      "source": [
        "df_ranker_train = df_ranker_train.merge(df_join_train_matcher.groupby(by=ITEM_COL).agg('sales_value').sum().rename('total_item_sales_value'), how='left',on=ITEM_COL)\n",
        "\n",
        "df_ranker_train = df_ranker_train.merge(df_join_train_matcher.groupby(by=ITEM_COL).agg('quantity').sum().rename('total_quantity_value'), how='left',on=ITEM_COL)\n",
        "\n",
        "df_ranker_train = df_ranker_train.merge(df_join_train_matcher.groupby(by=ITEM_COL).agg(USER_COL).count().rename('item_freq'), how='left',on=ITEM_COL)\n",
        "\n",
        "df_ranker_train = df_ranker_train.merge(df_join_train_matcher.groupby(by=USER_COL).agg(USER_COL).count().rename('user_freq'), how='left',on=USER_COL)\n",
        "\n",
        "df_ranker_train = df_ranker_train.merge(df_join_train_matcher.groupby(by=USER_COL).agg('sales_value').sum().rename('total_user_sales_value'), how='left',on=USER_COL)\n",
        "\n",
        "df_ranker_train = df_ranker_train.merge(df_join_train_matcher.groupby(by=ITEM_COL).agg('quantity').sum().rename('item_quantity_per_week')/df_join_train_matcher.week_no.nunique(), how='left',on=ITEM_COL)\n",
        "\n",
        "df_ranker_train = df_ranker_train.merge(df_join_train_matcher.groupby(by=USER_COL).agg('quantity').sum().rename('user_quantity_per_week')/df_join_train_matcher.week_no.nunique(), how='left',on=USER_COL)\n",
        "\n",
        "\n",
        "df_ranker_train = df_ranker_train.merge(df_join_train_matcher.groupby(by=ITEM_COL).agg('quantity').sum().rename('item_quantity_per_basket')/df_join_train_matcher.basket_id.nunique(), how='left',on=ITEM_COL)\n",
        "\n",
        "df_ranker_train = df_ranker_train.merge(df_join_train_matcher.groupby(by=USER_COL).agg('quantity').sum().rename('user_quantity_per_baskter')/df_join_train_matcher.basket_id.nunique(), how='left',on=USER_COL)\n",
        "\n",
        "\n",
        "df_ranker_train = df_ranker_train.merge(df_join_train_matcher.groupby(by=ITEM_COL).agg(USER_COL).count().rename('item_freq_per_basket')/df_join_train_matcher.basket_id.nunique(), how='left',on=ITEM_COL)\n",
        "\n",
        "df_ranker_train = df_ranker_train.merge(df_join_train_matcher.groupby(by=USER_COL).agg(USER_COL).count().rename('user_freq_per_basket')/df_join_train_matcher.basket_id.nunique(), how='left',on=USER_COL)\n",
        "\n",
        "df_ranker_train = df_ranker_train.merge(df_join_train_matcher.groupby(by=['user_id', 'item_id']).agg('sales_value').sum().rename('total_user_sums_per_item'), how='left', on=['user_id', 'item_id'])\n",
        "df_ranker_train = df_ranker_train.merge(df_join_train_matcher.groupby(by=['user_id', 'item_id']).agg('sales_value').mean().rename('mean_user_sum_per_item'), how='left', on=['user_id', 'item_id'])\n",
        "df_ranker_train = df_ranker_train.merge(df_join_train_matcher.groupby(by=['user_id', 'item_id']).agg('sales_value').std().rename('std_user_sum_per_item'), how='left', on=['user_id', 'item_id'])\n",
        "\n",
        "df_join_train_matcher[['abs_retail_disc', 'abs_coupon_disc', 'abs_coupon_match_disc']] = df_join_train_matcher[['retail_disc', 'coupon_disc', 'coupon_match_disc']].abs()\n",
        "\n",
        "df_join_train_matcher['fraction_of_retail_disc_in_sales_value'] = (df_join_train_matcher['abs_retail_disc'] / df_join_train_matcher['sales_value']).round(2)\n",
        "df_join_train_matcher['summary_discount'] = df_join_train_matcher[['abs_retail_disc', 'abs_coupon_disc', 'abs_coupon_match_disc']].sum(axis=1)\n",
        "\n",
        "df_ranker_train = df_ranker_train.merge(df_join_train_matcher.groupby(by=['user_id', 'item_id']).agg('week_no').count().rename('number_of_purchases_in_week'), how='left', on=['user_id', 'item_id'])\n",
        "\n",
        "df_ranker_train = df_ranker_train.merge(df_join_train_matcher.groupby(by=['user_id', 'item_id']).agg('week_no').min().rename('first_active_month'), how='left', on=['user_id', 'item_id'])\n",
        "df_ranker_train = df_ranker_train.merge(df_join_train_matcher.groupby(by=['user_id', 'item_id']).agg('week_no').max().rename('last_active_month'), how='left', on=['user_id', 'item_id'])\n",
        "df_ranker_train['diff_beetween_last_active_and_last_month'] = df_join_train_matcher['week_no'].max() - df_ranker_train['last_active_month']\n",
        "\n",
        "df_ranker_train = df_ranker_train.merge(df_join_train_matcher.groupby(by=['user_id', 'item_id']).agg('quantity').sum().rename('user_item_quantity'), how='left', on=['user_id', 'item_id'])\n",
        "\n",
        "df_ranker_train = df_ranker_train.merge(df_ranker_train.groupby(by=['manufacturer', 'department']).agg('target').mean().rename('manufacturer_department_target'), how='left', on=['manufacturer', 'department'])\n",
        "df_ranker_train = df_ranker_train.merge(df_ranker_train.groupby(by=['brand', 'department']).agg('target').mean().rename('brand_department_target'), how='left', on=['brand', 'department'])\n",
        "df_ranker_train = df_ranker_train.merge(df_ranker_train.groupby(by=['brand', 'age_desc']).agg('target').mean().rename('brand_age_desc_target'), how='left', on=['brand', 'age_desc'])\n",
        "df_ranker_train = df_ranker_train.merge(df_ranker_train.groupby(by=['brand', 'income_desc']).agg('target').mean().rename('brand_income_desc_target'), how='left', on=['brand', 'income_desc'])\n",
        "df_ranker_train = df_ranker_train.merge(df_ranker_train.groupby(by=['brand', 'homeowner_desc']).agg('target').mean().rename('brand_homeowner_desc_target'), how='left', on=['brand', 'homeowner_desc'])\n",
        "df_ranker_train = df_ranker_train.merge(df_ranker_train.groupby(by=['department', 'age_desc']).agg('target').mean().rename('department_age_desc_target'), how='left', on=['department', 'age_desc'])\n",
        "df_ranker_train = df_ranker_train.merge(df_ranker_train.groupby(by=['department', 'income_desc']).agg('target').mean().rename('department_income_desc_target'), how='left', on=['department', 'income_desc'])\n",
        "df_ranker_train = df_ranker_train.merge(df_ranker_train.groupby(by=['department', 'homeowner_desc']).agg('target').mean().rename('department_homeowner_desc_target'), how='left', on=['department', 'homeowner_desc'])\n",
        "df_ranker_train = df_ranker_train.merge(df_ranker_train.groupby(by=['department', 'household_size_desc']).agg('target').mean().rename('department_household_size_desc_target'), how='left', on=['department', 'household_size_desc'])"
      ]
    },
    {
      "cell_type": "code",
      "source": [
        "cat_feats = df_ranker_train.select_dtypes(include='object').columns\n",
        "dict_code_mean = {col: pd.DataFrame() for col in cat_feats}\n",
        "for col in cat_feats:\n",
        "    col_name = str(col) + '_mean_group'\n",
        "    dict_code_mean[col] = df_ranker_train.groupby([col], as_index=False).agg({'target':'mean'}).rename(columns={'target':col_name})\n",
        "    df_ranker_train = df_ranker_train.merge(dict_code_mean[col], on=[col], how='left')"
      ],
      "metadata": {
        "id": "g5wLI192fdXF"
      },
      "execution_count": 55,
      "outputs": []
    },
    {
      "cell_type": "code",
      "source": [
        "df_ranker_train.info()"
      ],
      "metadata": {
        "colab": {
          "base_uri": "https://localhost:8080/"
        },
        "id": "_OGaiuydrNcj",
        "outputId": "f148fabb-4099-4eaa-e10c-61e9474e42c5"
      },
      "execution_count": 56,
      "outputs": [
        {
          "output_type": "stream",
          "name": "stdout",
          "text": [
            "<class 'pandas.core.frame.DataFrame'>\n",
            "Int64Index: 148091 entries, 0 to 148090\n",
            "Data columns (total 56 columns):\n",
            " #   Column                                    Non-Null Count   Dtype  \n",
            "---  ------                                    --------------   -----  \n",
            " 0   user_id                                   148091 non-null  int64  \n",
            " 1   item_id                                   148091 non-null  int64  \n",
            " 2   target                                    148091 non-null  float64\n",
            " 3   manufacturer                              148091 non-null  int64  \n",
            " 4   department                                148091 non-null  object \n",
            " 5   brand                                     148091 non-null  object \n",
            " 6   commodity_desc                            148091 non-null  object \n",
            " 7   sub_commodity_desc                        148091 non-null  object \n",
            " 8   curr_size_of_product                      148091 non-null  object \n",
            " 9   age_desc                                  55140 non-null   object \n",
            " 10  marital_status_code                       55140 non-null   object \n",
            " 11  income_desc                               55140 non-null   object \n",
            " 12  homeowner_desc                            55140 non-null   object \n",
            " 13  hh_comp_desc                              55140 non-null   object \n",
            " 14  household_size_desc                       55140 non-null   object \n",
            " 15  kid_category_desc                         55140 non-null   object \n",
            " 16  total_item_sales_value                    148091 non-null  float64\n",
            " 17  total_quantity_value                      148091 non-null  int64  \n",
            " 18  item_freq                                 148091 non-null  int64  \n",
            " 19  user_freq                                 148091 non-null  int64  \n",
            " 20  total_user_sales_value                    148091 non-null  float64\n",
            " 21  item_quantity_per_week                    148091 non-null  float64\n",
            " 22  user_quantity_per_week                    148091 non-null  float64\n",
            " 23  item_quantity_per_basket                  148091 non-null  float64\n",
            " 24  user_quantity_per_baskter                 148091 non-null  float64\n",
            " 25  item_freq_per_basket                      148091 non-null  float64\n",
            " 26  user_freq_per_basket                      148091 non-null  float64\n",
            " 27  total_user_sums_per_item                  121266 non-null  float64\n",
            " 28  mean_user_sum_per_item                    121266 non-null  float64\n",
            " 29  std_user_sum_per_item                     51922 non-null   float64\n",
            " 30  number_of_purchases_in_week               121266 non-null  float64\n",
            " 31  first_active_month                        121266 non-null  float64\n",
            " 32  last_active_month                         121266 non-null  float64\n",
            " 33  diff_beetween_last_active_and_last_month  121266 non-null  float64\n",
            " 34  user_item_quantity                        121266 non-null  float64\n",
            " 35  manufacturer_department_target            148091 non-null  float64\n",
            " 36  brand_department_target                   148091 non-null  float64\n",
            " 37  brand_age_desc_target                     55140 non-null   float64\n",
            " 38  brand_income_desc_target                  55140 non-null   float64\n",
            " 39  brand_homeowner_desc_target               55140 non-null   float64\n",
            " 40  department_age_desc_target                55140 non-null   float64\n",
            " 41  department_income_desc_target             55140 non-null   float64\n",
            " 42  department_homeowner_desc_target          55140 non-null   float64\n",
            " 43  department_household_size_desc_target     55140 non-null   float64\n",
            " 44  department_mean_group                     148091 non-null  float64\n",
            " 45  brand_mean_group                          148091 non-null  float64\n",
            " 46  commodity_desc_mean_group                 148091 non-null  float64\n",
            " 47  sub_commodity_desc_mean_group             148091 non-null  float64\n",
            " 48  curr_size_of_product_mean_group           148091 non-null  float64\n",
            " 49  age_desc_mean_group                       55140 non-null   float64\n",
            " 50  marital_status_code_mean_group            55140 non-null   float64\n",
            " 51  income_desc_mean_group                    55140 non-null   float64\n",
            " 52  homeowner_desc_mean_group                 55140 non-null   float64\n",
            " 53  hh_comp_desc_mean_group                   55140 non-null   float64\n",
            " 54  household_size_desc_mean_group            55140 non-null   float64\n",
            " 55  kid_category_desc_mean_group              55140 non-null   float64\n",
            "dtypes: float64(38), int64(6), object(12)\n",
            "memory usage: 64.4+ MB\n"
          ]
        }
      ]
    },
    {
      "cell_type": "code",
      "execution_count": 57,
      "metadata": {
        "id": "vhZwfoLf-qVx",
        "outputId": "4dc16080-2086-4083-e67b-0ce65b9f62f1",
        "colab": {
          "base_uri": "https://localhost:8080/",
          "height": 404
        }
      },
      "outputs": [
        {
          "output_type": "execute_result",
          "data": {
            "text/plain": [
              "   user_id   item_id  target  manufacturer  department     brand  \\\n",
              "0     2070   1105426     0.0            69        DELI   Private   \n",
              "1     2070   1092937     1.0          1089  MEAT-PCKGD  National   \n",
              "2     2070    944588     0.0          1094  MEAT-PCKGD  National   \n",
              "3     2070    917033     0.0           103     GROCERY  National   \n",
              "4     2070  10198378     0.0            69     GROCERY   Private   \n",
              "\n",
              "  commodity_desc              sub_commodity_desc curr_size_of_product  \\\n",
              "0     SANDWICHES             SANDWICHES - (COLD)                        \n",
              "1      LUNCHMEAT                         BOLOGNA                 16OZ   \n",
              "2      LUNCHMEAT                             HAM                12 OZ   \n",
              "3    SOFT DRINKS  SOFT DRINKS 12/18&15PK CAN CAR                12 OZ   \n",
              "4      DOG FOODS  DRY DOG VALUE (PET PRIDE/KLR/G                50 LB   \n",
              "\n",
              "  age_desc  ... commodity_desc_mean_group sub_commodity_desc_mean_group  \\\n",
              "0    45-54  ...                  0.072464                      0.072464   \n",
              "1    45-54  ...                  0.064326                      0.097315   \n",
              "2    45-54  ...                  0.064326                      0.061203   \n",
              "3    45-54  ...                  0.060146                      0.054997   \n",
              "4    45-54  ...                  0.100418                      0.171429   \n",
              "\n",
              "  curr_size_of_product_mean_group age_desc_mean_group  \\\n",
              "0                        0.060010            0.104681   \n",
              "1                        0.087273            0.104681   \n",
              "2                        0.067425            0.104681   \n",
              "3                        0.067425            0.104681   \n",
              "4                        0.160000            0.104681   \n",
              "\n",
              "  marital_status_code_mean_group income_desc_mean_group  \\\n",
              "0                       0.096139               0.110944   \n",
              "1                       0.096139               0.110944   \n",
              "2                       0.096139               0.110944   \n",
              "3                       0.096139               0.110944   \n",
              "4                       0.096139               0.110944   \n",
              "\n",
              "   homeowner_desc_mean_group  hh_comp_desc_mean_group  \\\n",
              "0                   0.085811                 0.095332   \n",
              "1                   0.085811                 0.095332   \n",
              "2                   0.085811                 0.095332   \n",
              "3                   0.085811                 0.095332   \n",
              "4                   0.085811                 0.095332   \n",
              "\n",
              "   household_size_desc_mean_group  kid_category_desc_mean_group  \n",
              "0                        0.095295                      0.101195  \n",
              "1                        0.095295                      0.101195  \n",
              "2                        0.095295                      0.101195  \n",
              "3                        0.095295                      0.101195  \n",
              "4                        0.095295                      0.101195  \n",
              "\n",
              "[5 rows x 56 columns]"
            ],
            "text/html": [
              "\n",
              "  <div id=\"df-823597fc-20e7-4799-90f9-4563a4580926\">\n",
              "    <div class=\"colab-df-container\">\n",
              "      <div>\n",
              "<style scoped>\n",
              "    .dataframe tbody tr th:only-of-type {\n",
              "        vertical-align: middle;\n",
              "    }\n",
              "\n",
              "    .dataframe tbody tr th {\n",
              "        vertical-align: top;\n",
              "    }\n",
              "\n",
              "    .dataframe thead th {\n",
              "        text-align: right;\n",
              "    }\n",
              "</style>\n",
              "<table border=\"1\" class=\"dataframe\">\n",
              "  <thead>\n",
              "    <tr style=\"text-align: right;\">\n",
              "      <th></th>\n",
              "      <th>user_id</th>\n",
              "      <th>item_id</th>\n",
              "      <th>target</th>\n",
              "      <th>manufacturer</th>\n",
              "      <th>department</th>\n",
              "      <th>brand</th>\n",
              "      <th>commodity_desc</th>\n",
              "      <th>sub_commodity_desc</th>\n",
              "      <th>curr_size_of_product</th>\n",
              "      <th>age_desc</th>\n",
              "      <th>...</th>\n",
              "      <th>commodity_desc_mean_group</th>\n",
              "      <th>sub_commodity_desc_mean_group</th>\n",
              "      <th>curr_size_of_product_mean_group</th>\n",
              "      <th>age_desc_mean_group</th>\n",
              "      <th>marital_status_code_mean_group</th>\n",
              "      <th>income_desc_mean_group</th>\n",
              "      <th>homeowner_desc_mean_group</th>\n",
              "      <th>hh_comp_desc_mean_group</th>\n",
              "      <th>household_size_desc_mean_group</th>\n",
              "      <th>kid_category_desc_mean_group</th>\n",
              "    </tr>\n",
              "  </thead>\n",
              "  <tbody>\n",
              "    <tr>\n",
              "      <th>0</th>\n",
              "      <td>2070</td>\n",
              "      <td>1105426</td>\n",
              "      <td>0.0</td>\n",
              "      <td>69</td>\n",
              "      <td>DELI</td>\n",
              "      <td>Private</td>\n",
              "      <td>SANDWICHES</td>\n",
              "      <td>SANDWICHES - (COLD)</td>\n",
              "      <td></td>\n",
              "      <td>45-54</td>\n",
              "      <td>...</td>\n",
              "      <td>0.072464</td>\n",
              "      <td>0.072464</td>\n",
              "      <td>0.060010</td>\n",
              "      <td>0.104681</td>\n",
              "      <td>0.096139</td>\n",
              "      <td>0.110944</td>\n",
              "      <td>0.085811</td>\n",
              "      <td>0.095332</td>\n",
              "      <td>0.095295</td>\n",
              "      <td>0.101195</td>\n",
              "    </tr>\n",
              "    <tr>\n",
              "      <th>1</th>\n",
              "      <td>2070</td>\n",
              "      <td>1092937</td>\n",
              "      <td>1.0</td>\n",
              "      <td>1089</td>\n",
              "      <td>MEAT-PCKGD</td>\n",
              "      <td>National</td>\n",
              "      <td>LUNCHMEAT</td>\n",
              "      <td>BOLOGNA</td>\n",
              "      <td>16OZ</td>\n",
              "      <td>45-54</td>\n",
              "      <td>...</td>\n",
              "      <td>0.064326</td>\n",
              "      <td>0.097315</td>\n",
              "      <td>0.087273</td>\n",
              "      <td>0.104681</td>\n",
              "      <td>0.096139</td>\n",
              "      <td>0.110944</td>\n",
              "      <td>0.085811</td>\n",
              "      <td>0.095332</td>\n",
              "      <td>0.095295</td>\n",
              "      <td>0.101195</td>\n",
              "    </tr>\n",
              "    <tr>\n",
              "      <th>2</th>\n",
              "      <td>2070</td>\n",
              "      <td>944588</td>\n",
              "      <td>0.0</td>\n",
              "      <td>1094</td>\n",
              "      <td>MEAT-PCKGD</td>\n",
              "      <td>National</td>\n",
              "      <td>LUNCHMEAT</td>\n",
              "      <td>HAM</td>\n",
              "      <td>12 OZ</td>\n",
              "      <td>45-54</td>\n",
              "      <td>...</td>\n",
              "      <td>0.064326</td>\n",
              "      <td>0.061203</td>\n",
              "      <td>0.067425</td>\n",
              "      <td>0.104681</td>\n",
              "      <td>0.096139</td>\n",
              "      <td>0.110944</td>\n",
              "      <td>0.085811</td>\n",
              "      <td>0.095332</td>\n",
              "      <td>0.095295</td>\n",
              "      <td>0.101195</td>\n",
              "    </tr>\n",
              "    <tr>\n",
              "      <th>3</th>\n",
              "      <td>2070</td>\n",
              "      <td>917033</td>\n",
              "      <td>0.0</td>\n",
              "      <td>103</td>\n",
              "      <td>GROCERY</td>\n",
              "      <td>National</td>\n",
              "      <td>SOFT DRINKS</td>\n",
              "      <td>SOFT DRINKS 12/18&amp;15PK CAN CAR</td>\n",
              "      <td>12 OZ</td>\n",
              "      <td>45-54</td>\n",
              "      <td>...</td>\n",
              "      <td>0.060146</td>\n",
              "      <td>0.054997</td>\n",
              "      <td>0.067425</td>\n",
              "      <td>0.104681</td>\n",
              "      <td>0.096139</td>\n",
              "      <td>0.110944</td>\n",
              "      <td>0.085811</td>\n",
              "      <td>0.095332</td>\n",
              "      <td>0.095295</td>\n",
              "      <td>0.101195</td>\n",
              "    </tr>\n",
              "    <tr>\n",
              "      <th>4</th>\n",
              "      <td>2070</td>\n",
              "      <td>10198378</td>\n",
              "      <td>0.0</td>\n",
              "      <td>69</td>\n",
              "      <td>GROCERY</td>\n",
              "      <td>Private</td>\n",
              "      <td>DOG FOODS</td>\n",
              "      <td>DRY DOG VALUE (PET PRIDE/KLR/G</td>\n",
              "      <td>50 LB</td>\n",
              "      <td>45-54</td>\n",
              "      <td>...</td>\n",
              "      <td>0.100418</td>\n",
              "      <td>0.171429</td>\n",
              "      <td>0.160000</td>\n",
              "      <td>0.104681</td>\n",
              "      <td>0.096139</td>\n",
              "      <td>0.110944</td>\n",
              "      <td>0.085811</td>\n",
              "      <td>0.095332</td>\n",
              "      <td>0.095295</td>\n",
              "      <td>0.101195</td>\n",
              "    </tr>\n",
              "  </tbody>\n",
              "</table>\n",
              "<p>5 rows × 56 columns</p>\n",
              "</div>\n",
              "      <button class=\"colab-df-convert\" onclick=\"convertToInteractive('df-823597fc-20e7-4799-90f9-4563a4580926')\"\n",
              "              title=\"Convert this dataframe to an interactive table.\"\n",
              "              style=\"display:none;\">\n",
              "        \n",
              "  <svg xmlns=\"http://www.w3.org/2000/svg\" height=\"24px\"viewBox=\"0 0 24 24\"\n",
              "       width=\"24px\">\n",
              "    <path d=\"M0 0h24v24H0V0z\" fill=\"none\"/>\n",
              "    <path d=\"M18.56 5.44l.94 2.06.94-2.06 2.06-.94-2.06-.94-.94-2.06-.94 2.06-2.06.94zm-11 1L8.5 8.5l.94-2.06 2.06-.94-2.06-.94L8.5 2.5l-.94 2.06-2.06.94zm10 10l.94 2.06.94-2.06 2.06-.94-2.06-.94-.94-2.06-.94 2.06-2.06.94z\"/><path d=\"M17.41 7.96l-1.37-1.37c-.4-.4-.92-.59-1.43-.59-.52 0-1.04.2-1.43.59L10.3 9.45l-7.72 7.72c-.78.78-.78 2.05 0 2.83L4 21.41c.39.39.9.59 1.41.59.51 0 1.02-.2 1.41-.59l7.78-7.78 2.81-2.81c.8-.78.8-2.07 0-2.86zM5.41 20L4 18.59l7.72-7.72 1.47 1.35L5.41 20z\"/>\n",
              "  </svg>\n",
              "      </button>\n",
              "      \n",
              "  <style>\n",
              "    .colab-df-container {\n",
              "      display:flex;\n",
              "      flex-wrap:wrap;\n",
              "      gap: 12px;\n",
              "    }\n",
              "\n",
              "    .colab-df-convert {\n",
              "      background-color: #E8F0FE;\n",
              "      border: none;\n",
              "      border-radius: 50%;\n",
              "      cursor: pointer;\n",
              "      display: none;\n",
              "      fill: #1967D2;\n",
              "      height: 32px;\n",
              "      padding: 0 0 0 0;\n",
              "      width: 32px;\n",
              "    }\n",
              "\n",
              "    .colab-df-convert:hover {\n",
              "      background-color: #E2EBFA;\n",
              "      box-shadow: 0px 1px 2px rgba(60, 64, 67, 0.3), 0px 1px 3px 1px rgba(60, 64, 67, 0.15);\n",
              "      fill: #174EA6;\n",
              "    }\n",
              "\n",
              "    [theme=dark] .colab-df-convert {\n",
              "      background-color: #3B4455;\n",
              "      fill: #D2E3FC;\n",
              "    }\n",
              "\n",
              "    [theme=dark] .colab-df-convert:hover {\n",
              "      background-color: #434B5C;\n",
              "      box-shadow: 0px 1px 3px 1px rgba(0, 0, 0, 0.15);\n",
              "      filter: drop-shadow(0px 1px 2px rgba(0, 0, 0, 0.3));\n",
              "      fill: #FFFFFF;\n",
              "    }\n",
              "  </style>\n",
              "\n",
              "      <script>\n",
              "        const buttonEl =\n",
              "          document.querySelector('#df-823597fc-20e7-4799-90f9-4563a4580926 button.colab-df-convert');\n",
              "        buttonEl.style.display =\n",
              "          google.colab.kernel.accessAllowed ? 'block' : 'none';\n",
              "\n",
              "        async function convertToInteractive(key) {\n",
              "          const element = document.querySelector('#df-823597fc-20e7-4799-90f9-4563a4580926');\n",
              "          const dataTable =\n",
              "            await google.colab.kernel.invokeFunction('convertToInteractive',\n",
              "                                                     [key], {});\n",
              "          if (!dataTable) return;\n",
              "\n",
              "          const docLinkHtml = 'Like what you see? Visit the ' +\n",
              "            '<a target=\"_blank\" href=https://colab.research.google.com/notebooks/data_table.ipynb>data table notebook</a>'\n",
              "            + ' to learn more about interactive tables.';\n",
              "          element.innerHTML = '';\n",
              "          dataTable['output_type'] = 'display_data';\n",
              "          await google.colab.output.renderOutput(dataTable, element);\n",
              "          const docLink = document.createElement('div');\n",
              "          docLink.innerHTML = docLinkHtml;\n",
              "          element.appendChild(docLink);\n",
              "        }\n",
              "      </script>\n",
              "    </div>\n",
              "  </div>\n",
              "  "
            ]
          },
          "metadata": {},
          "execution_count": 57
        }
      ],
      "source": [
        "df_ranker_train.head()"
      ]
    },
    {
      "cell_type": "code",
      "source": [
        "cat_feats = df_ranker_train.select_dtypes(include=['int', 'float']).columns"
      ],
      "metadata": {
        "id": "fSbkkEoFmLgM"
      },
      "execution_count": 58,
      "outputs": []
    },
    {
      "cell_type": "code",
      "execution_count": 59,
      "metadata": {
        "id": "gsdtwBPE-qVx"
      },
      "outputs": [],
      "source": [
        "X_train = df_ranker_train[cat_feats].drop('target', axis=1)\n",
        "y_train = df_ranker_train[['target']]"
      ]
    },
    {
      "cell_type": "code",
      "source": [
        "# lgb = LGBMClassifier(random_state=21)"
      ],
      "metadata": {
        "id": "KFe2nhhDAIIb"
      },
      "execution_count": 60,
      "outputs": []
    },
    {
      "cell_type": "code",
      "source": [
        "# params = {'n_estimators':[100, 200, 500, 1000], \n",
        "#           'max_depth':[5, 7, 10, 15],\n",
        "#           'learning_rate':[0.001, 0.01, 0.05, 0.1]}"
      ],
      "metadata": {
        "id": "augKgZvH_16H"
      },
      "execution_count": 61,
      "outputs": []
    },
    {
      "cell_type": "code",
      "source": [
        "# cv=KFold(n_splits=3, random_state=21, shuffle=True)"
      ],
      "metadata": {
        "id": "a1VIHe0H_2Fy"
      },
      "execution_count": 62,
      "outputs": []
    },
    {
      "cell_type": "code",
      "source": [
        "# %%time\n",
        "\n",
        "# rs = RandomizedSearchCV(lgb, params, scoring='precision', cv=cv, n_jobs=-1)\n",
        "# rs.fit(X_train, y_train)"
      ],
      "metadata": {
        "id": "HdZKMH4X_2LV"
      },
      "execution_count": 63,
      "outputs": []
    },
    {
      "cell_type": "code",
      "source": [
        "# rs.best_params_"
      ],
      "metadata": {
        "id": "FqrsywRk_79L"
      },
      "execution_count": 64,
      "outputs": []
    },
    {
      "cell_type": "code",
      "source": [
        "# rs.best_score_"
      ],
      "metadata": {
        "id": "bG46TZuM__Gl"
      },
      "execution_count": 65,
      "outputs": []
    },
    {
      "cell_type": "markdown",
      "metadata": {
        "id": "nMGZCGjQ-qVx"
      },
      "source": [
        "## Обучение модели ранжирования"
      ]
    },
    {
      "cell_type": "code",
      "execution_count": 66,
      "metadata": {
        "id": "xH1dcrLf-qVy",
        "outputId": "b14711ec-4c6b-4c75-d44a-be4e9917af19",
        "colab": {
          "base_uri": "https://localhost:8080/"
        }
      },
      "outputs": [
        {
          "output_type": "stream",
          "name": "stdout",
          "text": [
            "CPU times: user 34.5 s, sys: 21 ms, total: 34.5 s\n",
            "Wall time: 18.5 s\n"
          ]
        }
      ],
      "source": [
        "%%time\n",
        "lgb = LGBMClassifier(max_depth=10,\n",
        "                     n_estimators=1000,\n",
        "                     learning_rate=0.1,\n",
        "                     n_jobs=-1)\n",
        "\n",
        "lgb.fit(X_train, y_train.values.ravel())"
      ]
    },
    {
      "cell_type": "code",
      "source": [
        "important_features_top = show_feature_importances(X_train.columns, lgb.feature_importances_, get_top=30)"
      ],
      "metadata": {
        "colab": {
          "base_uri": "https://localhost:8080/",
          "height": 963
        },
        "id": "IrLtyZ1nZmHJ",
        "outputId": "1c3a64cb-fee1-4256-d81e-849d5147af03"
      },
      "execution_count": 67,
      "outputs": [
        {
          "output_type": "stream",
          "name": "stderr",
          "text": [
            "/usr/local/lib/python3.7/dist-packages/seaborn/_decorators.py:43: FutureWarning: Pass the following variables as keyword args: x, y. From version 0.12, the only valid positional argument will be `data`, and passing other arguments without an explicit keyword will result in an error or misinterpretation.\n",
            "  FutureWarning\n"
          ]
        },
        {
          "output_type": "display_data",
          "data": {
            "text/plain": [
              "<Figure size 1440x1099.08 with 1 Axes>"
            ],
            "image/png": "[encoded data removed]"
          },
          "metadata": {
            "needs_background": "light"
          }
        }
      ]
    },
    {
      "cell_type": "code",
      "source": [
        "train_preds = lgb.predict_proba(X_train)"
      ],
      "metadata": {
        "id": "FPUA-hbLm6V9"
      },
      "execution_count": 68,
      "outputs": []
    },
    {
      "cell_type": "code",
      "execution_count": 69,
      "metadata": {
        "id": "9am5gJHj-qVy"
      },
      "outputs": [],
      "source": [
        "df_ranker_predict = df_ranker_train.copy()"
      ]
    },
    {
      "cell_type": "code",
      "execution_count": 70,
      "metadata": {
        "id": "8DE47vP2-qVy"
      },
      "outputs": [],
      "source": [
        "df_ranker_predict['proba_item_purchase'] = train_preds[:,1]"
      ]
    },
    {
      "cell_type": "markdown",
      "metadata": {
        "id": "9QQxrH4F-qVy"
      },
      "source": [
        "## Подведем итоги\n",
        "\n",
        "    Мы обучили модель ранжирования на покупках из сета data_train_ranker и на кандитатах от own_recommendations, что является тренировочным сетом, и теперь наша задача предсказать и оценить именно на тестовом сете."
      ]
    },
    {
      "cell_type": "markdown",
      "metadata": {
        "id": "Y_nU0ZA_-qVy"
      },
      "source": [
        "# Evaluation on test dataset"
      ]
    },
    {
      "cell_type": "code",
      "execution_count": 71,
      "metadata": {
        "id": "rbgT7qV3-qVy",
        "outputId": "53366cf1-5f96-47dd-fb53-c1d5db5423de",
        "colab": {
          "base_uri": "https://localhost:8080/",
          "height": 112
        }
      },
      "outputs": [
        {
          "output_type": "execute_result",
          "data": {
            "text/plain": [
              "   user_id                                             actual\n",
              "0        1  [821867, 834484, 856942, 865456, 889248, 90795...\n",
              "1        3  [835476, 851057, 872021, 878302, 879948, 90963..."
            ],
            "text/html": [
              "\n",
              "  <div id=\"df-ab9202a4-fb24-4d9f-82cc-81b820a26800\">\n",
              "    <div class=\"colab-df-container\">\n",
              "      <div>\n",
              "<style scoped>\n",
              "    .dataframe tbody tr th:only-of-type {\n",
              "        vertical-align: middle;\n",
              "    }\n",
              "\n",
              "    .dataframe tbody tr th {\n",
              "        vertical-align: top;\n",
              "    }\n",
              "\n",
              "    .dataframe thead th {\n",
              "        text-align: right;\n",
              "    }\n",
              "</style>\n",
              "<table border=\"1\" class=\"dataframe\">\n",
              "  <thead>\n",
              "    <tr style=\"text-align: right;\">\n",
              "      <th></th>\n",
              "      <th>user_id</th>\n",
              "      <th>actual</th>\n",
              "    </tr>\n",
              "  </thead>\n",
              "  <tbody>\n",
              "    <tr>\n",
              "      <th>0</th>\n",
              "      <td>1</td>\n",
              "      <td>[821867, 834484, 856942, 865456, 889248, 90795...</td>\n",
              "    </tr>\n",
              "    <tr>\n",
              "      <th>1</th>\n",
              "      <td>3</td>\n",
              "      <td>[835476, 851057, 872021, 878302, 879948, 90963...</td>\n",
              "    </tr>\n",
              "  </tbody>\n",
              "</table>\n",
              "</div>\n",
              "      <button class=\"colab-df-convert\" onclick=\"convertToInteractive('df-ab9202a4-fb24-4d9f-82cc-81b820a26800')\"\n",
              "              title=\"Convert this dataframe to an interactive table.\"\n",
              "              style=\"display:none;\">\n",
              "        \n",
              "  <svg xmlns=\"http://www.w3.org/2000/svg\" height=\"24px\"viewBox=\"0 0 24 24\"\n",
              "       width=\"24px\">\n",
              "    <path d=\"M0 0h24v24H0V0z\" fill=\"none\"/>\n",
              "    <path d=\"M18.56 5.44l.94 2.06.94-2.06 2.06-.94-2.06-.94-.94-2.06-.94 2.06-2.06.94zm-11 1L8.5 8.5l.94-2.06 2.06-.94-2.06-.94L8.5 2.5l-.94 2.06-2.06.94zm10 10l.94 2.06.94-2.06 2.06-.94-2.06-.94-.94-2.06-.94 2.06-2.06.94z\"/><path d=\"M17.41 7.96l-1.37-1.37c-.4-.4-.92-.59-1.43-.59-.52 0-1.04.2-1.43.59L10.3 9.45l-7.72 7.72c-.78.78-.78 2.05 0 2.83L4 21.41c.39.39.9.59 1.41.59.51 0 1.02-.2 1.41-.59l7.78-7.78 2.81-2.81c.8-.78.8-2.07 0-2.86zM5.41 20L4 18.59l7.72-7.72 1.47 1.35L5.41 20z\"/>\n",
              "  </svg>\n",
              "      </button>\n",
              "      \n",
              "  <style>\n",
              "    .colab-df-container {\n",
              "      display:flex;\n",
              "      flex-wrap:wrap;\n",
              "      gap: 12px;\n",
              "    }\n",
              "\n",
              "    .colab-df-convert {\n",
              "      background-color: #E8F0FE;\n",
              "      border: none;\n",
              "      border-radius: 50%;\n",
              "      cursor: pointer;\n",
              "      display: none;\n",
              "      fill: #1967D2;\n",
              "      height: 32px;\n",
              "      padding: 0 0 0 0;\n",
              "      width: 32px;\n",
              "    }\n",
              "\n",
              "    .colab-df-convert:hover {\n",
              "      background-color: #E2EBFA;\n",
              "      box-shadow: 0px 1px 2px rgba(60, 64, 67, 0.3), 0px 1px 3px 1px rgba(60, 64, 67, 0.15);\n",
              "      fill: #174EA6;\n",
              "    }\n",
              "\n",
              "    [theme=dark] .colab-df-convert {\n",
              "      background-color: #3B4455;\n",
              "      fill: #D2E3FC;\n",
              "    }\n",
              "\n",
              "    [theme=dark] .colab-df-convert:hover {\n",
              "      background-color: #434B5C;\n",
              "      box-shadow: 0px 1px 3px 1px rgba(0, 0, 0, 0.15);\n",
              "      filter: drop-shadow(0px 1px 2px rgba(0, 0, 0, 0.3));\n",
              "      fill: #FFFFFF;\n",
              "    }\n",
              "  </style>\n",
              "\n",
              "      <script>\n",
              "        const buttonEl =\n",
              "          document.querySelector('#df-ab9202a4-fb24-4d9f-82cc-81b820a26800 button.colab-df-convert');\n",
              "        buttonEl.style.display =\n",
              "          google.colab.kernel.accessAllowed ? 'block' : 'none';\n",
              "\n",
              "        async function convertToInteractive(key) {\n",
              "          const element = document.querySelector('#df-ab9202a4-fb24-4d9f-82cc-81b820a26800');\n",
              "          const dataTable =\n",
              "            await google.colab.kernel.invokeFunction('convertToInteractive',\n",
              "                                                     [key], {});\n",
              "          if (!dataTable) return;\n",
              "\n",
              "          const docLinkHtml = 'Like what you see? Visit the ' +\n",
              "            '<a target=\"_blank\" href=https://colab.research.google.com/notebooks/data_table.ipynb>data table notebook</a>'\n",
              "            + ' to learn more about interactive tables.';\n",
              "          element.innerHTML = '';\n",
              "          dataTable['output_type'] = 'display_data';\n",
              "          await google.colab.output.renderOutput(dataTable, element);\n",
              "          const docLink = document.createElement('div');\n",
              "          docLink.innerHTML = docLinkHtml;\n",
              "          element.appendChild(docLink);\n",
              "        }\n",
              "      </script>\n",
              "    </div>\n",
              "  </div>\n",
              "  "
            ]
          },
          "metadata": {},
          "execution_count": 71
        }
      ],
      "source": [
        "result_eval_ranker = data_val_ranker.groupby(USER_COL)[ITEM_COL].unique().reset_index()\n",
        "result_eval_ranker.columns=[USER_COL, ACTUAL_COL]\n",
        "result_eval_ranker.head(2)"
      ]
    },
    {
      "cell_type": "markdown",
      "metadata": {
        "id": "nAb2Lblu-qVy"
      },
      "source": [
        "## Eval matching on test dataset"
      ]
    },
    {
      "cell_type": "code",
      "execution_count": 72,
      "metadata": {
        "id": "WaYDMcUi-qVz",
        "outputId": "9252bf6e-2e45-43b7-8f57-a95a874ec5d7",
        "colab": {
          "base_uri": "https://localhost:8080/"
        }
      },
      "outputs": [
        {
          "output_type": "stream",
          "name": "stdout",
          "text": [
            "CPU times: user 5.61 s, sys: 81.6 ms, total: 5.69 s\n",
            "Wall time: 5.67 s\n"
          ]
        }
      ],
      "source": [
        "%%time\n",
        "result_eval_ranker['own_rec'] = result_eval_ranker[USER_COL].apply(lambda x: recommender.get_own_recommendations(x, N=N_PREDICT))"
      ]
    },
    {
      "cell_type": "code",
      "execution_count": 73,
      "metadata": {
        "id": "kQQdjSeD-qVz",
        "outputId": "5a466d5e-ae3a-4ea3-93f7-508ee9da8cf8",
        "colab": {
          "base_uri": "https://localhost:8080/"
        }
      },
      "outputs": [
        {
          "output_type": "execute_result",
          "data": {
            "text/plain": [
              "[('own_rec', 0.1581372549019591)]"
            ]
          },
          "metadata": {},
          "execution_count": 73
        }
      ],
      "source": [
        "# померяем precision только модели матчинга, чтобы понимать влияение ранжирования на метрики\n",
        "\n",
        "sorted(calc_precision(result_eval_ranker, TOPK_PRECISION), key=lambda x: x[1], reverse=True)"
      ]
    },
    {
      "cell_type": "markdown",
      "metadata": {
        "id": "2sBeYOmX-qVz"
      },
      "source": [
        "## Eval re-ranked matched result on test dataset\n",
        "    Вспомним df_match_candidates сет, который был получен own_recommendations на юзерах, набор пользователей мы фиксировали и он одинаков, значи и прогноз одинаков, поэтому мы можем использовать этот датафрейм для переранжирования.\n",
        "    "
      ]
    },
    {
      "cell_type": "code",
      "execution_count": 74,
      "metadata": {
        "id": "hUXB1sU1-qVz"
      },
      "outputs": [],
      "source": [
        "def rerank(user_id):\n",
        "    return df_ranker_predict[df_ranker_predict[USER_COL]==user_id].sort_values('proba_item_purchase', ascending=False).head(5).item_id.tolist()"
      ]
    },
    {
      "cell_type": "code",
      "execution_count": 75,
      "metadata": {
        "id": "S2q51Gwm-qVz"
      },
      "outputs": [],
      "source": [
        "result_eval_ranker['reranked_own_rec'] = result_eval_ranker[USER_COL].apply(lambda user_id: rerank(user_id))"
      ]
    },
    {
      "cell_type": "markdown",
      "metadata": {
        "id": "vEpSIJaM-qVz"
      },
      "source": [
        "## Проверьте данные метрики с фичами и без (PS: должен быть прирост)"
      ]
    },
    {
      "cell_type": "code",
      "execution_count": 76,
      "metadata": {
        "id": "yP4TueUz-qVz",
        "outputId": "48c95be8-3bfa-47a3-c212-8564561c207d",
        "colab": {
          "base_uri": "https://localhost:8080/"
        }
      },
      "outputs": [
        {
          "output_type": "stream",
          "name": "stdout",
          "text": [
            "('reranked_own_rec', 0.21994778067884888)\n",
            "('own_rec', 0.1581372549019591)\n"
          ]
        },
        {
          "output_type": "stream",
          "name": "stderr",
          "text": [
            "/content/drive/MyDrive/metrics.py:20: RuntimeWarning: invalid value encountered in long_scalars\n",
            "  return flags.sum() / len(recommended_list)\n"
          ]
        }
      ],
      "source": [
        "# смотрим на метрики выше и сравниваем что с ранжированием и без, добавляем фичи и то же смотрим\n",
        "# в первом приближении метрики должны расти с использованием второго этапа\n",
        "\n",
        "print(*sorted(calc_precision(result_eval_ranker, TOPK_PRECISION), key=lambda x: x[1], reverse=True), sep='\\n')"
      ]
    },
    {
      "cell_type": "markdown",
      "metadata": {
        "id": "Kqn2EDDO-qV0"
      },
      "source": [
        "# Оценка на тесте для выполнения курсового проекта"
      ]
    },
    {
      "cell_type": "code",
      "execution_count": 77,
      "metadata": {
        "id": "zTuIIqLe-qV0"
      },
      "outputs": [],
      "source": [
        "# df_transactions = pd.read_csv('../data/transaction_data.csv')"
      ]
    },
    {
      "cell_type": "code",
      "execution_count": 78,
      "metadata": {
        "id": "WK00RxB4-qV0"
      },
      "outputs": [],
      "source": [
        "df_test = pd.read_csv('drive/MyDrive/retail_test1.csv')"
      ]
    },
    {
      "cell_type": "code",
      "execution_count": 79,
      "metadata": {
        "id": "Kc9uBjg1-qV0",
        "outputId": "c3bcf78f-36d2-41e1-ed3c-eb29aa43793c",
        "colab": {
          "base_uri": "https://localhost:8080/",
          "height": 206
        }
      },
      "outputs": [
        {
          "output_type": "execute_result",
          "data": {
            "text/plain": [
              "   user_id    basket_id  day  item_id  quantity  sales_value  store_id  \\\n",
              "0     1340  41652823310  664   912987         1         8.49       446   \n",
              "1      588  41652838477  664  1024426         1         6.29       388   \n",
              "2     2070  41652857291  664   995242         5         9.10       311   \n",
              "3     1602  41665647035  664   827939         1         7.99       334   \n",
              "4     1602  41665647035  664   927712         1         0.59       334   \n",
              "\n",
              "   retail_disc  trans_time  week_no  coupon_disc  coupon_match_disc  \n",
              "0          0.0          52       96          0.0                0.0  \n",
              "1          0.0           8       96          0.0                0.0  \n",
              "2         -0.6          46       96          0.0                0.0  \n",
              "3          0.0        1741       96          0.0                0.0  \n",
              "4         -0.4        1741       96          0.0                0.0  "
            ],
            "text/html": [
              "\n",
              "  <div id=\"df-84236219-3a69-4e50-bbd7-f915bf4ece3c\">\n",
              "    <div class=\"colab-df-container\">\n",
              "      <div>\n",
              "<style scoped>\n",
              "    .dataframe tbody tr th:only-of-type {\n",
              "        vertical-align: middle;\n",
              "    }\n",
              "\n",
              "    .dataframe tbody tr th {\n",
              "        vertical-align: top;\n",
              "    }\n",
              "\n",
              "    .dataframe thead th {\n",
              "        text-align: right;\n",
              "    }\n",
              "</style>\n",
              "<table border=\"1\" class=\"dataframe\">\n",
              "  <thead>\n",
              "    <tr style=\"text-align: right;\">\n",
              "      <th></th>\n",
              "      <th>user_id</th>\n",
              "      <th>basket_id</th>\n",
              "      <th>day</th>\n",
              "      <th>item_id</th>\n",
              "      <th>quantity</th>\n",
              "      <th>sales_value</th>\n",
              "      <th>store_id</th>\n",
              "      <th>retail_disc</th>\n",
              "      <th>trans_time</th>\n",
              "      <th>week_no</th>\n",
              "      <th>coupon_disc</th>\n",
              "      <th>coupon_match_disc</th>\n",
              "    </tr>\n",
              "  </thead>\n",
              "  <tbody>\n",
              "    <tr>\n",
              "      <th>0</th>\n",
              "      <td>1340</td>\n",
              "      <td>41652823310</td>\n",
              "      <td>664</td>\n",
              "      <td>912987</td>\n",
              "      <td>1</td>\n",
              "      <td>8.49</td>\n",
              "      <td>446</td>\n",
              "      <td>0.0</td>\n",
              "      <td>52</td>\n",
              "      <td>96</td>\n",
              "      <td>0.0</td>\n",
              "      <td>0.0</td>\n",
              "    </tr>\n",
              "    <tr>\n",
              "      <th>1</th>\n",
              "      <td>588</td>\n",
              "      <td>41652838477</td>\n",
              "      <td>664</td>\n",
              "      <td>1024426</td>\n",
              "      <td>1</td>\n",
              "      <td>6.29</td>\n",
              "      <td>388</td>\n",
              "      <td>0.0</td>\n",
              "      <td>8</td>\n",
              "      <td>96</td>\n",
              "      <td>0.0</td>\n",
              "      <td>0.0</td>\n",
              "    </tr>\n",
              "    <tr>\n",
              "      <th>2</th>\n",
              "      <td>2070</td>\n",
              "      <td>41652857291</td>\n",
              "      <td>664</td>\n",
              "      <td>995242</td>\n",
              "      <td>5</td>\n",
              "      <td>9.10</td>\n",
              "      <td>311</td>\n",
              "      <td>-0.6</td>\n",
              "      <td>46</td>\n",
              "      <td>96</td>\n",
              "      <td>0.0</td>\n",
              "      <td>0.0</td>\n",
              "    </tr>\n",
              "    <tr>\n",
              "      <th>3</th>\n",
              "      <td>1602</td>\n",
              "      <td>41665647035</td>\n",
              "      <td>664</td>\n",
              "      <td>827939</td>\n",
              "      <td>1</td>\n",
              "      <td>7.99</td>\n",
              "      <td>334</td>\n",
              "      <td>0.0</td>\n",
              "      <td>1741</td>\n",
              "      <td>96</td>\n",
              "      <td>0.0</td>\n",
              "      <td>0.0</td>\n",
              "    </tr>\n",
              "    <tr>\n",
              "      <th>4</th>\n",
              "      <td>1602</td>\n",
              "      <td>41665647035</td>\n",
              "      <td>664</td>\n",
              "      <td>927712</td>\n",
              "      <td>1</td>\n",
              "      <td>0.59</td>\n",
              "      <td>334</td>\n",
              "      <td>-0.4</td>\n",
              "      <td>1741</td>\n",
              "      <td>96</td>\n",
              "      <td>0.0</td>\n",
              "      <td>0.0</td>\n",
              "    </tr>\n",
              "  </tbody>\n",
              "</table>\n",
              "</div>\n",
              "      <button class=\"colab-df-convert\" onclick=\"convertToInteractive('df-84236219-3a69-4e50-bbd7-f915bf4ece3c')\"\n",
              "              title=\"Convert this dataframe to an interactive table.\"\n",
              "              style=\"display:none;\">\n",
              "        \n",
              "  <svg xmlns=\"http://www.w3.org/2000/svg\" height=\"24px\"viewBox=\"0 0 24 24\"\n",
              "       width=\"24px\">\n",
              "    <path d=\"M0 0h24v24H0V0z\" fill=\"none\"/>\n",
              "    <path d=\"M18.56 5.44l.94 2.06.94-2.06 2.06-.94-2.06-.94-.94-2.06-.94 2.06-2.06.94zm-11 1L8.5 8.5l.94-2.06 2.06-.94-2.06-.94L8.5 2.5l-.94 2.06-2.06.94zm10 10l.94 2.06.94-2.06 2.06-.94-2.06-.94-.94-2.06-.94 2.06-2.06.94z\"/><path d=\"M17.41 7.96l-1.37-1.37c-.4-.4-.92-.59-1.43-.59-.52 0-1.04.2-1.43.59L10.3 9.45l-7.72 7.72c-.78.78-.78 2.05 0 2.83L4 21.41c.39.39.9.59 1.41.59.51 0 1.02-.2 1.41-.59l7.78-7.78 2.81-2.81c.8-.78.8-2.07 0-2.86zM5.41 20L4 18.59l7.72-7.72 1.47 1.35L5.41 20z\"/>\n",
              "  </svg>\n",
              "      </button>\n",
              "      \n",
              "  <style>\n",
              "    .colab-df-container {\n",
              "      display:flex;\n",
              "      flex-wrap:wrap;\n",
              "      gap: 12px;\n",
              "    }\n",
              "\n",
              "    .colab-df-convert {\n",
              "      background-color: #E8F0FE;\n",
              "      border: none;\n",
              "      border-radius: 50%;\n",
              "      cursor: pointer;\n",
              "      display: none;\n",
              "      fill: #1967D2;\n",
              "      height: 32px;\n",
              "      padding: 0 0 0 0;\n",
              "      width: 32px;\n",
              "    }\n",
              "\n",
              "    .colab-df-convert:hover {\n",
              "      background-color: #E2EBFA;\n",
              "      box-shadow: 0px 1px 2px rgba(60, 64, 67, 0.3), 0px 1px 3px 1px rgba(60, 64, 67, 0.15);\n",
              "      fill: #174EA6;\n",
              "    }\n",
              "\n",
              "    [theme=dark] .colab-df-convert {\n",
              "      background-color: #3B4455;\n",
              "      fill: #D2E3FC;\n",
              "    }\n",
              "\n",
              "    [theme=dark] .colab-df-convert:hover {\n",
              "      background-color: #434B5C;\n",
              "      box-shadow: 0px 1px 3px 1px rgba(0, 0, 0, 0.15);\n",
              "      filter: drop-shadow(0px 1px 2px rgba(0, 0, 0, 0.3));\n",
              "      fill: #FFFFFF;\n",
              "    }\n",
              "  </style>\n",
              "\n",
              "      <script>\n",
              "        const buttonEl =\n",
              "          document.querySelector('#df-84236219-3a69-4e50-bbd7-f915bf4ece3c button.colab-df-convert');\n",
              "        buttonEl.style.display =\n",
              "          google.colab.kernel.accessAllowed ? 'block' : 'none';\n",
              "\n",
              "        async function convertToInteractive(key) {\n",
              "          const element = document.querySelector('#df-84236219-3a69-4e50-bbd7-f915bf4ece3c');\n",
              "          const dataTable =\n",
              "            await google.colab.kernel.invokeFunction('convertToInteractive',\n",
              "                                                     [key], {});\n",
              "          if (!dataTable) return;\n",
              "\n",
              "          const docLinkHtml = 'Like what you see? Visit the ' +\n",
              "            '<a target=\"_blank\" href=https://colab.research.google.com/notebooks/data_table.ipynb>data table notebook</a>'\n",
              "            + ' to learn more about interactive tables.';\n",
              "          element.innerHTML = '';\n",
              "          dataTable['output_type'] = 'display_data';\n",
              "          await google.colab.output.renderOutput(dataTable, element);\n",
              "          const docLink = document.createElement('div');\n",
              "          docLink.innerHTML = docLinkHtml;\n",
              "          element.appendChild(docLink);\n",
              "        }\n",
              "      </script>\n",
              "    </div>\n",
              "  </div>\n",
              "  "
            ]
          },
          "metadata": {},
          "execution_count": 79
        }
      ],
      "source": [
        "df_test.head()"
      ]
    },
    {
      "cell_type": "code",
      "source": [
        "data_test_ranker = df_test[df_test.user_id.isin(common_users)]\n",
        "\n",
        "print_stats_data(data_test_ranker,'test_ranker')"
      ],
      "metadata": {
        "colab": {
          "base_uri": "https://localhost:8080/"
        },
        "id": "IdXvZzgxNp8I",
        "outputId": "1337511e-273d-4fd1-f7bd-abb11b71030d"
      },
      "execution_count": 80,
      "outputs": [
        {
          "output_type": "stream",
          "name": "stdout",
          "text": [
            "test_ranker\n",
            "Shape: (88665, 12) Users: 1883 Items: 20492\n"
          ]
        }
      ]
    },
    {
      "cell_type": "code",
      "execution_count": 81,
      "metadata": {
        "scrolled": true,
        "id": "z9q8vGvV-qV0",
        "outputId": "6caa361e-d343-4ea4-cb12-5601accfcf17",
        "colab": {
          "base_uri": "https://localhost:8080/",
          "height": 112
        }
      },
      "outputs": [
        {
          "output_type": "execute_result",
          "data": {
            "text/plain": [
              "   user_id                                             actual\n",
              "0        1  [880007, 883616, 931136, 938004, 940947, 94726...\n",
              "1        2  [820165, 820291, 826784, 826835, 829009, 85784..."
            ],
            "text/html": [
              "\n",
              "  <div id=\"df-2be2f086-2652-46eb-8ed7-2187a85290bc\">\n",
              "    <div class=\"colab-df-container\">\n",
              "      <div>\n",
              "<style scoped>\n",
              "    .dataframe tbody tr th:only-of-type {\n",
              "        vertical-align: middle;\n",
              "    }\n",
              "\n",
              "    .dataframe tbody tr th {\n",
              "        vertical-align: top;\n",
              "    }\n",
              "\n",
              "    .dataframe thead th {\n",
              "        text-align: right;\n",
              "    }\n",
              "</style>\n",
              "<table border=\"1\" class=\"dataframe\">\n",
              "  <thead>\n",
              "    <tr style=\"text-align: right;\">\n",
              "      <th></th>\n",
              "      <th>user_id</th>\n",
              "      <th>actual</th>\n",
              "    </tr>\n",
              "  </thead>\n",
              "  <tbody>\n",
              "    <tr>\n",
              "      <th>0</th>\n",
              "      <td>1</td>\n",
              "      <td>[880007, 883616, 931136, 938004, 940947, 94726...</td>\n",
              "    </tr>\n",
              "    <tr>\n",
              "      <th>1</th>\n",
              "      <td>2</td>\n",
              "      <td>[820165, 820291, 826784, 826835, 829009, 85784...</td>\n",
              "    </tr>\n",
              "  </tbody>\n",
              "</table>\n",
              "</div>\n",
              "      <button class=\"colab-df-convert\" onclick=\"convertToInteractive('df-2be2f086-2652-46eb-8ed7-2187a85290bc')\"\n",
              "              title=\"Convert this dataframe to an interactive table.\"\n",
              "              style=\"display:none;\">\n",
              "        \n",
              "  <svg xmlns=\"http://www.w3.org/2000/svg\" height=\"24px\"viewBox=\"0 0 24 24\"\n",
              "       width=\"24px\">\n",
              "    <path d=\"M0 0h24v24H0V0z\" fill=\"none\"/>\n",
              "    <path d=\"M18.56 5.44l.94 2.06.94-2.06 2.06-.94-2.06-.94-.94-2.06-.94 2.06-2.06.94zm-11 1L8.5 8.5l.94-2.06 2.06-.94-2.06-.94L8.5 2.5l-.94 2.06-2.06.94zm10 10l.94 2.06.94-2.06 2.06-.94-2.06-.94-.94-2.06-.94 2.06-2.06.94z\"/><path d=\"M17.41 7.96l-1.37-1.37c-.4-.4-.92-.59-1.43-.59-.52 0-1.04.2-1.43.59L10.3 9.45l-7.72 7.72c-.78.78-.78 2.05 0 2.83L4 21.41c.39.39.9.59 1.41.59.51 0 1.02-.2 1.41-.59l7.78-7.78 2.81-2.81c.8-.78.8-2.07 0-2.86zM5.41 20L4 18.59l7.72-7.72 1.47 1.35L5.41 20z\"/>\n",
              "  </svg>\n",
              "      </button>\n",
              "      \n",
              "  <style>\n",
              "    .colab-df-container {\n",
              "      display:flex;\n",
              "      flex-wrap:wrap;\n",
              "      gap: 12px;\n",
              "    }\n",
              "\n",
              "    .colab-df-convert {\n",
              "      background-color: #E8F0FE;\n",
              "      border: none;\n",
              "      border-radius: 50%;\n",
              "      cursor: pointer;\n",
              "      display: none;\n",
              "      fill: #1967D2;\n",
              "      height: 32px;\n",
              "      padding: 0 0 0 0;\n",
              "      width: 32px;\n",
              "    }\n",
              "\n",
              "    .colab-df-convert:hover {\n",
              "      background-color: #E2EBFA;\n",
              "      box-shadow: 0px 1px 2px rgba(60, 64, 67, 0.3), 0px 1px 3px 1px rgba(60, 64, 67, 0.15);\n",
              "      fill: #174EA6;\n",
              "    }\n",
              "\n",
              "    [theme=dark] .colab-df-convert {\n",
              "      background-color: #3B4455;\n",
              "      fill: #D2E3FC;\n",
              "    }\n",
              "\n",
              "    [theme=dark] .colab-df-convert:hover {\n",
              "      background-color: #434B5C;\n",
              "      box-shadow: 0px 1px 3px 1px rgba(0, 0, 0, 0.15);\n",
              "      filter: drop-shadow(0px 1px 2px rgba(0, 0, 0, 0.3));\n",
              "      fill: #FFFFFF;\n",
              "    }\n",
              "  </style>\n",
              "\n",
              "      <script>\n",
              "        const buttonEl =\n",
              "          document.querySelector('#df-2be2f086-2652-46eb-8ed7-2187a85290bc button.colab-df-convert');\n",
              "        buttonEl.style.display =\n",
              "          google.colab.kernel.accessAllowed ? 'block' : 'none';\n",
              "\n",
              "        async function convertToInteractive(key) {\n",
              "          const element = document.querySelector('#df-2be2f086-2652-46eb-8ed7-2187a85290bc');\n",
              "          const dataTable =\n",
              "            await google.colab.kernel.invokeFunction('convertToInteractive',\n",
              "                                                     [key], {});\n",
              "          if (!dataTable) return;\n",
              "\n",
              "          const docLinkHtml = 'Like what you see? Visit the ' +\n",
              "            '<a target=\"_blank\" href=https://colab.research.google.com/notebooks/data_table.ipynb>data table notebook</a>'\n",
              "            + ' to learn more about interactive tables.';\n",
              "          element.innerHTML = '';\n",
              "          dataTable['output_type'] = 'display_data';\n",
              "          await google.colab.output.renderOutput(dataTable, element);\n",
              "          const docLink = document.createElement('div');\n",
              "          docLink.innerHTML = docLinkHtml;\n",
              "          element.appendChild(docLink);\n",
              "        }\n",
              "      </script>\n",
              "    </div>\n",
              "  </div>\n",
              "  "
            ]
          },
          "metadata": {},
          "execution_count": 81
        }
      ],
      "source": [
        "result_test = data_test_ranker.groupby(USER_COL)[ITEM_COL].unique().reset_index()\n",
        "result_test.columns=[USER_COL, ACTUAL_COL]\n",
        "result_test.head(2)"
      ]
    },
    {
      "cell_type": "markdown",
      "metadata": {
        "id": "2iFQTvD4-qV0"
      },
      "source": [
        "Берем топ-k предсказаний, ранжированных по вероятности, для каждого юзера"
      ]
    },
    {
      "cell_type": "markdown",
      "metadata": {
        "id": "sUue01qt-qV0"
      },
      "source": [
        "# Считаем precision@5 по новому тесту"
      ]
    },
    {
      "cell_type": "code",
      "execution_count": 82,
      "metadata": {
        "id": "oHglW7TE-qV0",
        "colab": {
          "base_uri": "https://localhost:8080/"
        },
        "outputId": "42deea36-08d8-4286-f780-2982502a4e95"
      },
      "outputs": [
        {
          "output_type": "stream",
          "name": "stdout",
          "text": [
            "CPU times: user 5.18 s, sys: 76.9 ms, total: 5.26 s\n",
            "Wall time: 5.26 s\n"
          ]
        }
      ],
      "source": [
        "%%time\n",
        "result_test['own_rec'] = result_test[USER_COL].apply(lambda x: recommender.get_own_recommendations(x, N=N_PREDICT))"
      ]
    },
    {
      "cell_type": "code",
      "execution_count": 83,
      "metadata": {
        "id": "PDrlNOhL-qV1",
        "colab": {
          "base_uri": "https://localhost:8080/"
        },
        "outputId": "98d9d61a-6e74-4c3d-ae1d-c8111a6b2a72"
      },
      "outputs": [
        {
          "output_type": "execute_result",
          "data": {
            "text/plain": [
              "[('own_rec', 0.1361656930430157)]"
            ]
          },
          "metadata": {},
          "execution_count": 83
        }
      ],
      "source": [
        "sorted(calc_precision(result_test, TOPK_PRECISION), key=lambda x: x[1], reverse=True)"
      ]
    },
    {
      "cell_type": "code",
      "execution_count": 84,
      "metadata": {
        "id": "TdAkkxmy-qV1"
      },
      "outputs": [],
      "source": [
        "result_test['reranked_own_rec'] = result_test[USER_COL].apply(lambda user_id: rerank(user_id))"
      ]
    },
    {
      "cell_type": "code",
      "source": [
        "print(*sorted(calc_precision(result_test, TOPK_PRECISION), key=lambda x: x[1], reverse=True), sep='\\n')"
      ],
      "metadata": {
        "colab": {
          "base_uri": "https://localhost:8080/"
        },
        "id": "ooauzX8JNXFG",
        "outputId": "904c7d98-a1f3-438f-a175-25b8a8040d29"
      },
      "execution_count": 85,
      "outputs": [
        {
          "output_type": "stream",
          "name": "stdout",
          "text": [
            "('reranked_own_rec', 0.17894144144143936)\n",
            "('own_rec', 0.1361656930430157)\n"
          ]
        },
        {
          "output_type": "stream",
          "name": "stderr",
          "text": [
            "/content/drive/MyDrive/metrics.py:20: RuntimeWarning: invalid value encountered in long_scalars\n",
            "  return flags.sum() / len(recommended_list)\n"
          ]
        }
      ]
    },
    {
      "cell_type": "code",
      "source": [
        ""
      ],
      "metadata": {
        "id": "EF_FbtrsNXHL"
      },
      "execution_count": 85,
      "outputs": []
    },
    {
      "cell_type": "code",
      "source": [
        ""
      ],
      "metadata": {
        "id": "2S6p3cMmNXJe"
      },
      "execution_count": 85,
      "outputs": []
    }
  ],
  "metadata": {
    "kernelspec": {
      "display_name": "Python 3",
      "language": "python",
      "name": "python3"
    },
    "language_info": {
      "codemirror_mode": {
        "name": "ipython",
        "version": 3
      },
      "file_extension": ".py",
      "mimetype": "text/x-python",
      "name": "python",
      "nbconvert_exporter": "python",
      "pygments_lexer": "ipython3",
      "version": "3.8.8"
    },
    "colab": {
      "name": "course_project.ipynb",
      "provenance": []
    },
    "accelerator": "GPU",
    "widgets": {
      "application/vnd.jupyter.widget-state+json": {
        "6266bdb2d83c448f99cc6fb8f9f2a963": {
          "model_module": "@jupyter-widgets/controls",
          "model_name": "HBoxModel",
          "model_module_version": "1.5.0",
          "state": {
            "_dom_classes": [],
            "_model_module": "@jupyter-widgets/controls",
            "_model_module_version": "1.5.0",
            "_model_name": "HBoxModel",
            "_view_count": null,
            "_view_module": "@jupyter-widgets/controls",
            "_view_module_version": "1.5.0",
            "_view_name": "HBoxView",
            "box_style": "",
            "children": [
              "IPY_MODEL_53ff3db0d3b642f7a72cf6f525be4cb3",
              "IPY_MODEL_55d1d87b3a5a44cba572751d0142ba52",
              "IPY_MODEL_4ba266c9175842b9bb9ea2c3a2214e3f"
            ],
            "layout": "IPY_MODEL_5092f95a7e684ba383ac5519668eab28"
          }
        },
        "53ff3db0d3b642f7a72cf6f525be4cb3": {
          "model_module": "@jupyter-widgets/controls",
          "model_name": "HTMLModel",
          "model_module_version": "1.5.0",
          "state": {
            "_dom_classes": [],
            "_model_module": "@jupyter-widgets/controls",
            "_model_module_version": "1.5.0",
            "_model_name": "HTMLModel",
            "_view_count": null,
            "_view_module": "@jupyter-widgets/controls",
            "_view_module_version": "1.5.0",
            "_view_name": "HTMLView",
            "description": "",
            "description_tooltip": null,
            "layout": "IPY_MODEL_318923cd2ac44d7ea023dc35f495a34a",
            "placeholder": "​",
            "style": "IPY_MODEL_402c3321c4a84ddd875bfe45a6a019a9",
            "value": "100%"
          }
        },
        "55d1d87b3a5a44cba572751d0142ba52": {
          "model_module": "@jupyter-widgets/controls",
          "model_name": "FloatProgressModel",
          "model_module_version": "1.5.0",
          "state": {
            "_dom_classes": [],
            "_model_module": "@jupyter-widgets/controls",
            "_model_module_version": "1.5.0",
            "_model_name": "FloatProgressModel",
            "_view_count": null,
            "_view_module": "@jupyter-widgets/controls",
            "_view_module_version": "1.5.0",
            "_view_name": "ProgressView",
            "bar_style": "success",
            "description": "",
            "description_tooltip": null,
            "layout": "IPY_MODEL_3d4092730c2145ffb09b00e32a1120e4",
            "max": 35,
            "min": 0,
            "orientation": "horizontal",
            "style": "IPY_MODEL_5cbd70c8f3d846e3815b691f05d01d5f",
            "value": 35
          }
        },
        "4ba266c9175842b9bb9ea2c3a2214e3f": {
          "model_module": "@jupyter-widgets/controls",
          "model_name": "HTMLModel",
          "model_module_version": "1.5.0",
          "state": {
            "_dom_classes": [],
            "_model_module": "@jupyter-widgets/controls",
            "_model_module_version": "1.5.0",
            "_model_name": "HTMLModel",
            "_view_count": null,
            "_view_module": "@jupyter-widgets/controls",
            "_view_module_version": "1.5.0",
            "_view_name": "HTMLView",
            "description": "",
            "description_tooltip": null,
            "layout": "IPY_MODEL_7f6e3011dd2f465fa080ab7b3019b836",
            "placeholder": "​",
            "style": "IPY_MODEL_caf91ac9196a4b78a990d1a075886143",
            "value": " 35/35 [00:21&lt;00:00,  3.14it/s]"
          }
        },
        "5092f95a7e684ba383ac5519668eab28": {
          "model_module": "@jupyter-widgets/base",
          "model_name": "LayoutModel",
          "model_module_version": "1.2.0",
          "state": {
            "_model_module": "@jupyter-widgets/base",
            "_model_module_version": "1.2.0",
            "_model_name": "LayoutModel",
            "_view_count": null,
            "_view_module": "@jupyter-widgets/base",
            "_view_module_version": "1.2.0",
            "_view_name": "LayoutView",
            "align_content": null,
            "align_items": null,
            "align_self": null,
            "border": null,
            "bottom": null,
            "display": null,
            "flex": null,
            "flex_flow": null,
            "grid_area": null,
            "grid_auto_columns": null,
            "grid_auto_flow": null,
            "grid_auto_rows": null,
            "grid_column": null,
            "grid_gap": null,
            "grid_row": null,
            "grid_template_areas": null,
            "grid_template_columns": null,
            "grid_template_rows": null,
            "height": null,
            "justify_content": null,
            "justify_items": null,
            "left": null,
            "margin": null,
            "max_height": null,
            "max_width": null,
            "min_height": null,
            "min_width": null,
            "object_fit": null,
            "object_position": null,
            "order": null,
            "overflow": null,
            "overflow_x": null,
            "overflow_y": null,
            "padding": null,
            "right": null,
            "top": null,
            "visibility": null,
            "width": null
          }
        },
        "318923cd2ac44d7ea023dc35f495a34a": {
          "model_module": "@jupyter-widgets/base",
          "model_name": "LayoutModel",
          "model_module_version": "1.2.0",
          "state": {
            "_model_module": "@jupyter-widgets/base",
            "_model_module_version": "1.2.0",
            "_model_name": "LayoutModel",
            "_view_count": null,
            "_view_module": "@jupyter-widgets/base",
            "_view_module_version": "1.2.0",
            "_view_name": "LayoutView",
            "align_content": null,
            "align_items": null,
            "align_self": null,
            "border": null,
            "bottom": null,
            "display": null,
            "flex": null,
            "flex_flow": null,
            "grid_area": null,
            "grid_auto_columns": null,
            "grid_auto_flow": null,
            "grid_auto_rows": null,
            "grid_column": null,
            "grid_gap": null,
            "grid_row": null,
            "grid_template_areas": null,
            "grid_template_columns": null,
            "grid_template_rows": null,
            "height": null,
            "justify_content": null,
            "justify_items": null,
            "left": null,
            "margin": null,
            "max_height": null,
            "max_width": null,
            "min_height": null,
            "min_width": null,
            "object_fit": null,
            "object_position": null,
            "order": null,
            "overflow": null,
            "overflow_x": null,
            "overflow_y": null,
            "padding": null,
            "right": null,
            "top": null,
            "visibility": null,
            "width": null
          }
        },
        "402c3321c4a84ddd875bfe45a6a019a9": {
          "model_module": "@jupyter-widgets/controls",
          "model_name": "DescriptionStyleModel",
          "model_module_version": "1.5.0",
          "state": {
            "_model_module": "@jupyter-widgets/controls",
            "_model_module_version": "1.5.0",
            "_model_name": "DescriptionStyleModel",
            "_view_count": null,
            "_view_module": "@jupyter-widgets/base",
            "_view_module_version": "1.2.0",
            "_view_name": "StyleView",
            "description_width": ""
          }
        },
        "3d4092730c2145ffb09b00e32a1120e4": {
          "model_module": "@jupyter-widgets/base",
          "model_name": "LayoutModel",
          "model_module_version": "1.2.0",
          "state": {
            "_model_module": "@jupyter-widgets/base",
            "_model_module_version": "1.2.0",
            "_model_name": "LayoutModel",
            "_view_count": null,
            "_view_module": "@jupyter-widgets/base",
            "_view_module_version": "1.2.0",
            "_view_name": "LayoutView",
            "align_content": null,
            "align_items": null,
            "align_self": null,
            "border": null,
            "bottom": null,
            "display": null,
            "flex": null,
            "flex_flow": null,
            "grid_area": null,
            "grid_auto_columns": null,
            "grid_auto_flow": null,
            "grid_auto_rows": null,
            "grid_column": null,
            "grid_gap": null,
            "grid_row": null,
            "grid_template_areas": null,
            "grid_template_columns": null,
            "grid_template_rows": null,
            "height": null,
            "justify_content": null,
            "justify_items": null,
            "left": null,
            "margin": null,
            "max_height": null,
            "max_width": null,
            "min_height": null,
            "min_width": null,
            "object_fit": null,
            "object_position": null,
            "order": null,
            "overflow": null,
            "overflow_x": null,
            "overflow_y": null,
            "padding": null,
            "right": null,
            "top": null,
            "visibility": null,
            "width": null
          }
        },
        "5cbd70c8f3d846e3815b691f05d01d5f": {
          "model_module": "@jupyter-widgets/controls",
          "model_name": "ProgressStyleModel",
          "model_module_version": "1.5.0",
          "state": {
            "_model_module": "@jupyter-widgets/controls",
            "_model_module_version": "1.5.0",
            "_model_name": "ProgressStyleModel",
            "_view_count": null,
            "_view_module": "@jupyter-widgets/base",
            "_view_module_version": "1.2.0",
            "_view_name": "StyleView",
            "bar_color": null,
            "description_width": ""
          }
        },
        "7f6e3011dd2f465fa080ab7b3019b836": {
          "model_module": "@jupyter-widgets/base",
          "model_name": "LayoutModel",
          "model_module_version": "1.2.0",
          "state": {
            "_model_module": "@jupyter-widgets/base",
            "_model_module_version": "1.2.0",
            "_model_name": "LayoutModel",
            "_view_count": null,
            "_view_module": "@jupyter-widgets/base",
            "_view_module_version": "1.2.0",
            "_view_name": "LayoutView",
            "align_content": null,
            "align_items": null,
            "align_self": null,
            "border": null,
            "bottom": null,
            "display": null,
            "flex": null,
            "flex_flow": null,
            "grid_area": null,
            "grid_auto_columns": null,
            "grid_auto_flow": null,
            "grid_auto_rows": null,
            "grid_column": null,
            "grid_gap": null,
            "grid_row": null,
            "grid_template_areas": null,
            "grid_template_columns": null,
            "grid_template_rows": null,
            "height": null,
            "justify_content": null,
            "justify_items": null,
            "left": null,
            "margin": null,
            "max_height": null,
            "max_width": null,
            "min_height": null,
            "min_width": null,
            "object_fit": null,
            "object_position": null,
            "order": null,
            "overflow": null,
            "overflow_x": null,
            "overflow_y": null,
            "padding": null,
            "right": null,
            "top": null,
            "visibility": null,
            "width": null
          }
        },
        "caf91ac9196a4b78a990d1a075886143": {
          "model_module": "@jupyter-widgets/controls",
          "model_name": "DescriptionStyleModel",
          "model_module_version": "1.5.0",
          "state": {
            "_model_module": "@jupyter-widgets/controls",
            "_model_module_version": "1.5.0",
            "_model_name": "DescriptionStyleModel",
            "_view_count": null,
            "_view_module": "@jupyter-widgets/base",
            "_view_module_version": "1.2.0",
            "_view_name": "StyleView",
            "description_width": ""
          }
        },
        "277c13b753c04591b4b64d78bf2af776": {
          "model_module": "@jupyter-widgets/controls",
          "model_name": "HBoxModel",
          "model_module_version": "1.5.0",
          "state": {
            "_dom_classes": [],
            "_model_module": "@jupyter-widgets/controls",
            "_model_module_version": "1.5.0",
            "_model_name": "HBoxModel",
            "_view_count": null,
            "_view_module": "@jupyter-widgets/controls",
            "_view_module_version": "1.5.0",
            "_view_name": "HBoxView",
            "box_style": "",
            "children": [
              "IPY_MODEL_e46d3aca90134eff9486179ee9bd3dbc",
              "IPY_MODEL_1b54686cf45c44d29778c90ca29f11b4",
              "IPY_MODEL_9ec80b03ce1846fe9e5902ca210b235a"
            ],
            "layout": "IPY_MODEL_bfc4d6bb237d46c58dd3a3e1213ef391"
          }
        },
        "e46d3aca90134eff9486179ee9bd3dbc": {
          "model_module": "@jupyter-widgets/controls",
          "model_name": "HTMLModel",
          "model_module_version": "1.5.0",
          "state": {
            "_dom_classes": [],
            "_model_module": "@jupyter-widgets/controls",
            "_model_module_version": "1.5.0",
            "_model_name": "HTMLModel",
            "_view_count": null,
            "_view_module": "@jupyter-widgets/controls",
            "_view_module_version": "1.5.0",
            "_view_name": "HTMLView",
            "description": "",
            "description_tooltip": null,
            "layout": "IPY_MODEL_e98eeb5b7ab649c682bd6432fa9d9002",
            "placeholder": "​",
            "style": "IPY_MODEL_c27ee94776df4dcdbabf64d9682dfa4e",
            "value": "100%"
          }
        },
        "1b54686cf45c44d29778c90ca29f11b4": {
          "model_module": "@jupyter-widgets/controls",
          "model_name": "FloatProgressModel",
          "model_module_version": "1.5.0",
          "state": {
            "_dom_classes": [],
            "_model_module": "@jupyter-widgets/controls",
            "_model_module_version": "1.5.0",
            "_model_name": "FloatProgressModel",
            "_view_count": null,
            "_view_module": "@jupyter-widgets/controls",
            "_view_module_version": "1.5.0",
            "_view_name": "ProgressView",
            "bar_style": "success",
            "description": "",
            "description_tooltip": null,
            "layout": "IPY_MODEL_0eec139cb5744b018389ee20487d682b",
            "max": 3001,
            "min": 0,
            "orientation": "horizontal",
            "style": "IPY_MODEL_5fa11d2fa29446778a94ae22cb455bfc",
            "value": 3001
          }
        },
        "9ec80b03ce1846fe9e5902ca210b235a": {
          "model_module": "@jupyter-widgets/controls",
          "model_name": "HTMLModel",
          "model_module_version": "1.5.0",
          "state": {
            "_dom_classes": [],
            "_model_module": "@jupyter-widgets/controls",
            "_model_module_version": "1.5.0",
            "_model_name": "HTMLModel",
            "_view_count": null,
            "_view_module": "@jupyter-widgets/controls",
            "_view_module_version": "1.5.0",
            "_view_name": "HTMLView",
            "description": "",
            "description_tooltip": null,
            "layout": "IPY_MODEL_4d165ffbd8af4ca2a82efb6b13ed1093",
            "placeholder": "​",
            "style": "IPY_MODEL_2b3dc2dc8f5845cfbb71b532304ed4ae",
            "value": " 3001/3001 [00:00&lt;00:00, 10414.17it/s]"
          }
        },
        "bfc4d6bb237d46c58dd3a3e1213ef391": {
          "model_module": "@jupyter-widgets/base",
          "model_name": "LayoutModel",
          "model_module_version": "1.2.0",
          "state": {
            "_model_module": "@jupyter-widgets/base",
            "_model_module_version": "1.2.0",
            "_model_name": "LayoutModel",
            "_view_count": null,
            "_view_module": "@jupyter-widgets/base",
            "_view_module_version": "1.2.0",
            "_view_name": "LayoutView",
            "align_content": null,
            "align_items": null,
            "align_self": null,
            "border": null,
            "bottom": null,
            "display": null,
            "flex": null,
            "flex_flow": null,
            "grid_area": null,
            "grid_auto_columns": null,
            "grid_auto_flow": null,
            "grid_auto_rows": null,
            "grid_column": null,
            "grid_gap": null,
            "grid_row": null,
            "grid_template_areas": null,
            "grid_template_columns": null,
            "grid_template_rows": null,
            "height": null,
            "justify_content": null,
            "justify_items": null,
            "left": null,
            "margin": null,
            "max_height": null,
            "max_width": null,
            "min_height": null,
            "min_width": null,
            "object_fit": null,
            "object_position": null,
            "order": null,
            "overflow": null,
            "overflow_x": null,
            "overflow_y": null,
            "padding": null,
            "right": null,
            "top": null,
            "visibility": null,
            "width": null
          }
        },
        "e98eeb5b7ab649c682bd6432fa9d9002": {
          "model_module": "@jupyter-widgets/base",
          "model_name": "LayoutModel",
          "model_module_version": "1.2.0",
          "state": {
            "_model_module": "@jupyter-widgets/base",
            "_model_module_version": "1.2.0",
            "_model_name": "LayoutModel",
            "_view_count": null,
            "_view_module": "@jupyter-widgets/base",
            "_view_module_version": "1.2.0",
            "_view_name": "LayoutView",
            "align_content": null,
            "align_items": null,
            "align_self": null,
            "border": null,
            "bottom": null,
            "display": null,
            "flex": null,
            "flex_flow": null,
            "grid_area": null,
            "grid_auto_columns": null,
            "grid_auto_flow": null,
            "grid_auto_rows": null,
            "grid_column": null,
            "grid_gap": null,
            "grid_row": null,
            "grid_template_areas": null,
            "grid_template_columns": null,
            "grid_template_rows": null,
            "height": null,
            "justify_content": null,
            "justify_items": null,
            "left": null,
            "margin": null,
            "max_height": null,
            "max_width": null,
            "min_height": null,
            "min_width": null,
            "object_fit": null,
            "object_position": null,
            "order": null,
            "overflow": null,
            "overflow_x": null,
            "overflow_y": null,
            "padding": null,
            "right": null,
            "top": null,
            "visibility": null,
            "width": null
          }
        },
        "c27ee94776df4dcdbabf64d9682dfa4e": {
          "model_module": "@jupyter-widgets/controls",
          "model_name": "DescriptionStyleModel",
          "model_module_version": "1.5.0",
          "state": {
            "_model_module": "@jupyter-widgets/controls",
            "_model_module_version": "1.5.0",
            "_model_name": "DescriptionStyleModel",
            "_view_count": null,
            "_view_module": "@jupyter-widgets/base",
            "_view_module_version": "1.2.0",
            "_view_name": "StyleView",
            "description_width": ""
          }
        },
        "0eec139cb5744b018389ee20487d682b": {
          "model_module": "@jupyter-widgets/base",
          "model_name": "LayoutModel",
          "model_module_version": "1.2.0",
          "state": {
            "_model_module": "@jupyter-widgets/base",
            "_model_module_version": "1.2.0",
            "_model_name": "LayoutModel",
            "_view_count": null,
            "_view_module": "@jupyter-widgets/base",
            "_view_module_version": "1.2.0",
            "_view_name": "LayoutView",
            "align_content": null,
            "align_items": null,
            "align_self": null,
            "border": null,
            "bottom": null,
            "display": null,
            "flex": null,
            "flex_flow": null,
            "grid_area": null,
            "grid_auto_columns": null,
            "grid_auto_flow": null,
            "grid_auto_rows": null,
            "grid_column": null,
            "grid_gap": null,
            "grid_row": null,
            "grid_template_areas": null,
            "grid_template_columns": null,
            "grid_template_rows": null,
            "height": null,
            "justify_content": null,
            "justify_items": null,
            "left": null,
            "margin": null,
            "max_height": null,
            "max_width": null,
            "min_height": null,
            "min_width": null,
            "object_fit": null,
            "object_position": null,
            "order": null,
            "overflow": null,
            "overflow_x": null,
            "overflow_y": null,
            "padding": null,
            "right": null,
            "top": null,
            "visibility": null,
            "width": null
          }
        },
        "5fa11d2fa29446778a94ae22cb455bfc": {
          "model_module": "@jupyter-widgets/controls",
          "model_name": "ProgressStyleModel",
          "model_module_version": "1.5.0",
          "state": {
            "_model_module": "@jupyter-widgets/controls",
            "_model_module_version": "1.5.0",
            "_model_name": "ProgressStyleModel",
            "_view_count": null,
            "_view_module": "@jupyter-widgets/base",
            "_view_module_version": "1.2.0",
            "_view_name": "StyleView",
            "bar_color": null,
            "description_width": ""
          }
        },
        "4d165ffbd8af4ca2a82efb6b13ed1093": {
          "model_module": "@jupyter-widgets/base",
          "model_name": "LayoutModel",
          "model_module_version": "1.2.0",
          "state": {
            "_model_module": "@jupyter-widgets/base",
            "_model_module_version": "1.2.0",
            "_model_name": "LayoutModel",
            "_view_count": null,
            "_view_module": "@jupyter-widgets/base",
            "_view_module_version": "1.2.0",
            "_view_name": "LayoutView",
            "align_content": null,
            "align_items": null,
            "align_self": null,
            "border": null,
            "bottom": null,
            "display": null,
            "flex": null,
            "flex_flow": null,
            "grid_area": null,
            "grid_auto_columns": null,
            "grid_auto_flow": null,
            "grid_auto_rows": null,
            "grid_column": null,
            "grid_gap": null,
            "grid_row": null,
            "grid_template_areas": null,
            "grid_template_columns": null,
            "grid_template_rows": null,
            "height": null,
            "justify_content": null,
            "justify_items": null,
            "left": null,
            "margin": null,
            "max_height": null,
            "max_width": null,
            "min_height": null,
            "min_width": null,
            "object_fit": null,
            "object_position": null,
            "order": null,
            "overflow": null,
            "overflow_x": null,
            "overflow_y": null,
            "padding": null,
            "right": null,
            "top": null,
            "visibility": null,
            "width": null
          }
        },
        "2b3dc2dc8f5845cfbb71b532304ed4ae": {
          "model_module": "@jupyter-widgets/controls",
          "model_name": "DescriptionStyleModel",
          "model_module_version": "1.5.0",
          "state": {
            "_model_module": "@jupyter-widgets/controls",
            "_model_module_version": "1.5.0",
            "_model_name": "DescriptionStyleModel",
            "_view_count": null,
            "_view_module": "@jupyter-widgets/base",
            "_view_module_version": "1.2.0",
            "_view_name": "StyleView",
            "description_width": ""
          }
        }
      }
    }
  },
  "nbformat": 4,
  "nbformat_minor": 0
}