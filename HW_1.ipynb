{
  "metadata": {
    "colab": {
      "name": "HW_1.ipynb",
      "provenance": []
    },
    "kernelspec": {
      "name": "python",
      "display_name": "Pyolite",
      "language": "python"
    },
    "language_info": {
      "codemirror_mode": {
        "name": "python",
        "version": 3
      },
      "file_extension": ".py",
      "mimetype": "text/x-python",
      "name": "python",
      "nbconvert_exporter": "python",
      "pygments_lexer": "ipython3",
      "version": "3.8"
    }
  },
  "nbformat_minor": 0,
  "nbformat": 4,
  "cells": [
    {
      "cell_type": "markdown",
      "source": [
        "# Вебинар 1. Введение, примеры задач, бизнес- и ML-метрики "
      ],
      "metadata": {
        "id": "89mFQmjdo1gZ"
      }
    },
    {
      "cell_type": "markdown",
      "source": [
        "<img src='topic.png'>"
      ],
      "metadata": {
        "id": "LloFetLlAH4y"
      }
    },
    {
      "cell_type": "markdown",
      "source": [
        "# About me"
      ],
      "metadata": {
        "id": "mb5FdcjVAH4z"
      }
    },
    {
      "cell_type": "markdown",
      "source": [
        "<a href=\"http://arudnitskiy.ru/\">Read here</a>"
      ],
      "metadata": {
        "id": "t-SGFdXnAH4z"
      }
    },
    {
      "cell_type": "markdown",
      "source": [
        "<img src='about_me.png'>"
      ],
      "metadata": {
        "id": "eKKMA9THAH40"
      }
    },
    {
      "cell_type": "markdown",
      "source": [
        "<img src='structure.png'>"
      ],
      "metadata": {
        "id": "h64XKvdmAH40"
      }
    },
    {
      "cell_type": "markdown",
      "source": [
        "<img src='lesson_topic.png'>"
      ],
      "metadata": {
        "id": "HFEJ7TNMAH40"
      }
    },
    {
      "cell_type": "markdown",
      "source": [
        "-----"
      ],
      "metadata": {
        "id": "MJZwT8cSo1gi"
      }
    },
    {
      "cell_type": "markdown",
      "source": [
        "# 1. Введение и примеры задач"
      ],
      "metadata": {
        "id": "R0sRGFuXo1gk"
      }
    },
    {
      "cell_type": "markdown",
      "source": [
        "<img src='recsys_everywhere.png'>\n"
      ],
      "metadata": {
        "id": "9qZt-QYrNqiM"
      }
    },
    {
      "cell_type": "markdown",
      "source": [
        "----"
      ],
      "metadata": {
        "id": "Wvs4ACKHo1go"
      }
    },
    {
      "cell_type": "markdown",
      "source": [
        "<img src='skills.png'>"
      ],
      "metadata": {
        "id": "_758DrtrAH42"
      }
    },
    {
      "cell_type": "markdown",
      "source": [
        "---"
      ],
      "metadata": {
        "id": "p4hQIpZ6o1gr"
      }
    },
    {
      "cell_type": "markdown",
      "source": [
        "##  Постановка задачи\n",
        "\n",
        "*Задача рекомендаций* - предложить пользователю товары, которые ему \"понравятся\"\n",
        "\n",
        "Компоненты:\n",
        "    - Пользователи (users)\n",
        "    - Товары (items)\n",
        "    - Взаимодействия (interactions) - по ним понимаем, что товар \"понравился\""
      ],
      "metadata": {
        "id": "EC6MY2VHo1gs"
      }
    },
    {
      "cell_type": "markdown",
      "source": [
        "---"
      ],
      "metadata": {
        "id": "9vjcDtI4o1gt"
      }
    },
    {
      "cell_type": "markdown",
      "source": [
        "## Пользователи VS Товары\n",
        "\n",
        "<img src='ex_user_items.png'>\n"
      ],
      "metadata": {
        "id": "F4lSmxSIo1g4"
      }
    },
    {
      "cell_type": "markdown",
      "source": [
        "**Кейс**: определить в каждой ситуации, что является пользователем, а что - товаром\n",
        "    \n",
        "    1. На сайте Кинопоиска порекомендовать интересные фильмы\n",
        "    2. На сайте hh.ru подобрать лучшие вакансии для соискателя вакансий\n",
        "    3. На сайте hh.ru найти похожие вакансии на ту, которую сейчас просматривает пользователь (\"вам также может понравиться\")\n",
        "    4. На сайте hh.ru подобрать лучших кандидатов для работодателя\n",
        "    \n",
        "*Пример ответа в чате:*\n",
        "    1. Пользователь (П) - фильм, Товар (T) - фильм\n",
        "    2. Т - работодатель, П - соискатель вакансий"
      ],
      "metadata": {
        "id": "xQCfDa7Ro1g6"
      }
    },
    {
      "cell_type": "markdown",
      "source": [
        "---"
      ],
      "metadata": {
        "id": "6XvwnlkTo1g7"
      }
    },
    {
      "cell_type": "markdown",
      "source": [
        "## Взаимодействия --> \"понравился товар\"\n",
        "\n",
        "<img src='ex_interactions.png'>"
      ],
      "metadata": {
        "id": "hTptz8fIo1g8"
      }
    },
    {
      "cell_type": "markdown",
      "source": [
        "---"
      ],
      "metadata": {
        "id": "trQ6RNEto1g9"
      }
    },
    {
      "cell_type": "markdown",
      "source": [
        "## В чем отличие от классификации?"
      ],
      "metadata": {
        "id": "gyYgtrV3o1g-"
      }
    },
    {
      "cell_type": "code",
      "source": [
        "import pandas as pd\n",
        "import numpy as np"
      ],
      "metadata": {
        "id": "MDr2G6YIo1g_",
        "trusted": true,
        "outputId": "9cbcd035-5a65-44f8-9b20-b84f2b749f34"
      },
      "execution_count": null,
      "outputs": [
        {
          "name": "stderr",
          "text": "/lib/python3.9/site-packages/pandas/compat/__init__.py:124: UserWarning: Could not import the lzma module. Your installed Python is incomplete. Attempting to use lzma compression will result in a RuntimeError.\n  warnings.warn(msg)\n",
          "output_type": "stream"
        }
      ]
    },
    {
      "cell_type": "code",
      "source": [
        "pd.DataFrame([['Иван', 'Хлеб Бородинский', 1],\n",
        "             ['Иван', 'Хлеб Белый', 0],\n",
        "             ['Василий', 'Йогурт Epica', 1]], columns=['user', 'item', 'purchase_fact'])"
      ],
      "metadata": {
        "id": "5NPXqJeco1hH",
        "outputId": "ba77be93-57c6-4982-c0fe-dda62a64edfb"
      },
      "execution_count": null,
      "outputs": [
        {
          "execution_count": 4,
          "output_type": "execute_result",
          "data": {
            "text/html": [
              "<div>\n",
              "<style scoped>\n",
              "    .dataframe tbody tr th:only-of-type {\n",
              "        vertical-align: middle;\n",
              "    }\n",
              "\n",
              "    .dataframe tbody tr th {\n",
              "        vertical-align: top;\n",
              "    }\n",
              "\n",
              "    .dataframe thead th {\n",
              "        text-align: right;\n",
              "    }\n",
              "</style>\n",
              "<table border=\"1\" class=\"dataframe\">\n",
              "  <thead>\n",
              "    <tr style=\"text-align: right;\">\n",
              "      <th></th>\n",
              "      <th>user</th>\n",
              "      <th>item</th>\n",
              "      <th>purchase_fact</th>\n",
              "    </tr>\n",
              "  </thead>\n",
              "  <tbody>\n",
              "    <tr>\n",
              "      <th>0</th>\n",
              "      <td>Иван</td>\n",
              "      <td>Хлеб Бородинский</td>\n",
              "      <td>1</td>\n",
              "    </tr>\n",
              "    <tr>\n",
              "      <th>1</th>\n",
              "      <td>Иван</td>\n",
              "      <td>Хлеб Белый</td>\n",
              "      <td>0</td>\n",
              "    </tr>\n",
              "    <tr>\n",
              "      <th>2</th>\n",
              "      <td>Василий</td>\n",
              "      <td>Йогурт Epica</td>\n",
              "      <td>1</td>\n",
              "    </tr>\n",
              "  </tbody>\n",
              "</table>\n",
              "</div>"
            ],
            "text/plain": [
              "      user              item  purchase_fact\n",
              "0     Иван  Хлеб Бородинский              1\n",
              "1     Иван        Хлеб Белый              0\n",
              "2  Василий      Йогурт Epica              1"
            ]
          },
          "metadata": {}
        }
      ]
    },
    {
      "cell_type": "markdown",
      "source": [
        "Постойте, ведь можно добавить фичи на user (средний чек, кол-во покупок в категориях и т.д), \n",
        "на item (цена, кол-во продаж в неделю и т.l), и решать задачу классификации. В чем отличие RecSys от классификации?\n",
        "\n",
        " - Много предсказаний для 1 user (extreme classification)\n",
        " - Гораздо больший объем данных: 100K users, 10K items --> 1B предсказаний\n",
        " - Большинство товаров user никогда не видел --> Не взаимодействовал --> 0 не значит \"не понравился\"\n",
        " - Нет явного таргета. Не понятно, что значит \"(не) понравился\"\n",
        " - Feedback loop\n",
        " - Всегда важен порядок рекомендаций"
      ],
      "metadata": {
        "id": "qpT9cc8Ao1hP"
      }
    },
    {
      "cell_type": "code",
      "source": [
        "pd.DataFrame([['Иван', 'Хлеб Бородинский', 1],\n",
        "              ['Иван', 'Хлеб Белый', 0],\n",
        "              ['Иван', 'Йогурт Epica', \"?\"],\n",
        "              ['Василий', 'Хлеб Бородинский', \"?\"],\n",
        "              ['Василий', 'Хлеб Белый', \"?\"],\n",
        "              ['Василий', 'Йогурт Epica', 1]], columns=['user', 'item', 'purchase_fact'])"
      ],
      "metadata": {
        "id": "PI5Vw8z9o1hQ",
        "outputId": "f3150663-ca10-45a7-cf1d-e93d57f1b399"
      },
      "execution_count": null,
      "outputs": [
        {
          "execution_count": 5,
          "output_type": "execute_result",
          "data": {
            "text/html": [
              "<div>\n",
              "<style scoped>\n",
              "    .dataframe tbody tr th:only-of-type {\n",
              "        vertical-align: middle;\n",
              "    }\n",
              "\n",
              "    .dataframe tbody tr th {\n",
              "        vertical-align: top;\n",
              "    }\n",
              "\n",
              "    .dataframe thead th {\n",
              "        text-align: right;\n",
              "    }\n",
              "</style>\n",
              "<table border=\"1\" class=\"dataframe\">\n",
              "  <thead>\n",
              "    <tr style=\"text-align: right;\">\n",
              "      <th></th>\n",
              "      <th>user</th>\n",
              "      <th>item</th>\n",
              "      <th>purchase_fact</th>\n",
              "    </tr>\n",
              "  </thead>\n",
              "  <tbody>\n",
              "    <tr>\n",
              "      <th>0</th>\n",
              "      <td>Иван</td>\n",
              "      <td>Хлеб Бородинский</td>\n",
              "      <td>1</td>\n",
              "    </tr>\n",
              "    <tr>\n",
              "      <th>1</th>\n",
              "      <td>Иван</td>\n",
              "      <td>Хлеб Белый</td>\n",
              "      <td>0</td>\n",
              "    </tr>\n",
              "    <tr>\n",
              "      <th>2</th>\n",
              "      <td>Иван</td>\n",
              "      <td>Йогурт Epica</td>\n",
              "      <td>?</td>\n",
              "    </tr>\n",
              "    <tr>\n",
              "      <th>3</th>\n",
              "      <td>Василий</td>\n",
              "      <td>Хлеб Бородинский</td>\n",
              "      <td>?</td>\n",
              "    </tr>\n",
              "    <tr>\n",
              "      <th>4</th>\n",
              "      <td>Василий</td>\n",
              "      <td>Хлеб Белый</td>\n",
              "      <td>?</td>\n",
              "    </tr>\n",
              "    <tr>\n",
              "      <th>5</th>\n",
              "      <td>Василий</td>\n",
              "      <td>Йогурт Epica</td>\n",
              "      <td>1</td>\n",
              "    </tr>\n",
              "  </tbody>\n",
              "</table>\n",
              "</div>"
            ],
            "text/plain": [
              "      user              item purchase_fact\n",
              "0     Иван  Хлеб Бородинский             1\n",
              "1     Иван        Хлеб Белый             0\n",
              "2     Иван      Йогурт Epica             ?\n",
              "3  Василий  Хлеб Бородинский             ?\n",
              "4  Василий        Хлеб Белый             ?\n",
              "5  Василий      Йогурт Epica             1"
            ]
          },
          "metadata": {}
        }
      ]
    },
    {
      "cell_type": "markdown",
      "source": [
        "----"
      ],
      "metadata": {
        "id": "qjBbrZqIo1hX"
      }
    },
    {
      "cell_type": "markdown",
      "source": [
        "## Основные типы задач:\n",
        "    \n",
        "**Рекомендация топ-К товаров**: Дан список товаров. Рекомендовать пользователю K товаров, которые ему понравятся\n",
        "    - e-mail рассылки (М.Видео, Hoff, Пятерочка)\n",
        "    - push-уведомления (Delivery Club, HeadHunter, Виктория)\n",
        "    - Рекомендации в отдельном окне на сайте (vk, okko)\n",
        "\n",
        "**Ранжирование товаров**: Дан список товаров. Нужно его отранжировать в порядке убывания интереса для пользователя\n",
        "    - Ранжирование каталога товаров (Wildberries, Lamoda)\n",
        "    - Ранжирование ленты (vk, Я.Дзен)\n",
        "    - Ранжирование поисковой выдачи (Яндекс, Гугл)\n",
        "    - Ранжирование \"каруселей\" товаров (Delivery Club, Я.Еда)\n",
        "    \n",
        "**Поиск похожих товаров**: Дан 1 товар. Нужно найти наиболее похожие на него товары\n",
        "    - \"Вам также может понравиться\" (Ozon, Циан)\n",
        "    - Похожим пользователям понравилось (vk)\n",
        "    - Вы можете быть знакомы (vk, facebook)\n",
        "    \n",
        "**Рекомендация дополнительного товара**. Дан 1 товар. Найти товары, которые покупают вместе с этим товаром\n",
        "    - С этим товаром часто покупают (Я.Маркет, Ozon, М.Видео)\n",
        "    \n",
        "   \n",
        "---\n",
        "На 7 вебинаре мы разберем рекомендательные системы из HeadHunter"
      ],
      "metadata": {
        "id": "40b-1kBbo1hY"
      }
    },
    {
      "cell_type": "markdown",
      "source": [
        "---"
      ],
      "metadata": {
        "id": "4qVx3IG0o1hZ"
      }
    },
    {
      "cell_type": "markdown",
      "source": [
        "# 2. ML-mетрики качества"
      ],
      "metadata": {
        "id": "8VrZhsIbo1ha"
      }
    },
    {
      "cell_type": "markdown",
      "source": [
        "*Хороши ли рекомендации, предлагаемые моделью?*  \n",
        "Обычно считаются для каждого юзера, затем усредняются по юзерам"
      ],
      "metadata": {
        "id": "0dnPDNLYo1hc"
      }
    },
    {
      "cell_type": "markdown",
      "source": [
        "Представим, что в магазине всего 10 товаров"
      ],
      "metadata": {
        "id": "VrlXLSNao1he"
      }
    },
    {
      "cell_type": "code",
      "source": [
        "# список товаров, которые мы порекомендуем пользователю в заданном порядке\n",
        "recommended_list = [143, 156, 1134, 991, 27, 1543, 3345, 533, 11, 43] #id товаров\n",
        "\n",
        "# юзер 1 купил данные товары\n",
        "bought_list = [521, 32, 143, 991]"
      ],
      "metadata": {
        "id": "bxqcDo_vo1hh",
        "trusted": true
      },
      "execution_count": null,
      "outputs": []
    },
    {
      "cell_type": "markdown",
      "source": [
        "### 1. Hit rate\n",
        "\n",
        "Hit rate = был ли хотя бы 1 релевантный товар среди рекомендованных\n",
        "\n",
        "- Иногда применяется, когда продаются достаточно дорогие товары (например, бытовая техника) \n",
        "\n",
        "----\n",
        "Hit rate = (был ли хотя бы 1 релевантный товар среди рекомендованных)   \n",
        "\n",
        "Hit rate@k = (был ли хотя бы 1 релевантный товар среди топ-k рекомендованных)"
      ],
      "metadata": {
        "id": "IZ6mlwcSo1hn"
      }
    },
    {
      "cell_type": "code",
      "source": [
        "def hit_rate(recommended_list, bought_list):\n",
        "    bought_list = np.array(bought_list)\n",
        "    recommended_list = np.array(recommended_list)\n",
        "    \n",
        "    flags = np.isin(bought_list, recommended_list)\n",
        "    return (flags.sum() > 0) * 1"
      ],
      "metadata": {
        "id": "UdC9moeIo1ho",
        "trusted": true
      },
      "execution_count": null,
      "outputs": []
    },
    {
      "cell_type": "code",
      "source": [
        "\n",
        "def hit_rate_at_k(recommended_list, bought_list, k=5):\n",
        "    return hit_rate(recommended_list[:k], bought_list)"
      ],
      "metadata": {
        "trusted": true,
        "id": "_yCo8ReuAH4-"
      },
      "execution_count": null,
      "outputs": []
    },
    {
      "cell_type": "code",
      "source": [
        "recommended_list = [15, 1, 143,156, 1134, 27, 1543, 3345, 533, 11, 43] #id товаров\n",
        "bought_list = [521, 32, 143, 991]"
      ],
      "metadata": {
        "trusted": true,
        "id": "a6_SPOJKAH4_"
      },
      "execution_count": null,
      "outputs": []
    },
    {
      "cell_type": "code",
      "source": [
        "hit_rate(recommended_list, bought_list)"
      ],
      "metadata": {
        "id": "cQXLlorio1hs",
        "outputId": "1d1b69db-3909-4fe1-e600-e900847bb26d",
        "trusted": true
      },
      "execution_count": null,
      "outputs": [
        {
          "execution_count": 21,
          "output_type": "execute_result",
          "data": {
            "text/plain": "1"
          },
          "metadata": {}
        }
      ]
    },
    {
      "cell_type": "code",
      "source": [
        "hit_rate_at_k(recommended_list, bought_list, k=2)"
      ],
      "metadata": {
        "trusted": true,
        "id": "k2oGOaFKAH4_",
        "outputId": "ee091715-beab-4ad5-a775-9c7c33b3d153"
      },
      "execution_count": null,
      "outputs": [
        {
          "execution_count": 24,
          "output_type": "execute_result",
          "data": {
            "text/plain": "0"
          },
          "metadata": {}
        }
      ]
    },
    {
      "cell_type": "markdown",
      "source": [
        "### 2. Precision\n",
        "\n",
        "*Precision* - доля релевантных товаров среди рекомендованных = Какой % рекомендованных товаров  юзер купил\n",
        "\n",
        "- Пожалуй, самая приближенная к бизнес-метрикам и самая популярная метрика\n",
        "\n",
        "---\n",
        "\n",
        "Precision= (# of recommended items that are relevant) / (# of recommended items)  \n",
        "\n",
        "Precision@k = (# of recommended items @k that are relevant) / (# of recommended items @k)\n",
        "\n",
        "Money Precision@k = (revenue of recommended items @k that are relevant) / (revenue of recommended items @k)  \n",
        "\n",
        "**Note:** Обычно k в precision@k достаточно невелико (5-20) и определяется из бизнес-логики. Например, 5 товаров в e-mail рассылке, 20 ответов на первой странице google и т.д"
      ],
      "metadata": {
        "id": "iwXCUigno1hy"
      }
    },
    {
      "cell_type": "markdown",
      "source": [
        "Красная рыба - 400 руб  \n",
        "Молоко - 60 руб  \n",
        "Хлеб = 40 руб  \n",
        "Гречка = 40 руб  \n",
        "Шоколад = 90 руб  \n",
        "\n",
        "------  \n",
        "Варенье - 240 руб  \n",
        "...  \n",
        "\n",
        "**Case 1**  \n",
        "prices_resommended = [400, 60, 40, 40 , 90]  \n",
        "flags = [1, 0, 0, 0 , 1]  \n",
        "\n",
        "$precison@5 = \\frac{1 + 0 + 0 +0 + 1}{1+1+1+1+1} = 40\\%$  \n",
        "$money precision@5 = \\frac{1*400 + 0*60 + ... + 1*90}{1*400 + 1*60 + ... + 1*90} = 77.7\\%$  \n",
        "\n",
        "  \n",
        "**Case 2**   \n",
        "prices_resommended = [400, 60, 40, 40 , 90]  \n",
        "flags = [0, 1, 0, 0 , 1]  \n",
        "\n",
        "$precison@5 = \\frac{0 + 1 + 0 +0 + 1}{1+1+1+1+1} = 40\\%$  \n",
        "$money precision@5 = \\frac{0*400 + 1*60 + ... + 1*90}{1*400 + 1*60 + ... + 1*90} = 15.8\\%$"
      ],
      "metadata": {
        "id": "WvSzvvmMo1hz"
      }
    },
    {
      "cell_type": "code",
      "source": [
        "recommended_list = [2,3,8,6,9,2,5,10] #id товаров\n",
        "bought_list = [1,5,6]"
      ],
      "metadata": {
        "trusted": true,
        "id": "ZuM7kgkzAH5A"
      },
      "execution_count": 1,
      "outputs": []
    },
    {
      "cell_type": "code",
      "source": [
        "def precision(recommended_list, bought_list):\n",
        "    \n",
        "    bought_list = np.array(bought_list)\n",
        "    recommended_list = np.array(recommended_list)\n",
        "    \n",
        "    flags = np.isin(bought_list, recommended_list)\n",
        "    return flags.sum() / len(recommended_list)"
      ],
      "metadata": {
        "id": "bDZRoYivo1h1",
        "trusted": true
      },
      "execution_count": 2,
      "outputs": []
    },
    {
      "cell_type": "code",
      "source": [
        "precision(recommended_list, bought_list)"
      ],
      "metadata": {
        "trusted": true,
        "colab": {
          "base_uri": "https://localhost:8080/",
          "height": 288
        },
        "id": "IxZKgJnqAH5A",
        "outputId": "68f88d54-5f49-436e-d74d-5f5f622f9820"
      },
      "execution_count": 3,
      "outputs": [
        {
          "output_type": "error",
          "ename": "NameError",
          "evalue": "ignored",
          "traceback": [
            "\u001b[0;31m---------------------------------------------------------------------------\u001b[0m",
            "\u001b[0;31mNameError\u001b[0m                                 Traceback (most recent call last)",
            "\u001b[0;32m<ipython-input-3-759e39150bf7>\u001b[0m in \u001b[0;36m<module>\u001b[0;34m()\u001b[0m\n\u001b[0;32m----> 1\u001b[0;31m \u001b[0mprecision\u001b[0m\u001b[0;34m(\u001b[0m\u001b[0mrecommended_list\u001b[0m\u001b[0;34m,\u001b[0m \u001b[0mbought_list\u001b[0m\u001b[0;34m)\u001b[0m\u001b[0;34m\u001b[0m\u001b[0;34m\u001b[0m\u001b[0m\n\u001b[0m",
            "\u001b[0;32m<ipython-input-2-8ddd9b654bcb>\u001b[0m in \u001b[0;36mprecision\u001b[0;34m(recommended_list, bought_list)\u001b[0m\n\u001b[1;32m      1\u001b[0m \u001b[0;32mdef\u001b[0m \u001b[0mprecision\u001b[0m\u001b[0;34m(\u001b[0m\u001b[0mrecommended_list\u001b[0m\u001b[0;34m,\u001b[0m \u001b[0mbought_list\u001b[0m\u001b[0;34m)\u001b[0m\u001b[0;34m:\u001b[0m\u001b[0;34m\u001b[0m\u001b[0;34m\u001b[0m\u001b[0m\n\u001b[1;32m      2\u001b[0m \u001b[0;34m\u001b[0m\u001b[0m\n\u001b[0;32m----> 3\u001b[0;31m     \u001b[0mbought_list\u001b[0m \u001b[0;34m=\u001b[0m \u001b[0mnp\u001b[0m\u001b[0;34m.\u001b[0m\u001b[0marray\u001b[0m\u001b[0;34m(\u001b[0m\u001b[0mbought_list\u001b[0m\u001b[0;34m)\u001b[0m\u001b[0;34m\u001b[0m\u001b[0;34m\u001b[0m\u001b[0m\n\u001b[0m\u001b[1;32m      4\u001b[0m     \u001b[0mrecommended_list\u001b[0m \u001b[0;34m=\u001b[0m \u001b[0mnp\u001b[0m\u001b[0;34m.\u001b[0m\u001b[0marray\u001b[0m\u001b[0;34m(\u001b[0m\u001b[0mrecommended_list\u001b[0m\u001b[0;34m)\u001b[0m\u001b[0;34m\u001b[0m\u001b[0;34m\u001b[0m\u001b[0m\n\u001b[1;32m      5\u001b[0m \u001b[0;34m\u001b[0m\u001b[0m\n",
            "\u001b[0;31mNameError\u001b[0m: name 'np' is not defined"
          ]
        }
      ]
    },
    {
      "cell_type": "code",
      "source": [
        "def precision_at_k(recommended_list, bought_list, k=5):\n",
        "    return precision(recommended_list[:k], bought_list)"
      ],
      "metadata": {
        "trusted": true,
        "id": "XJ7R8oK4AH5A"
      },
      "execution_count": null,
      "outputs": []
    },
    {
      "cell_type": "code",
      "source": [
        "precision_at_k(recommended_list, bought_list, k=6)"
      ],
      "metadata": {
        "id": "rfL2QSH1o1h5",
        "trusted": true
      },
      "execution_count": null,
      "outputs": []
    },
    {
      "cell_type": "code",
      "source": [
        "def money_precision_at_k(recommended_list, bought_list, prices_recommended, k=5):\n",
        "    \n",
        "    recommend_list = np.array(recommended_list)[:k]\n",
        "    prices_recommended = np.array(prices_recommended)[:k]\n",
        "    \n",
        "    flags = np.isin(recommend_list, bought_list)\n",
        "    \n",
        "    precision = np.dot(flags, prices_recommended).sum() / prices_recommended.sum()\n",
        "    \n",
        "    return precision"
      ],
      "metadata": {
        "id": "35CJV2C7o1iB",
        "trusted": true
      },
      "execution_count": null,
      "outputs": []
    },
    {
      "cell_type": "code",
      "source": [
        "prices = [23,2233,534,56,1]\n",
        "money_precision_at_k(recommended_list, bought_list, prices)"
      ],
      "metadata": {
        "trusted": true,
        "id": "u3MP9nBvAH5B"
      },
      "execution_count": null,
      "outputs": []
    },
    {
      "cell_type": "markdown",
      "source": [
        "### 3. Recall\n",
        "\n",
        "*Recall* - доля рекомендованных товаров среди релевантных = Какой % купленных товаров был среди рекомендованных\n",
        "\n",
        "- Обычно используется для моделей пре-фильтрации товаров (убрать те товары, которые точно не будем рекомендовать)\n",
        "\n",
        "---\n",
        "\n",
        "Recall= (# of recommended items that are relevant) / (# of relevant items)  \n",
        "\n",
        "Recall@k = (# of recommended items @k that are relevant) / (# of relevant items)\n",
        "\n",
        "Money Recall@k = (revenue of recommended items @k that are relevant) / (revenue of relevant items)  \n",
        "\n",
        "    \n",
        "  \n",
        "**Note:** в recall@k число k обычно достаточно большое (50-200), больше чем покупок у среднестатистического юзера"
      ],
      "metadata": {
        "id": "NfVd3dnCo1iN"
      }
    },
    {
      "cell_type": "code",
      "source": [
        "def recall(recommended_list, bought_list):\n",
        "    \n",
        "    bought_list = np.array(bought_list)\n",
        "    recommended_list = np.array(recommended_list)\n",
        "    \n",
        "    flags = np.isin(bought_list, recommended_list)\n",
        "    return flags.sum() / len(bought_list)\n",
        "    \n",
        "\n",
        "def recall_at_k(recommended_list, bought_list, k=5):\n",
        "    return recall(recommended_list[:k], bought_list)\n",
        "\n",
        "\n",
        "def money_recall_at_k(recommended_list, bought_list, prices_recommended, prices_bought, k=5):\n",
        "    \n",
        "    recommend_list = np.array(recommended_list)[:k]\n",
        "    prices_recommended = np.array(prices_recommended)[:k]\n",
        "    \n",
        "    prices_bought = np.array(prices_bought)\n",
        "    \n",
        "    flags = np.isin(recommend_list, bought_list)\n",
        "    \n",
        "    recall = np.dot(flags, prices_recommended).sum() / prices_bought.sum()\n",
        "    \n",
        "    return recall"
      ],
      "metadata": {
        "id": "g2sl_HTfo1iS",
        "trusted": true
      },
      "execution_count": null,
      "outputs": []
    },
    {
      "cell_type": "code",
      "source": [
        "recall(recommended_list, bought_list)"
      ],
      "metadata": {
        "id": "kd4I_xqvo1iX",
        "outputId": "2e90ab42-c647-4087-c536-454d10f5f305",
        "trusted": true
      },
      "execution_count": null,
      "outputs": [
        {
          "execution_count": 71,
          "output_type": "execute_result",
          "data": {
            "text/plain": "0.6666666666666666"
          },
          "metadata": {}
        }
      ]
    },
    {
      "cell_type": "code",
      "source": [
        "recall_at_k(recommended_list, bought_list, k=6)"
      ],
      "metadata": {
        "trusted": true,
        "id": "zdmb5_Q2AH5C",
        "outputId": "99692a4b-1810-462d-a72e-820ecb05eaad"
      },
      "execution_count": null,
      "outputs": [
        {
          "execution_count": 72,
          "output_type": "execute_result",
          "data": {
            "text/plain": "0.3333333333333333"
          },
          "metadata": {}
        }
      ]
    },
    {
      "cell_type": "code",
      "source": [
        "prices_bought = [23,56,1]\n",
        "money_recall_at_k(recommended_list, bought_list, prices, prices_bought, k=4)"
      ],
      "metadata": {
        "trusted": true,
        "id": "jb-pvyeUAH5C",
        "outputId": "59755fac-0cd9-4462-bc0c-9d534d4fe354"
      },
      "execution_count": null,
      "outputs": [
        {
          "execution_count": 77,
          "output_type": "execute_result",
          "data": {
            "text/plain": "0.7"
          },
          "metadata": {}
        }
      ]
    },
    {
      "cell_type": "markdown",
      "source": [
        "---"
      ],
      "metadata": {
        "id": "A-9Go3EOo1ib"
      }
    },
    {
      "cell_type": "markdown",
      "source": [
        "# Метрики ранжирования"
      ],
      "metadata": {
        "id": "p06Ri8-go1ic"
      }
    },
    {
      "cell_type": "markdown",
      "source": [
        "Metrics: https://en.wikipedia.org/wiki/Evaluation_measures_(information_retrieval)"
      ],
      "metadata": {
        "id": "ht7Rmv38AH5C"
      }
    },
    {
      "cell_type": "markdown",
      "source": [
        "Если важен порядок рекомендаций."
      ],
      "metadata": {
        "id": "Rnd4DCp5o1id"
      }
    },
    {
      "cell_type": "markdown",
      "source": [
        "## AP@k\n",
        "AP@k - average precision at k\n",
        "\n",
        "$$AP@k = \\frac{1}{r} \\sum{[recommended_{relevant_i}] * precision@k}$$\n",
        "\n",
        "- r - кол-во релевантный среди рекомендованных\n",
        "- Суммируем по всем релевантным товарам\n",
        "- Зависит от порядка рекомендаций"
      ],
      "metadata": {
        "id": "F95YT0wwo1id"
      }
    },
    {
      "cell_type": "code",
      "source": [
        "recommended_list = [22, 21, 4, 1, 234, 232432,234234,666] #id товаров\n",
        "bought_list = [1, 221, 3, 4,]"
      ],
      "metadata": {
        "trusted": true,
        "id": "owvl6opUAH5D"
      },
      "execution_count": null,
      "outputs": []
    },
    {
      "cell_type": "code",
      "source": [
        "def ap_k(recommended_list, bought_list, k=5):\n",
        "    \n",
        "    bought_list = np.array(bought_list)\n",
        "    recommended_list = np.array(recommended_list)[:k]\n",
        "    \n",
        "    relevant_indexes = np.nonzero(np.isin(recommended_list, bought_list))[0]\n",
        "    if len(relevant_indexes) == 0:\n",
        "        return 0\n",
        "    \n",
        "    amount_relevant = len(relevant_indexes)\n",
        "            \n",
        "    sum_ = sum([precision_at_k(recommended_list, bought_list, k=index_relevant+1) for index_relevant in relevant_indexes])\n",
        "    return sum_/amount_relevant\n",
        "  \n",
        "    "
      ],
      "metadata": {
        "trusted": true,
        "id": "wZ_z4DF5AH5D"
      },
      "execution_count": null,
      "outputs": []
    },
    {
      "cell_type": "code",
      "source": [
        "ap_k(recommended_list, bought_list, k=5)"
      ],
      "metadata": {
        "trusted": true,
        "id": "ld31ZDthAH5D",
        "outputId": "bc54670e-d379-4c12-8625-0d46c6b49490"
      },
      "execution_count": null,
      "outputs": [
        {
          "execution_count": 82,
          "output_type": "execute_result",
          "data": {
            "text/plain": "0.41666666666666663"
          },
          "metadata": {}
        }
      ]
    },
    {
      "cell_type": "markdown",
      "source": [
        "### MAP@k\n",
        "\n",
        "MAP@k (Mean Average Precision@k)  \n",
        "Среднее AP@k по всем юзерам\n",
        "- Показывает средневзвешенную точность рекомендаций\n",
        "\n",
        "$$MAP@k = \\frac{1}{|U|} \\sum_u{AP_k}$$\n",
        "  \n",
        "|U| - кол-во юзеров"
      ],
      "metadata": {
        "id": "GyKVp_A_o1ip"
      }
    },
    {
      "cell_type": "code",
      "source": [
        "# теперь список из 3 пользователей\n",
        "recommended_list_3_users = [[143, 156, 1134, 991, 27, 1543, 3345, 533, 11, 43], \n",
        "                    [1134, 533, 14, 4, 15, 1543, 1, 99, 27, 3345],\n",
        "                    [991, 3345, 27, 533, 43, 143, 1543, 156, 1134, 11]\n",
        "                    ]\n",
        "\n",
        "bought_list_3_users = [[521, 32, 143],  # юзер 1\n",
        "                       [143, 156, 991, 43, 11], # юзер 2\n",
        "                       [1,2]] # юзер 3"
      ],
      "metadata": {
        "trusted": true,
        "id": "OOC-D4vYAH5E"
      },
      "execution_count": null,
      "outputs": []
    },
    {
      "cell_type": "code",
      "source": [
        "def map_k(recommended_list, bought_list, k=5):\n",
        "    \n",
        "    users_count = len(recommended_list_3_users)\n",
        "    result = 0\n",
        "    \n",
        "    for i in range(users_count):\n",
        "        result += ap_k(recommended_list_3_users[i], bought_list_3_users[i], k=5)\n",
        "    \n",
        "    result = result / users_count\n",
        "    \n",
        "    return result"
      ],
      "metadata": {
        "id": "heZq-3_Vo1iq",
        "trusted": true
      },
      "execution_count": null,
      "outputs": []
    },
    {
      "cell_type": "code",
      "source": [
        "map_k(recommended_list, bought_list, k=5)"
      ],
      "metadata": {
        "trusted": true,
        "id": "EXnlDVvRAH5E",
        "outputId": "a3dab386-f107-4c11-9679-5b0b562e2a9f"
      },
      "execution_count": null,
      "outputs": [
        {
          "execution_count": 188,
          "output_type": "execute_result",
          "data": {
            "text/plain": "0.3333333333333333"
          },
          "metadata": {}
        }
      ]
    },
    {
      "cell_type": "markdown",
      "source": [
        "### AUC@k\n",
        "AUC для первых k наблюдений  \n",
        "- Можно посчитать как sklern.metrics.roc_auc_score для топ-k предсказаний\n",
        "- Показывает долю верно отранжированных товаров"
      ],
      "metadata": {
        "id": "Ziy893rxo1iw"
      }
    },
    {
      "cell_type": "markdown",
      "source": [
        "### Normalized discounted cumulative gain ( NDCG@k)\n",
        "\n",
        "\n",
        "$$DCG = \\frac{1}{|r|} \\sum_u{\\frac{[bought fact]}{discount(i)}}$$  \n",
        "\n",
        "$discount(i) = i$ if $i <= 2$,   \n",
        "$discount(i) = log_2(i+1)$ if $i > 2$\n",
        "\n",
        "\n",
        "(!) Считаем для первых k рекоммендаций   \n",
        "(!) - существуют вариации с другими $discount(i)$  \n",
        "i - ранк рекомендованного товара  \n",
        "|r| - кол-во рекомендованных товаров \n",
        "\n",
        "$$NDCG = \\frac{DCG}{ideal DCG}$$\n"
      ],
      "metadata": {
        "id": "-aRUBub7o1ix"
      }
    },
    {
      "cell_type": "markdown",
      "source": [
        "$DCG@5 = \\frac{1}{5}*(1 / 1 + 0 / 2 + 0 / log(3) + 1 / log(4) + 0 / log(5))$  \n",
        "$ideal DCG@5 = \\frac{1}{5}*(1 / 1 + 1 / 2 + 1 / log(3) + 1 / log(4) + 1 / log(5))$  \n",
        "\n",
        "$NDCG = \\frac{DCG}{ideal DCG}$"
      ],
      "metadata": {
        "id": "zHpCD4lKo1i1"
      }
    },
    {
      "cell_type": "code",
      "source": [
        "# по желанию\n",
        "def ndcg_at_k():\n",
        "    pass"
      ],
      "metadata": {
        "id": "TYaP2ygbAH5F"
      },
      "execution_count": null,
      "outputs": []
    },
    {
      "cell_type": "markdown",
      "source": [
        "### Mean Reciprocal Rank ( MRR@k )\n",
        "\n",
        "\n",
        "- Считаем для первых k рекоммендаций\n",
        "- Найти ранк первого релевантного предсказания $k_u$\n",
        "- Посчитать reciprocal rank = $\\frac{1}{k_u}$\n",
        "\n",
        "$$MRR = mean(\\frac{1}{k_u})$$"
      ],
      "metadata": {
        "id": "T7Y-Jtcdo1i6"
      }
    },
    {
      "cell_type": "code",
      "source": [
        "def mean_reciprocal_rank(recommended_list, bought_list, k=5):\n",
        "    \n",
        "    rank_list = []\n",
        "    \n",
        "    for i in range(len(recommended_list_3_users)):\n",
        "        relevant_index = np.nonzero(np.isin(recommended_list_3_users[i][:k], bought_list_3_users[i]))[0]\n",
        "        if relevant_index.size:\n",
        "            rank = (relevant_index[0] + 1) / len(recommended_list_3_users[i][:k])\n",
        "            rank_list.append(rank)\n",
        "        else:\n",
        "            rank_list.append(0)\n",
        "       \n",
        "    return np.mean(rank_list)"
      ],
      "metadata": {
        "trusted": true,
        "id": "5rqvZUZJAH5F"
      },
      "execution_count": null,
      "outputs": []
    },
    {
      "cell_type": "code",
      "source": [
        "mean_reciprocal_rank(recommended_list_3_users, bought_list_3_users, k=5)"
      ],
      "metadata": {
        "trusted": true,
        "id": "V6DLthRnAH5F",
        "outputId": "3d138839-5fe5-4ba1-bd6e-98b2c2ce906d"
      },
      "execution_count": null,
      "outputs": [
        {
          "name": "stdout",
          "text": "0.2\n",
          "output_type": "stream"
        },
        {
          "execution_count": 196,
          "output_type": "execute_result",
          "data": {
            "text/plain": "0.06666666666666667"
          },
          "metadata": {}
        }
      ]
    },
    {
      "cell_type": "markdown",
      "source": [
        "\n",
        "\n"
      ],
      "metadata": {
        "id": "ZM-4TlgWo1i-"
      }
    },
    {
      "cell_type": "markdown",
      "source": [
        "# 3. Связь бизнес-метрик, ML-метрик и функции потерь(loss)"
      ],
      "metadata": {
        "id": "DlPGKta8o1i_"
      }
    },
    {
      "cell_type": "markdown",
      "source": [
        "- **loss** - то, что оптимизирует модель (RMSE - Root Mean Squared Error)\n",
        "- **ML-метрика** - то, как мы измеряем качество на test (money precision@5)\n",
        "- **Бизнес-метрика** - то, что хочет оптимизировать бизнес (выручка)\n",
        "\n",
        "В идеале loss = ML-метрика = бизнес-метрика, но это возможно в очень редких случаях\n",
        "\n",
        "Надеемся, что:  \n",
        "    *Оптимизация loss --> рост ML-метрик --> рост бизнес-метрик*"
      ],
      "metadata": {
        "id": "uOUGeoTco1i_"
      }
    },
    {
      "cell_type": "markdown",
      "source": [
        "### Пример: рекомендательная система товаров на сайте  \n",
        "      \n",
        "На сайте есть баннер, на котором мы можем разместить 5 товаров. Надо порекомендовать эти 5 товаров персонально каждому юзеру\n",
        "\n",
        "*Шаг 1: Определим бизнес-метрику*  \n",
        "Бизнес хочет максимизировать выручку --> бизнес-метрика - **Выручка**  \n",
        "\n",
        "*Шаг 2: Разложим ее на составляющие*  \n",
        "Выручка =   \n",
        "       Средний чек * кол-во покупок =   \n",
        "       Средний чек * (число юзеров * конверсия из захода на сайт в заказ) =\n",
        "       Число юзеров * (Средний чек * конверсия из захода на сайт в заказ)\n",
        "       \n",
        "Рекомендательная система влияет только на (Средний чек * конверсия из захода на сайт в заказ).   \n",
        "Хорошим приближением этого является **money precision@5** - ML-метрика\n",
        "\n",
        "*Шаг 3: loss*  \n",
        "Это существенно сложнее. Персонализированные ML-модели не умеют напрямую оптимизировать конверсию. Стандартный loss - **RMSE**. Можно для начала попробовать его. \n",
        "\n",
        "P.S. Если вы хотите приблизить RMSE к money precision@5, то можно посчитать weighted RMSE, где вес каждого наблюдения = стоимость товара.   \n",
        "P.S.S. Про другие виды loss будет рассказано в курсе"
      ],
      "metadata": {
        "id": "P9bMXLKro1jA"
      }
    },
    {
      "cell_type": "markdown",
      "source": [
        "# Полезные ссылки"
      ],
      "metadata": {
        "id": "JJikvpxkAH5G"
      }
    },
    {
      "cell_type": "markdown",
      "source": [
        "Статьи: https://docs.google.com/document/d/16L1u5zuQyT5rSAQNk2Q7Zk5KzqlPqWTpYa2cPK3QU0Y/edit?usp=sharing"
      ],
      "metadata": {
        "id": "auxAQ5jOAH5G"
      }
    },
    {
      "cell_type": "markdown",
      "source": [
        "# Домашнее задание \n",
        "\n",
        "**1) Приведите еще примеры метрик для оценки рекомендаций/ранжирования (можно взять из интернета, или ваши знания)**\n",
        "\n",
        "**2) Доделать все функции, где стоит комментарий \"сделать дома\"**"
      ],
      "metadata": {
        "id": "THzi51GUAH5G"
      }
    },
    {
      "cell_type": "code",
      "source": [
        ""
      ],
      "metadata": {
        "id": "W-coRsyMAH5H"
      },
      "execution_count": null,
      "outputs": []
    }
  ]
}